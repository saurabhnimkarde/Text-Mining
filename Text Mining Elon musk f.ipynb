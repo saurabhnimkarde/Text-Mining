{
 "cells": [
  {
   "cell_type": "code",
   "execution_count": 70,
   "id": "87920a9d",
   "metadata": {},
   "outputs": [],
   "source": [
    "import pandas as pd\n",
    "import numpy as np\n",
    "import matplotlib.pyplot as plt \n",
    "from matplotlib.pyplot import imread\n",
    "import string "
   ]
  },
  {
   "cell_type": "code",
   "execution_count": 71,
   "id": "779f185c",
   "metadata": {
    "collapsed": true
   },
   "outputs": [
    {
     "name": "stdout",
     "output_type": "stream",
     "text": [
      "Requirement already satisfied: spacy in c:\\users\\pearl\\anaconda3\\lib\\site-packages (3.2.0)\n",
      "Requirement already satisfied: catalogue<2.1.0,>=2.0.6 in c:\\users\\pearl\\anaconda3\\lib\\site-packages (from spacy) (2.0.6)\n",
      "Requirement already satisfied: srsly<3.0.0,>=2.4.1 in c:\\users\\pearl\\anaconda3\\lib\\site-packages (from spacy) (2.4.2)\n",
      "Requirement already satisfied: cymem<2.1.0,>=2.0.2 in c:\\users\\pearl\\anaconda3\\lib\\site-packages (from spacy) (2.0.6)\n",
      "Requirement already satisfied: pathy>=0.3.5 in c:\\users\\pearl\\anaconda3\\lib\\site-packages (from spacy) (0.6.1)\n",
      "Requirement already satisfied: pydantic!=1.8,!=1.8.1,<1.9.0,>=1.7.4 in c:\\users\\pearl\\anaconda3\\lib\\site-packages (from spacy) (1.8.2)\n",
      "Requirement already satisfied: typer<0.5.0,>=0.3.0 in c:\\users\\pearl\\anaconda3\\lib\\site-packages (from spacy) (0.4.0)\n",
      "Requirement already satisfied: langcodes<4.0.0,>=3.2.0 in c:\\users\\pearl\\anaconda3\\lib\\site-packages (from spacy) (3.3.0)\n",
      "Requirement already satisfied: murmurhash<1.1.0,>=0.28.0 in c:\\users\\pearl\\anaconda3\\lib\\site-packages (from spacy) (1.0.6)\n",
      "Requirement already satisfied: tqdm<5.0.0,>=4.38.0 in c:\\users\\pearl\\anaconda3\\lib\\site-packages (from spacy) (4.59.0)\n",
      "Requirement already satisfied: numpy>=1.15.0 in c:\\users\\pearl\\anaconda3\\lib\\site-packages (from spacy) (1.20.1)\n",
      "Requirement already satisfied: requests<3.0.0,>=2.13.0 in c:\\users\\pearl\\anaconda3\\lib\\site-packages (from spacy) (2.25.1)\n",
      "Requirement already satisfied: spacy-loggers<2.0.0,>=1.0.0 in c:\\users\\pearl\\anaconda3\\lib\\site-packages (from spacy) (1.0.1)\n",
      "Requirement already satisfied: jinja2 in c:\\users\\pearl\\anaconda3\\lib\\site-packages (from spacy) (2.11.3)\n",
      "Requirement already satisfied: setuptools in c:\\users\\pearl\\anaconda3\\lib\\site-packages (from spacy) (52.0.0.post20210125)\n",
      "Requirement already satisfied: packaging>=20.0 in c:\\users\\pearl\\anaconda3\\lib\\site-packages (from spacy) (20.9)\n",
      "Requirement already satisfied: blis<0.8.0,>=0.4.0 in c:\\users\\pearl\\anaconda3\\lib\\site-packages (from spacy) (0.7.5)\n",
      "Requirement already satisfied: preshed<3.1.0,>=3.0.2 in c:\\users\\pearl\\anaconda3\\lib\\site-packages (from spacy) (3.0.6)\n",
      "Requirement already satisfied: wasabi<1.1.0,>=0.8.1 in c:\\users\\pearl\\anaconda3\\lib\\site-packages (from spacy) (0.8.2)\n",
      "Requirement already satisfied: thinc<8.1.0,>=8.0.12 in c:\\users\\pearl\\anaconda3\\lib\\site-packages (from spacy) (8.0.13)\n",
      "Requirement already satisfied: spacy-legacy<3.1.0,>=3.0.8 in c:\\users\\pearl\\anaconda3\\lib\\site-packages (from spacy) (3.0.8)\n",
      "Requirement already satisfied: pyparsing>=2.0.2 in c:\\users\\pearl\\anaconda3\\lib\\site-packages (from packaging>=20.0->spacy) (2.4.7)\n",
      "Requirement already satisfied: smart-open<6.0.0,>=5.0.0 in c:\\users\\pearl\\anaconda3\\lib\\site-packages (from pathy>=0.3.5->spacy) (5.2.1)\n",
      "Requirement already satisfied: typing-extensions>=3.7.4.3 in c:\\users\\pearl\\anaconda3\\lib\\site-packages (from pydantic!=1.8,!=1.8.1,<1.9.0,>=1.7.4->spacy) (3.7.4.3)\n",
      "Requirement already satisfied: urllib3<1.27,>=1.21.1 in c:\\users\\pearl\\anaconda3\\lib\\site-packages (from requests<3.0.0,>=2.13.0->spacy) (1.26.4)\n",
      "Requirement already satisfied: idna<3,>=2.5 in c:\\users\\pearl\\anaconda3\\lib\\site-packages (from requests<3.0.0,>=2.13.0->spacy) (2.10)\n",
      "Requirement already satisfied: certifi>=2017.4.17 in c:\\users\\pearl\\anaconda3\\lib\\site-packages (from requests<3.0.0,>=2.13.0->spacy) (2020.12.5)\n",
      "Requirement already satisfied: chardet<5,>=3.0.2 in c:\\users\\pearl\\anaconda3\\lib\\site-packages (from requests<3.0.0,>=2.13.0->spacy) (4.0.0)\n",
      "Requirement already satisfied: click<9.0.0,>=7.1.1 in c:\\users\\pearl\\anaconda3\\lib\\site-packages (from typer<0.5.0,>=0.3.0->spacy) (7.1.2)\n",
      "Requirement already satisfied: MarkupSafe>=0.23 in c:\\users\\pearl\\anaconda3\\lib\\site-packages (from jinja2->spacy) (1.1.1)\n"
     ]
    }
   ],
   "source": [
    "!pip install spacy"
   ]
  },
  {
   "cell_type": "code",
   "execution_count": 72,
   "id": "588d654d",
   "metadata": {
    "collapsed": true
   },
   "outputs": [
    {
     "name": "stdout",
     "output_type": "stream",
     "text": [
      "Requirement already satisfied: WordCloud in c:\\users\\pearl\\anaconda3\\lib\\site-packages (1.8.1)\n",
      "Requirement already satisfied: pillow in c:\\users\\pearl\\anaconda3\\lib\\site-packages (from WordCloud) (8.2.0)\n",
      "Requirement already satisfied: numpy>=1.6.1 in c:\\users\\pearl\\anaconda3\\lib\\site-packages (from WordCloud) (1.20.1)\n",
      "Requirement already satisfied: matplotlib in c:\\users\\pearl\\anaconda3\\lib\\site-packages (from WordCloud) (3.3.4)\n",
      "Requirement already satisfied: cycler>=0.10 in c:\\users\\pearl\\anaconda3\\lib\\site-packages (from matplotlib->WordCloud) (0.10.0)\n",
      "Requirement already satisfied: python-dateutil>=2.1 in c:\\users\\pearl\\anaconda3\\lib\\site-packages (from matplotlib->WordCloud) (2.8.1)\n",
      "Requirement already satisfied: kiwisolver>=1.0.1 in c:\\users\\pearl\\anaconda3\\lib\\site-packages (from matplotlib->WordCloud) (1.3.1)\n",
      "Requirement already satisfied: pyparsing!=2.0.4,!=2.1.2,!=2.1.6,>=2.0.3 in c:\\users\\pearl\\anaconda3\\lib\\site-packages (from matplotlib->WordCloud) (2.4.7)\n",
      "Requirement already satisfied: six in c:\\users\\pearl\\anaconda3\\lib\\site-packages (from cycler>=0.10->matplotlib->WordCloud) (1.15.0)\n"
     ]
    }
   ],
   "source": [
    "!pip install WordCloud"
   ]
  },
  {
   "cell_type": "code",
   "execution_count": 73,
   "id": "5c297db3",
   "metadata": {},
   "outputs": [],
   "source": [
    "import spacy\n",
    "from wordcloud import WordCloud"
   ]
  },
  {
   "cell_type": "code",
   "execution_count": 74,
   "id": "2f129573",
   "metadata": {},
   "outputs": [],
   "source": [
    "elon = pd.read_csv(\"Elon_musk.csv\")"
   ]
  },
  {
   "cell_type": "code",
   "execution_count": 75,
   "id": "1738839f",
   "metadata": {},
   "outputs": [
    {
     "data": {
      "text/html": [
       "<div>\n",
       "<style scoped>\n",
       "    .dataframe tbody tr th:only-of-type {\n",
       "        vertical-align: middle;\n",
       "    }\n",
       "\n",
       "    .dataframe tbody tr th {\n",
       "        vertical-align: top;\n",
       "    }\n",
       "\n",
       "    .dataframe thead th {\n",
       "        text-align: right;\n",
       "    }\n",
       "</style>\n",
       "<table border=\"1\" class=\"dataframe\">\n",
       "  <thead>\n",
       "    <tr style=\"text-align: right;\">\n",
       "      <th></th>\n",
       "      <th>Unnamed: 0</th>\n",
       "      <th>Text</th>\n",
       "    </tr>\n",
       "  </thead>\n",
       "  <tbody>\n",
       "    <tr>\n",
       "      <th>0</th>\n",
       "      <td>1</td>\n",
       "      <td>@kunalb11 I�m an alien</td>\n",
       "    </tr>\n",
       "    <tr>\n",
       "      <th>1</th>\n",
       "      <td>2</td>\n",
       "      <td>@ID_AA_Carmack Ray tracing on Cyberpunk with H...</td>\n",
       "    </tr>\n",
       "    <tr>\n",
       "      <th>2</th>\n",
       "      <td>3</td>\n",
       "      <td>@joerogan @Spotify Great interview!</td>\n",
       "    </tr>\n",
       "    <tr>\n",
       "      <th>3</th>\n",
       "      <td>4</td>\n",
       "      <td>@gtera27 Doge is underestimated</td>\n",
       "    </tr>\n",
       "    <tr>\n",
       "      <th>4</th>\n",
       "      <td>5</td>\n",
       "      <td>@teslacn Congratulations Tesla China for amazi...</td>\n",
       "    </tr>\n",
       "  </tbody>\n",
       "</table>\n",
       "</div>"
      ],
      "text/plain": [
       "   Unnamed: 0                                               Text\n",
       "0           1                             @kunalb11 I�m an alien\n",
       "1           2  @ID_AA_Carmack Ray tracing on Cyberpunk with H...\n",
       "2           3                @joerogan @Spotify Great interview!\n",
       "3           4                    @gtera27 Doge is underestimated\n",
       "4           5  @teslacn Congratulations Tesla China for amazi..."
      ]
     },
     "execution_count": 75,
     "metadata": {},
     "output_type": "execute_result"
    }
   ],
   "source": [
    "elon.head()"
   ]
  },
  {
   "cell_type": "code",
   "execution_count": 76,
   "id": "d6d08961",
   "metadata": {},
   "outputs": [],
   "source": [
    "elon = elon.loc[:,~elon.columns.str.contains('Unnamed')]"
   ]
  },
  {
   "cell_type": "code",
   "execution_count": 77,
   "id": "5a046867",
   "metadata": {
    "collapsed": true
   },
   "outputs": [
    {
     "data": {
      "text/html": [
       "<div>\n",
       "<style scoped>\n",
       "    .dataframe tbody tr th:only-of-type {\n",
       "        vertical-align: middle;\n",
       "    }\n",
       "\n",
       "    .dataframe tbody tr th {\n",
       "        vertical-align: top;\n",
       "    }\n",
       "\n",
       "    .dataframe thead th {\n",
       "        text-align: right;\n",
       "    }\n",
       "</style>\n",
       "<table border=\"1\" class=\"dataframe\">\n",
       "  <thead>\n",
       "    <tr style=\"text-align: right;\">\n",
       "      <th></th>\n",
       "      <th>Text</th>\n",
       "    </tr>\n",
       "  </thead>\n",
       "  <tbody>\n",
       "    <tr>\n",
       "      <th>0</th>\n",
       "      <td>@kunalb11 I�m an alien</td>\n",
       "    </tr>\n",
       "    <tr>\n",
       "      <th>1</th>\n",
       "      <td>@ID_AA_Carmack Ray tracing on Cyberpunk with H...</td>\n",
       "    </tr>\n",
       "    <tr>\n",
       "      <th>2</th>\n",
       "      <td>@joerogan @Spotify Great interview!</td>\n",
       "    </tr>\n",
       "    <tr>\n",
       "      <th>3</th>\n",
       "      <td>@gtera27 Doge is underestimated</td>\n",
       "    </tr>\n",
       "    <tr>\n",
       "      <th>4</th>\n",
       "      <td>@teslacn Congratulations Tesla China for amazi...</td>\n",
       "    </tr>\n",
       "    <tr>\n",
       "      <th>...</th>\n",
       "      <td>...</td>\n",
       "    </tr>\n",
       "    <tr>\n",
       "      <th>1994</th>\n",
       "      <td>@flcnhvy True, it sounds so surreal, but the n...</td>\n",
       "    </tr>\n",
       "    <tr>\n",
       "      <th>1995</th>\n",
       "      <td>@PPathole Make sure to read ur terms &amp;amp; con...</td>\n",
       "    </tr>\n",
       "    <tr>\n",
       "      <th>1996</th>\n",
       "      <td>@TeslaGong @PPathole Samwise Gamgee</td>\n",
       "    </tr>\n",
       "    <tr>\n",
       "      <th>1997</th>\n",
       "      <td>@PPathole Altho Dumb and Dumber is &lt;U+0001F525...</td>\n",
       "    </tr>\n",
       "    <tr>\n",
       "      <th>1998</th>\n",
       "      <td>Progress update August 28</td>\n",
       "    </tr>\n",
       "  </tbody>\n",
       "</table>\n",
       "<p>1999 rows × 1 columns</p>\n",
       "</div>"
      ],
      "text/plain": [
       "                                                   Text\n",
       "0                                @kunalb11 I�m an alien\n",
       "1     @ID_AA_Carmack Ray tracing on Cyberpunk with H...\n",
       "2                   @joerogan @Spotify Great interview!\n",
       "3                       @gtera27 Doge is underestimated\n",
       "4     @teslacn Congratulations Tesla China for amazi...\n",
       "...                                                 ...\n",
       "1994  @flcnhvy True, it sounds so surreal, but the n...\n",
       "1995  @PPathole Make sure to read ur terms &amp; con...\n",
       "1996                @TeslaGong @PPathole Samwise Gamgee\n",
       "1997  @PPathole Altho Dumb and Dumber is <U+0001F525...\n",
       "1998                          Progress update August 28\n",
       "\n",
       "[1999 rows x 1 columns]"
      ]
     },
     "execution_count": 77,
     "metadata": {},
     "output_type": "execute_result"
    }
   ],
   "source": [
    "elon"
   ]
  },
  {
   "cell_type": "code",
   "execution_count": 78,
   "id": "9a48ac2c",
   "metadata": {},
   "outputs": [],
   "source": [
    "elon = [Text.strip() for Text in elon['Text']]"
   ]
  },
  {
   "cell_type": "code",
   "execution_count": 79,
   "id": "99645268",
   "metadata": {
    "collapsed": true
   },
   "outputs": [
    {
     "data": {
      "text/plain": [
       "['@kunalb11 I�m an alien',\n",
       " '@ID_AA_Carmack Ray tracing on Cyberpunk with HDR is next-level. Have you tried it?',\n",
       " '@joerogan @Spotify Great interview!',\n",
       " '@gtera27 Doge is underestimated',\n",
       " '@teslacn Congratulations Tesla China for amazing execution last year. Now on to the next for even more!!',\n",
       " 'Happy New Year of the Ox! https://t.co/9WFKMYu2oj',\n",
       " 'Frodo was the underdoge,\\nAll thought he would fail,\\nHimself most of all. https://t.co/zGxJFDzzrM',\n",
       " '@OwenSparks_ @flcnhvy @anonyx10 Haha thanks :)',\n",
       " '@flcnhvy @anonyx10 Indeed! Tweets definitely do not represent real-world time allocation.',\n",
       " 'The most entertaining outcome is the most likely',\n",
       " '@GiveDirectly Just sent some',\n",
       " 'Just agree to do Clubhouse with @kanyewest',\n",
       " 'https://t.co/3rWE9uHSTS',\n",
       " '@geoffkeighley @UnrealEngine It�s getting real',\n",
       " 'Bought some Dogecoin for lil X, so he can be a toddler hodler']"
      ]
     },
     "execution_count": 79,
     "metadata": {},
     "output_type": "execute_result"
    }
   ],
   "source": [
    "elon = [Text for Text in elon if Text]          \n",
    "elon[0:15]"
   ]
  },
  {
   "cell_type": "code",
   "execution_count": 80,
   "id": "aac7aba7",
   "metadata": {},
   "outputs": [],
   "source": [
    "text = ' '.join(elon)"
   ]
  },
  {
   "cell_type": "code",
   "execution_count": 81,
   "id": "e431beb5",
   "metadata": {},
   "outputs": [
    {
     "data": {
      "text/plain": [
       "158805"
      ]
     },
     "execution_count": 81,
     "metadata": {},
     "output_type": "execute_result"
    }
   ],
   "source": [
    "len(text)"
   ]
  },
  {
   "cell_type": "code",
   "execution_count": 82,
   "id": "f5b730b1",
   "metadata": {},
   "outputs": [],
   "source": [
    "no_punc_text = text.translate(str.maketrans('','',string.punctuation))"
   ]
  },
  {
   "cell_type": "code",
   "execution_count": 83,
   "id": "d4cd383f",
   "metadata": {
    "collapsed": true
   },
   "outputs": [
    {
     "name": "stdout",
     "output_type": "stream",
     "text": [
      "kunalb11 I�m an alien IDAACarmack Ray tracing on Cyberpunk with HDR is nextlevel Have you tried it joerogan Spotify Great interview gtera27 Doge is underestimated teslacn Congratulations Tesla China for amazing execution last year Now on to the next for even more Happy New Year of the Ox httpstco9WFKMYu2oj Frodo was the underdoge\n",
      "All thought he would fail\n",
      "Himself most of all httpstcozGxJFDzzrM OwenSparks flcnhvy anonyx10 Haha thanks  flcnhvy anonyx10 Indeed Tweets definitely do not represent realworld time allocation The most entertaining outcome is the most likely GiveDirectly Just sent some Just agree to do Clubhouse with kanyewest httpstco3rWE9uHSTS geoffkeighley UnrealEngine It�s getting real Bought some Dogecoin for lil X so he can be a toddler hodler JoshManMode He definitely has issues but the sentencing seems a bit high freewalletorg Thanks for fixing freewalletorg Please unlock my account AstroJordy U0001F923U0001F923 This is true power haha httpstcoFc9uhQSd7O freewalletorg Any crypto wallet that won�t give you your private keys should be avoided at all costs freewalletorg Your app sucks RT SpaceX NASA has selected Falcon Heavy to launch the first two elements of the lunar Gateway together on one mission httpstco3pWt� ajtourville Yes BLKMDL3 RationalEtienne Adamklotz Once we can predict cash flow reasonably well Starlink will IPO RationalEtienne Adamklotz Starlink is a staggeringly difficult technical amp economic endeavor However if we don� httpstco9Z8Ac6skqx RationalEtienne Adamklotz SpaceX needs to pass through a deep chasm of negative cash flow over the next year or� httpstco7J1c92hdjl IDAACarmack Lowest cost per ton of carbon sequestered net of value of any product made \n",
      "\n",
      "Must be scalable to g� httpstcoXMyI7qWSgw Adamklotz It�s meant to be the same price in all countries Only difference should be taxes amp shipping tobyliiiiiiiiii This is intended for Earth but there may be some ideas that apply to Mars too CryptoShrikar CoinDesk Tesla DanZPalmer U0001F923U0001F923 XPrize team will manage the 100M carbon capture prize httpstcofSw5IanL0r SRuhle Everyone at Tesla receives stock \n",
      "\n",
      "My comp is all stockoptions which I do not take off the table \n",
      "\n",
      "That�s what you�re missing Back to work I go � CapybaraSurfer MattWallace888 Does seem a bit high itsALLrisky Doge appears to be inflationary but is not meaningfully so fixed  of coins per unit time whereas� httpstco4UH4rARC6T MichaelGalanin kevinmgill Wow Erdayastronaut michaelhodapp 1 Orbital launch tower that can stack\n",
      "2 Enough Raptors for orbit booster\n",
      "3 Improve ship amp booster mass michaelhodapp Back to work tonight � is for �ogecoin Instructional video\n",
      "httpstcoUEEocOfcTb The people have spoken � httpstcox41oVMzTGo Nivetha742 lexfridman So cute U0001F495 UniverCurious Extremely misleading image as doesn�t reflect true time cost to people or rain amp pain U0001F3B6 Who let the Doge out U0001F3B6 Hodl the rainforests So � it�s finally come to this � httpstcoGf0Rg2QOaF itsALLrisky It�s the most fun crypto JoshRoomsburg SnoopDogg genesimmons Its simplicity is its genius astrogdogg SpaceX Yup Jbuttermost Dogecoinrich U0001F923U0001F923 wapodavenport True Dogecoinrich U0001F923U0001F923 flcnhvy AstroJordy Not that easy This is two decades of intense work Have to look at old notes emails texts AstroJordy Yes Lessons learned Of Earth and Mars Time to tell the story of Tesla amp SpaceX TheOnion Have you read TheBabylonBee It�s great The Second Last Kingdom httpstcoJe4EI88HmV DumDin7 Grimezsz Haven�t heard that name in years � Grimezsz Dogecake YOLT\n",
      "\n",
      "httpstcocnOf9yjpF1 Kristennetten That�s Damian Kristennetten Yeah OwenSparks Sure The great thing about restaurants is that you get to hang out with strangers  SJM The future currency of Earth redlineshifter Just a scratch Much wow RationalEtienne U0001F5A4 wonderofscience Destiny RenataKonkoly Teslarati woodhaus2 Franz was essential Erdayastronaut joshbickett ajtourville SpaceX That said the ship landing burn has a clear solution My greate� httpstcoe5Wikiugkz Adamklotz Erdayastronaut joshbickett ajtourville SpaceX Will still use hot gas maneuvering RCS thrusters� httpstcovsO9h4Ioed Erdayastronaut joshbickett ajtourville SpaceX Higher Isp too Erdayastronaut joshbickett ajtourville SpaceX Intuitively it would seem so but turbopumpfed Raptors have mu� httpstcolBTG1sIBuC brendan2908 NASASpaceflight Yes RT SpaceX Falcon 9 will launch NASA�s SPHEREx mission � which will collect data on more than 300 million galaxies and explore how the un� RT SpaceX Falcon 9 launches 60 Starlink satellites to orbit � mission from pad 39A on deck httpstco71cuCBgPNX mikko Darudevil It�s true joshbickett ajtourville Erdayastronaut SpaceX Yeah By default engine with least lever arm would shut down if all 3 are good ajtourville Erdayastronaut SpaceX Yes but engines have a min throttle point where there is flameout risk so la� httpstcoThniYsSnWn Adamklotz Erdayastronaut SpaceX Yes Erdayastronaut SpaceX It was foolish of us not to start 3 engines amp immediately shut down 1 as 2 are needed to land I am become meme\n",
      "Destroyer of shorts commandercruz Might actually happen Sandstorm is a masterpiece MadOverlord We were too dumb Next time we try pull up method httpstcoJ1M7WHLRDR Lowkey Loki No highs no lows only Doge No need to be a gigachad to own Dogecoin is the people�s crypto ur welcome httpstcoe2KF57KLxb HuobiGlobal The most entertaining outcome is the most likely Doge httpstcovviUzWhodT Erdayastronaut High seas amp wind This was a tough one httpstcobeY7peFpCj RT SpaceX Watch Falcon 9 launch 60 Starlink satellites U2192 httpstcobJFjLCzWdK  httpstcoLn95rEesbW Off Twitter for a while It will be filled with graffiti art eiraum U043CU044B U0441U0434U0435U043BU0430U0435U043C Giga Berlin progress httpstcoekpG5qcbUi hamoon neuralink Neuralink is working super hard to ensure implant safety amp is in close communication with the� httpstcoYky1llPUMd RT SpaceX This mission enables access for everyday people who dream of going to space RT SpaceX Announcing the first commercial astronaut mission to orbit Earth aboard Dragon U2192 httpstcoMbESvnakAD httpstcoukLsjFfRjk If you�ve worked on advanced wearables phones or robots those skills are needed neuralink Feels weird helping make hopefully good version of Cyberpunk come true Please consider working at Neuralink\n",
      "\n",
      "Shortterm solve brainspine injuries\n",
      "Longterm humanAI symbiosis \n",
      "\n",
      "Latte� httpstcoqrC6aLAdS2 httpstcoXcCoKOjYlt On Clubhouse tonight at 10pm LA time Erdayastronaut TJCooney lrocket SpaceX FelixSchlang MarcusHouseGame Tom has some great stories about experim� httpstcotEEzkIwcmK RT CommercialCrew Launch Alert U0001F680 NASA and SpaceX are targeting no earlier than April 20 for the launch of the second crew rotation mis� Erdayastronaut TJCooney lrocket SpaceX FelixSchlang MarcusHouseGame He became a big fan of methane but was� httpstcomdv0vDEFyC TJCooney lrocket SpaceX FelixSchlang MarcusHouseGame That sounds correct Tom certainly deserves a lot of cre� httpstcohDRI4HfA8b TJCooney lrocket SpaceX FelixSchlang MarcusHouseGame Tom is great amp was instrumental in developing early vers� httpstcoULxTClM1g6 ErcXspace smvllstvrs TW will be 15 so it will accelerate unusually fast High TW is important for reusable v� httpstcou1z2CPRRQJ we5dogg teslaownersSV No escaping that for me TheBabylonBee Read the whole article U0001F923U0001F923 Warm sunny day amp snowy mountains httpstco2k8psyqU4J What a beautiful day in LA httpstcoEsCJTbzO9D JayLav Yeah Dr Frankensteen httpstcoWDJ9K2UJqK YounesH1989 I never used this guy He gave a talk at SpaceX once flcnhvy Only Halo httpstcopyRCFE97Xp Carnage4Life I sure hope that�s not true at Tesla or SpaceX thejackbeyer NASASpaceflight Cryoproof then install engines Starship SN9 amp SN10 httpstcourtPJn7amo In retrospect it was inevitable RGVaerialphotos Great shot itsmenieb Live by the sword die by the sword lexfridman Entropy teslaownersSV GameSpot Buy amp hold companies that make goods amp produce services you love engineersfeed Earth is small amp we are smaller still httpstcogTOhcLGJ82 GameSpot U0001F440 With Cyberpunk even the hotfixes literally have hotfixes but � great game httpstcoa6kmk0PEgM DocumentingBTC The dollar is shorting itself westcoastbill Indeed JohnnaCrider1 Iupsychdoctor AOC RobinhoodApp Shopify is great too SpaceX used them ohqwix BnnJ6bCghvzQxLb U0001F923U0001F923 wimgrommen WSBChairman Indeed The economy � making useful products amp providing great services � is what actually matters Iupsychdoctor AOC RobinhoodApp TANSTAAFL Would be better to have small fees than no fees as latter makes Robin� httpstcoczRhLolYVO Here come the shorty apologists\n",
      "Give them no respect\n",
      "Get Shorty u can�t sell houses u don�t own\n",
      "u can�t sell cars u don�t own\n",
      "but \n",
      "u can sell stock u don�t own\n",
      "this is bs � sh� httpstcovJkf9BqbOD RationalEtienne teslavangelist Yes 28delayslater Finishing engineering this year production starts next year Aiming to have release candidate desig� httpstcobFverxpOQU PPathole Grimezsz I made that video AOC RobinhoodApp Absolutely NASASpaceflight Unlike its aircraft division which is fine the FAA space division has a fundamentally broken reg� httpstcosI63AXBJbz EvanKaylor Nomad anbuteau U0001F917 The esthetics of Cyberpunk are incredible btw The interior design isU0001F44C TrevorMahlmann SpaceX Major esthetics improvements coming teslaownersSV DMCRyan A little DMCRyan New Roadster is part rocket DMCRyan lafebra Gfilche There�s more storage now amp easily upgradable avalonpenrose httpstcodjdZxQ4Maz CouchInvestor Yes 247TeslaNews WholeMarsBlog Yeah probably in a few months WholeMarsBlog After you drive without using a PRND stalkstick for a few days it gets very annoying to go back amp use a shifter WholeMarsBlog No more stalks Car guesses drive direction based on what obstacles it sees context amp nav map You� httpstco6gO7EHq9qy avalonpenrose A hedge fund that shorts is a shrubbery lafebra Gfilche httpstcoM0WwQSTAXm lafebra Gfilche Yeah also a rear screen 0 to 155mph trap speed in a 14 mile 200mph top speed with right tires First production car ever to achieve 0 to 60 mph in less than 2 seconds It can play Cyberpunk Plaid Model S ships next month httpstcoHFUPTnQiPB Even Discord has gone corpo � Jason Yup Wild times on Discord haha httpstcoF23fxQkBCE AndyColt2 Waiting for FAA review � Gamestonk \n",
      "httpstcoRZtkDzAewJ LabPadre Passed initial pressure test AdamHoov Yes PPathole httpstcov7cffwac0A Bought a hand knit wool Marvin the Martian helm for my dog httpstcogpcvjIBTLM I kinda love Etsy thesheetztweetz It does not serve the public to hamstring Starlink today for an Amazon satellite system that is at� httpstcosNiGKxdXFP nextspaceflight We�re hoping for FAA approval of a test flight tomorrow afternoon WholeMarsBlog The entire �stack� from data collection through labeling amp inference has to be in surround video Th� httpstcou90Sqjkn8U flcnhvy WholeMarsBlog Yes although it will be crazy not to turn  on FSD WholeMarsBlog Tesla is steadily moving all NNs to 8 camera surround video This will enable superhuman selfdriving naval Some tyranny Also the road to hell is mostly paved with bad intentions levine Catchy httpstcoAu32MYF2Rn Megaconstellati AviationIntel jetcitystar larrypress All sats launched next year will have laser links Only o� httpstcoCeoFLi8Lzm Megaconstellati AviationIntel jetcitystar larrypress Yup TeslaGong teslaownersSV cleantechnica I hope so Tesmaniancom These also have laser links between the satellites so no ground stations are needed over the poles teslaownersSV cleantechnica Sorry for the version confusion V81 is what it should say for FSD Separate version number for rest of car cleantechnica To my surprise Tesla has better AI hardware amp software than Waymo money RicGuccio teslaownersSV It floats flcnhvy boringcompany Falloutthemed opening party for Vegas Loop happening as soon as allowed AlexEBenton boringcompany U0001F923U0001F923 Under Vegas in boringcompany tunnel yesterday with my boys httpstcotLfOuiEdFm PPathole SpaceX Lasers RT SpaceX SpaceX�s rideshare offering provides increased access to space for small satellite operators seeking a reliable affordable rid� RT SpaceX Falcon 9�s first stage has landed on the Of Course I Still Love You droneship httpstco6gWWlLiXdG RT SpaceX Liftoff httpstcojs3zVM77rH CodeWisdom U0001F4AF teslascope We�re switching to a more sensible FSD version numbering to distinguish between major amp minor updates� httpstcoQmHipv5zQs NASASpaceflight Hopefully early next week RT SpaceX Due to unfavorable weather we are standing down from todays launch the team will continue with the countdown until T30 seco� arstechnica SciGuySpace Given so many other companies are depending on this mission it is getting even more scru� httpstcoGBY9NACrSn Launching many small satellites for a wide range of customers tomorrow Excited about offering lowcost access to o� httpstcow66u5qdUh9 GerberKawasaki They are part of the solution but require lots of fresh water amp land We may need something that�s� httpstcoFWXsmo0f8t Erdayastronaut SpaceX SN9 httpstcokwTVwM7MBn Erdayastronaut It�s a good path for fully renewable rocket energy so solves part of problem but longer chain hyd� httpstcoxUGrZQiJzX Details next week Am donating 100M towards a prize for best carbon capture technology Kristennetten SpaceX EliBurton EvaFoxU JaneidyEve austinbarnard45 ElonsBrain JasoN7Patterson AstroJordy RenataKonkoly Pretty much ElonsWorld Tesla SpaceX neuralink boringcompany EashanMisra That would probably mean civilization is doing gr� httpstcosIAr8iFvWc LaurenRow5 EvaFoxU RenataKonkoly sarapolakcz seanmmitchell 28delayslater ElonsWorld JohnnaCrider1� httpstcovv6TthKR55 TesLatino Tesla Absolutely They rock U0001F5A4 RT SpaceX Falcon 9 launches Starlink to orbit � the eighth launch and landing of this booster httpstcozyj8ZdDFql kellyreid The ratelimiting part or process in cell production is constantly changing FrancisSuarez CityofMiami Cars amp trucks stuck in traffic generate megatons of toxic gases amp particulate but� httpstcoJcQIaCxJno RationalEtienne OwenSparks Tesla With our giant casting machines we are literally trying to make fullsize car� httpstcoCHGQMaIYTs lexfridman tegmark Tegmark is an exceptionally smart amp good human OwenSparks The best manufacturing technology is in ultra high volume industries like food amp beverage some medical eg syringes amp toys Battery cell production is the fundamental ratelimiter slowing down a sustainable energy future Very important pr� httpstco9ybABEzxCV pferragu Looking into this No question that FSD should be viewed as reasonably valuable when doing a tradein tobyliiiiiiiiii Erdayastronaut For sure Erdayastronaut Glad you�re ok VirginOrbit Congratulations teslaownersSV This is a good one MrBeastYT I whistle DMCRyan CRHM Tesla Cybertruck doesn�t need a garage DMCRyan Tesla It will be awesome owenshift Good point signalapp Your serverside code is doing too much Wikipedia Happy birthday Wikipedia So glad you exist TheOnion Guess you been watching Cobra Kai SuperclusterHQ w00ki33 Fallout New Texas Breedlove22 benmezrich Only Chuck Norris can divide by zero Cerberu21014829 Breedlove22 benmezrich Good point Breedlove22 benmezrich The thing we call money is just an information system for labor allocation \n",
      "\n",
      "What actuall� httpstcoJZ6zmQGBO3 Monty Python is amazing\n",
      "httpstcoUJq94IWT88 RationalEtienne tobyliiiiiiiiii Erdayastronaut They sure can twist the knife in that show tobyliiiiiiiiii Erdayastronaut Probably wise Erdayastronaut We�re making major improvements to ease of engine swap Needs to be a few hours at most PPathole johnkrausphotos SpaceX Two of the engines need slight repairs so will be switched out johnkrausphotos SpaceX Nice shot realOmarAbdalah We don�t have high school internships but please apply when you�re in college skorusARK Prototypes are easy volume production is hard positive cash flow is  excruciating Tesla Physics RT SpaceX Splashdown of Dragon confirmed completing SpaceX�s 21st SpaceStation resupply mission and the first return of a cargo resupp� Erdayastronaut Detanking amp inspections now Good progress towards our �Hop in amp go to Mars� goal All three static fires completed amp no RUDs justpaulinelol Erdayastronaut SpaceX Wow a lot has happened in 10 years OfficialJlipper Fair enough haha httpstcoho7yGXAS3a NASASpaceflight Sea shanty tiktok takes it to a new level with actual pirate ships ConnectDotsToo Sure Today at SpaceX is about practicing Starship engine starts Ship is held down by massive pins while engines are fir� httpstcoQtIiWLxXPl Tesmaniancom As promised Legalize comedy lvladimirovBG You can steal our namelogos amp we probably won�t sue you arstechnica SciGuySpace We�re just trying to get people to Mars Help would be appreciated SpaceX SpaceStation One day we will get a camera up there that also shows the star field in the background RT SpaceX Separation confirmed Dragon performing 3 departure burns to move away from the SpaceStation httpstcoG27ohWvnXj lexfridman Suicide is more than double homicide httpstcoMvWGPs9uQE lexfridman Absolutely Hey you �\n",
      "Yeah you Queen �\n",
      "You�re gonna make it U0001F495U0001F495 httpstcoLrqdIrbIyd TheOldManPar DJSnM MachinePix Hate to say it but might be true MachinePix The robot future is coming wonderofscience physicsJ 300km every millisecond but there are times I wish it were faster httpstcoTKkruvgBth httpstcoocy2gFRYvN iamdevloper httpstcoBkKeiIicYe Mus protec U0001F476 yoda httpstco1dvhG0nTkU roscosmos U041EU043D U0431U044BU043B U0432U0435U043BU0438U043AU043EU043BU0435U043FU0435U043D RationalEtienne TheBabylonBee This is an important distinction ValaAfshar Much more than this amp increasing rapidly CodingMark flcnhvy It is archillect Once in a while something happens that is even better than we imagined skorusARK The factory is the product AustinTeslaClub TheBabylonBee Probably commenting on signalapp will do more PPathole I bought the replacement glass from a junkyard for 20 They�re great places to get spare parts TheBabylonBee A lot of people are going to be super unhappy with West Coast high tech as the de facto arbiter of free speech alexandersibert signalapp Already donated to Signal a year ago Will donate more benmezrich I am primarily trying to advance two causes sustainable energy amp extending lifeconsciousness beyond E� httpstcoVYBfaVHkys songwooseok GerberKawasaki benmezrich U0001F923U0001F923 Ragazaga5 SpacePadreIsle Maybe a Tesla AI day later this year SpacePadreIsle The Prancing Pony BoredElonMusk U0001F923U0001F923 erigganewmoney U0001F622 mayemusk It�s true glenn22x woketopiansa Yes but not for long woketopiansa Yeah they seemed optimistic too My 14yearold son Saxon said he feels like 2021 will be a good year I agree Let us all make it so Erdayastronaut SpaceX Was also thinking that SpaceX Boca should hold fun parties and give tours for the community from time to time Erdayastronaut SpaceX I super support public spaces around our production amp launch sites wherever it can be done� httpstcowmqWcT2WFH Christo49699922 sean18743005 Erdayastronaut SpaceX That too sean18743005 Erdayastronaut SpaceX Catapult high into the air amp land on the roof with a base jumping parachute the only way to travel Erdayastronaut SpaceX That�s actually our restaurant but SpaceX is building a futuristic bar at the top of the h� httpstcoz2UmtGSAoI techreview And increase fun Hopefully benmezrich Me neither TonyChoMrMagic TeslaEnergy One of the best Tesla Solar Roof installations 91demigod No but maybe one day PPathole engineersfeed Yes that would be the best way to do it A large solar field or reactor is needed for po� httpstcoPh6x1PlnaM engineersfeed His sick beats httpstco8PbsgffzRp flcnhvy Probably less than a few dozen primary decisionmakers Technically only three Erdayastronaut lexfridman Or at least the option for verification so that the public can ascribe more credibilit� httpstcojU4WemVsjG Launch underway httpstcowbk7ZZ0Fqx Btw critical feedback is always super appreciated as well as ways to donate money that really make a difference way harder than it seems eugenelee3 engineersfeed Yup engineersfeed Indirectly an electric rocket is possible by using electricity to convert CO2H2O �gt CH4O2 This� httpstcofqzOtWQT9d engineersfeed Not to get to orbit unfortunately In space photon emission powered by matterantimatter annihila� httpstcoY8PO10oPQN Teslarati ResidentSponge This will be hard to make as it isn�t like any other vehicle 4thFromOurStar Playing the long game ashleevance True IDAACarmack I hope so Wings don�t work on the moon at all and def not well on Mars Also no runways EricRWeinstein Hamiltonians have 2V the potential of Langrangians and a play httpstco2ja38Z8MRE teslaownersSV Well back to work � teslaownersSV How strange Use Signal TheHackersNews Ya don�t say Reminds me of this timeless classic � httpstcoGq1wayoTIr UniverCurious Fast water with tiny rocks flcnhvy Yes and then Occam�s razor is actually third most likely As seen from an external observer not the participants The most entertaining outcome is the most likely PPathole Dumb and Dumber is a great movie tho This is called the domino effect httpstcoqpbEW54RvM Dtrford austinbarnard45 AlexSvanArt ErcXspace SpceEnthusiast SpacexVision TomDixonDesign SpaceX� httpstcoeS5gArRyvS Because of the large footprint it may seem flat but actually ranges up to 5 stories tall Snow falling on Giga Berlin httpstcoeTXMtYp8hG RGVaerialphotos SpaceX Yes Gfilche U0001F609 flcnhvy Tesla is responsible for 23 of all the personal amp professional pain in my life combined But it was worth it So proud of the Tesla team for achieving this major milestone At the start of Tesla I thought we had optimistica� httpstco1wlybPKMZj RT Tesla In 2020 we produced and delivered half a million cars Huge thanks to all those who made this possible\n",
      "httpstcoq43vz6RMhd newscientist Um we have giant fusion reactor in the sky that works with no maintenance commaai Tesla Full SelfDriving will work at a safety level well above that of the average driver this year of t� httpstcojmABJUqfDF PPathole Dojo isn�t needed but will make selfdriving better It isn�t enough to be safer than human drivers Aut� httpstcodyy2rMhgIl Ignore the heading Great interview with Mathias D�pfner\n",
      "httpstcoewnaHc4cH0 jack U0001F3A9 The Greatest Gatsby U0001F3A9 flcnhvy Inspired by the ballet smvllstvrs ErcXspace Rocket motion is primarily vertical so you want the top open jack Let�s make the roaring 20�s again Erdayastronaut Might be a few lumps along the way Erdayastronaut flcnhvy ErcXspace Production is hard prototypes are easy Building 1000 Starships to create a s� httpstcoXJLLjplJbP ICannotEnough AloysiusFekete RationalEtienne biogirl09 ErcXspace Exactly RexChapman Haha Erdayastronaut flcnhvy ErcXspace SN9 will press CH4 header tank with helium Longterm solution is under debate� httpstcokaWWoL54jG flabellina212 RationalEtienne biogirl09 ErcXspace Yes RationalEtienne biogirl09 ErcXspace Legs would certainly work but best part is no part best step is no step flcnhvy ErcXspace Yes flcnhvy ErcXspace Saves mass amp cost of legs amp enables immediate repositioning of booster on to launch mount � rea� httpstcojwDCjArymJ ErcXspace We�re going to try to catch the Super Heavy Booster with the launch tower arm using the grid fins to take the load Snakehead dog had my undivided attention until winderhead ostrich came gliding through all nonchalant httpstcodtPMdM3TQp Tesmaniancom Seems odd that the opposition group is from BMW�s home state of Baveria That�s very far from Brande� httpstcoM7DYvli4cx Tesmaniancom This is very sensible Opposition from anywhere cannot mean no progress everywhere harsimranbansal Literally tobyliiiiiiiiii Are we sure this is real Destiny destiny\n",
      "No escaping \n",
      "that for me All Tesla cars delivered in the final three days of the year will get three months of the Full SelfDriving option� httpstcoPPaEreeo8y SpaceNewsInc And Mark Dankberg This action is wack not dank RezaZadeh Less ashleevance Westworld The Last Kingdom show is great jayson32292601 Absolutely Will be text amp visualization but could add voice too sfscentral  Even cheese is made of cake  karpathy If they don�t love us we�re in deep trouble Not everything is made of cake httpstcooMaCmYQAwx chicagoglenn True haha Such a weird game when you think about it httpstco5MrvVzmeKG This is not CGI httpstcoVOivE97vPR BenSullins We need a UI overhaul Maldivawow CodingMark Tesla No these are just incremental improvements to the production codebase FSD build is� httpstco07pUOraMGo SpaceNewsInc Starlink �poses a hazard� to Viasat�s profits more like it Stop the sneaky moves Charlie Ergen Entertainment will be critical when cars drive themselves kimpaquette Just meeting with Larry Ellison to seek some advice Back working on Tesla end of quarter tomorrow richierichhhhh Absolutely What should Tesla do with incar gaming in an autonomous world PPathole WSJ Absolutely Tesmaniancom Taste of the future Try playing Polytopia in your Tesla Great game Multiplayer online version coming soon WSJ Focus on making products amp services people truly love so that the total economic pie is bigger instead of en� httpstcoqe4jcEzyTq ThatDesignGuy msiphiw moosuraj Tesla Roughly 95 of parts in Tesla Roadster were unique � not in any other pro� httpstcoR3yB6CmRB8 LaurenRow5 karpathy Yes engineersfeed Very important teslaownersSV lexfridman Ok service might be able to do this Will check teslaownersSV lexfridman You mean install the external speaker on earlier cars that don�t have it GUNMTLM3 lexfridman No but definitely this year lexfridman Good point conexionspacial spacecoaststve NASASpaceflight Interesting flcnhvy Liz has always done great interviews spacecoaststve NASASpaceflight Falcon was 25 of successful orbital launches in 2020 but maybe a majority of pa� httpstcoPmGu4vHQEZ karpathy Vaccines are just the start It�s also capable in theory of curing almost anything Turns medicine into a� httpstcoURuVC4QF1A jgrano305 TeslaTruckClub jeremyjudkins JPUConn jchybow DirtyTesla Yes TeslaTruckClub jeremyjudkins JPUConn jchybow DirtyTesla We will offer multiple display options IvanEscobosa Erdayastronaut teslaownersSV A few more revisions needed Probably Beta 10 or 11 Erdayastronaut teslaownersSV Sure Erdayastronaut teslaownersSV Haha ok kkvr2823 teslaadri teslaownersSV There are subtle important differences between US amp Canada traffic rules bu� httpstcoXZX9ppVL92 teslaadri teslaownersSV Yes teslaownersSV We need a �match other traffic speed� setting stevewoz Definitely flcnhvy h3extrachars It�s a step in that direction 13arm13arm It�s one U0001F525 or 12 U0001F525 if you don�t have a car with pedestrian speaker We couldn�t get everything done in� httpstco7HkZA1OhE4 westcoastbill The writing on Cobra Kai is sickU0001F44C AfloatHickory Haha I will save you the nightmare of seeing me in those shorts h3extrachars You can upload custom musicsounds jgrano305 Unfortunately pedestrian speaker is needed otherwise no external sound generator except actual horn Change your horn sound to U0001F410 U0001F40DU0001F3B7 U0001F4A8 or holiday jingles with latest Tesla software update Merry Christmas amp happy holidays U0001F381 httpstcouk6NSPwR9R Tesmaniancom Great game harsimranbansal heydave7 It will most likely make sense for Starlink to go public once the revenue growth is reasonably predictable heydave7 Engineering design amp general company operations absorb vast majority of my mind amp are the fundamental li� httpstcoVxV7gHUMbd ElonsWorld RealFuturist lexfridman Yes flcnhvy MarcusHouseGame A few months MarcusHouseGame Coming soon OLHZN Minor TrevorMahlmann Yeah 12 story rocket turns off its engines amp does a controlled fall httpstcoHCRgyx42rn Erdayastronaut Yup we�re just ironing out a few bugs To Tesla owners taking delivery in the final days of year your support is super appreciated DeepMind nature Frictionless AI What could possibly go wrong heydave7 Good idea wintonARK During the darkest days of the Model 3 program I reached out to Tim Cook to discuss the possibility of� httpstcoopTz9UrNE0 wintonARK Strange if true \n",
      "\n",
      " Tesla already uses ironphosphate for medium range cars made in our Shanghai facto� httpstcoMIlWSilvRT archillect Sparta�s reply to Macedon LizClaman Tesla FoxBusiness ClamanCountdown Hi Liz Thanks to everyone who worked so hard to make Tesla successful My heart goes out to you teslaownerssv Indeed Kristennetten It was a seriously twisted affair but all�s that ends well MKBHD They are although it�s kind lowkey Tesla Superchargers are being made accessible to other electric cars RT SpaceX Photos from yesterday�s launch and landing U2192 httpstco095WHX44BX httpstco6ojFySuaxo michaelsaylor Are such large transactions even possible U2665UFE0F i love all u crazy ppl out there U2665UFE0F BizzzzzyD You have a point sigh pcgamer Great game flcnhvy Pretty much The main value of college used to be hanging out having pseudo intellectual conversations amp� httpstco0S0ybsCm0p Come for the comments \n",
      "stay for the memesU0001F484 padgeuk Absolutely We will release FSD subscription early next year One word Doge Bitcoin is almost as bs as fiat money hajekmiloslav Great nails amp lipstick MightyTesla Kristennetten laurenkalo SawyerMerritt jasondebolt CodingMark 28delayslater BabyTesla3� httpstcodvwZGTPpda httpstcoEbOjGshvrq CallowayTech Sounds about right �Lord� Edge xDreamCoding frankthelen Nice branding Just kidding who needs a safe word anyway Bitcoin is my safe word RT SpaceX Falcon 9�s first stage has landed on Landing Zone 1 httpstcomR18Qv3GoC RT SpaceX Liftoff httpstcoAG4rAR6qNp SpaceX Standing down for today to inspect rocket Hopefully launching tomorrow SpaceX Pressure is slightly high in upper stage liquid oxygen tank Review underway TeslaMania I am hoping to be back next month nytimes Very impressive mission by China SpaceX Last launch of 2020 coming up teslaownerssv astonmartin Tesla He was indeed quite grumpy but we did not actually know what we were doing so he had a point teslaownerssv It will get absurdly good Tesla AIAutopilot engineering is awesome There�s some great AI out ther� httpstcov8mUhEApOQ Star Light Star Bright httpstco6CeTAZSXCO Teslarati 13ericralph31 This is incorrect TheBabylonBee U0001F923U0001F923 pcgamer But it is visually stunning amp playability is good pcgamer A tshirt being better armor than a Kevlar chest plate doesn�t make sense in the absence of magic Also w� httpstcoIYdKttVsqk cleantechnica Oh and umm � httpstcojtg944ERCy cleantechnica I absolutely support trans but all these pronouns are an esthetic nightmare Erdayastronaut flightclubio The Raptors were well below max thrust or the ship would have blown through the altit� httpstcoikCRzpyxTr Erdayastronaut flightclubio Far from fully loaded but we were going slow or the ship would have gone crazy highfar with three engines picotjohn CyberpunkGame It�s a good to great game imo but improving what may seem like mere surface detail woul� httpstcozm0SZ9CbZg truthtesla Tesmaniancom Perhaps slightly more confident but it�s essential to view this as output vs time As� httpstcoRkFVJvotSE Tesmaniancom Dankesch�n Brandenburg und Gr�nheide austinbarnard45 lrocket Sure hope that future doesn�t come to pass Tesmaniancom Giga BerlinBrandenburg will be the first to use our new structural pack architecture 4680 world�s� httpstcowESAfntz7a Dota2funny1 CyberpunkGame Original Deus Ex was incredible Human Revolution was also great CyberpunkGame The objective reality is that it is impossible to run an advanced game well on old hardware This is� httpstcozO01QsU1wt RT SpaceX Starship landing flip maneuver httpstcoQuD9HwZ9CX TheOnion TheBabylonBee Ascent to the Heavens httpstcooGgsw88YRZ engineersfeed U0001F923 PPathole CyberpunkGame Yeah briefly Seems pretty good I picked Nomad so start was a little slow but picks up� httpstconLLIPnbMxr Zwiebelbach itsmenieb CyberpunkGame httpstcoaaYYPCPP1i Hehe httpstcoSkLMiL3OxT CyberpunkGame httpstcoRHKsB40xqr CyberpunkGame httpstcokmG7C9qF6h httpstcosdmXKbHdzd httpstcoqbNT1dUsED RT SpaceX Falcon 9 launches SXM7 to orbit completing SpaceX�s 25th launch this year httpstcoZRur0ewNlv QuantaMagazine init void PPathole ErcXspace SpaceX cooling haha PPathole ErcXspace SpaceX I still have a soft spot in my heart for transpiration cooking In theory it would us� httpstco9SsChDKFAD ErcXspace SpaceX Ship leeward side will be bare metal windward will have black hexagonal heat shield tiles RT PocknCG Cant wait elonmusk spacex SpaceXStarship httpstcoynEtMywFvg conexionspacial PocknCG Yes SpacePadreIsle SpaceX Agreed should be preserved in memory of SN8 RT SpaceX Photos from Starship SN8�s flight test U2192 httpstco095WHX44BX httpstco5OzLYF7QRf NASASpaceflight BocaChicaGal Exactly Woohoo Erdayastronaut SpaceX SN8 did great Even reaching apogee would�ve been great so controlling all way to putting� httpstcoxwm1fxmX0R Thank you South Texas for your support This is the gateway to Mars Life the Universe and Everything httpstco1ZCzInfc4u Erdayastronaut Yeah engines did great Mars here we come Fuel header tank pressure was low during landing burn causing touchdown velocity to be high amp RUD but we got all� httpstcowGJVdSahmF Successful ascent switchover to header tanks amp precise flap control to landing point httpstcoIIraiESg5M TheBabylonBee U0001F920 wonderofscience Nearorbital space is the fastest way to travel long distance on Earth SpaceX SpaceStation It�s called the Space �Station� but it�s actually moving around Earth at 25 times the spee� httpstcovYVIvrtZsa RT SpaceX Timelapse of Dragon on approach � two Dragons now docked to the spacestation httpstcoI046jBmC7o �So long and thanks for the orifice�\n",
      " Alien message decrypted SpaceX Probably 13 chance of completing all mission objectives SpaceX Hopefully flying tomorrow NASASpaceflight Yup RT NASA Success At 140pm ET SpaceXs upgraded Dragon cargo spacecraft autonomously docked to the SpaceStation \n",
      "\n",
      "U0001F409 This is the 1st� Out on the pad in South Texas httpstcoRcYOXXpTc2 RT SpaceStation The station and the SpaceX Dragon are going into an orbital night period before the 130pm ET docking The CrewDragon� SpaceStation SpaceX Wow Station looks amazing RT NASA Good morning earthlings U2600UFE0F The journey continues \n",
      "\n",
      "Watch as the NASA SpaceX cargo resupply mission docks to the SpaceStatio� NASASpaceflight Knock knock singing telegram lexfridman Carrying even more symbiotic bacteria 40 trillion than cells AdamKlotz lexfridman Yes lexfridman We are mobile cell colonies 100 RT SpaceX Tracking footage from a helicopter of today�s Falcon 9 launch off LC39A httpstco7rYVZRTS18 RT Erdayastronaut There�s something genuinely magical about seeing Starship SN8 in person Boca Chica is beautiful quiet and serine T� Im Gespr�ch mit Mathias D�pfner \n",
      "\n",
      "httpstcobqa5pIAOnk RT SpaceX Dragon separation confirmed the spacecraft is on its way to the spacestation Autonomous docking tomorrow at approximately 1� RT SpaceX Falcon 9 booster has landed on the Of Course I Still Love You droneship httpstcocNL6t0LQ0g RT SpaceX Liftoff httpstcopgk24cph9e haya2ejaxa JAXAen Congratulations haya2ejaxa Congratulations RDAnglePhoto SpaceX Teslarati Yes it does RT boringcompany Tunnel Rave httpstcod3JKOIAsy7 RationalEtienne And no toilet paper U0001F923U0001F923 Watch Demolition Man Prometheus Unbound RT SpaceX The Falcon 9 booster supporting this mission previously launched NASA astronauts Bob Behnken and Doug Hurley to the spacesta� ErcXspace SpaceX NASASpaceflight Erdayastronaut MarcusHouseGame FelixSchlang Not bad TheOnion It was a beast compared to the VIC20 Tesmaniancom Award accepted on behalf of the great people at Tesla SpaceX Neuralink amp Boring Co Much of what people think of an science is actually engineering eg no such thing as a �rocket scientist� only roc� httpstcows70UvCRyN Science is discovering the essential truths about what exists in the Universe engineering is about creating things� httpstcoXMQTBrLDYP justpaulinelol It does get a bit cold at night engineersfeed Paint makes a hell of a difference DeepMind Congrats lrocket Thanks for everything you did to help build SpaceX Some of the best memories ever RGVaerialphotos It will be real soon MarcusHouseGame bcart03 nextspaceflight NASASpaceflight Starship legs are one of the hardest problems External� httpstcocsIZk6sEVu bcart03 nextspaceflight NASASpaceflight Static fire is not risky from build site but we need to clear the build site for early flights nextspaceflight NASASpaceflight Just a static fire tomorrow Flight no earlier than Wednesday ErcXspace SpaceX It will have landing legs eugenelee3 PPathole karpathy Yes very sad news Tony was great PPathole karpathy For a second there I thought that was a pic of Thanos haha PoppaBearQ IDAACarmack Yeah truncate zeros amp then round dburkland IDAACarmack Probably going to a wider beta in 2 weeks IDAACarmack fp16 with least important digits truncated so it feels like fp32 is what we�re betting on for training with Dojo IDAACarmack Int8 for almost all heavy lifting in inference works great thisisjendoll But actually httpstcolb14pKsayI thisisjendoll httpstcomMg5b8b40z Happy Thanksgiving teslaownerssv JohnEG78 TeslaChillMode UNPLGD3 MFrunker ccteslaclub Hopefully next month JohnEG78 TeslaChillMode UNPLGD3 MFrunker ccteslaclub Ok Overall air suspension height amp damping algorithm is� httpstcoopgo08vd4Y karpathy Haha true HumanoidHistory The Promise is greatly needed EvaFoxU We will have special colors for new Roadster as we did for the original RationalEtienne TheBabylonBee U0001F923U0001F923 TheBabylonBee is savage U0001F923U0001F923 WorldAndScience If you ever wondered where we came from This is a life leader launch so more risk than normal httpstcoEtFP9IELrf TesLatino flcnhvy thesheetztweetz Yes but only slightly filled aholstein404 flcnhvy thesheetztweetz This is a subject of much debate flcnhvy thesheetztweetz Major upgrades are slated for SN15 flcnhvy thesheetztweetz Many small improvements but overall similar Wiring is more robust engines are more mat� httpstco7oFbmY1N25 thesheetztweetz But that�s why we have SN 9 amp SN10 thesheetztweetz Lot of things need to go right so maybe 13 chance Good Starship SN8 static fire Aiming for first 15km  50k ft altitude flight next week Goals are to test 3 engin� httpstco7OjorqNhb6 Erdayastronaut MarcusHouseGame Maybe start on that a year from now Depends on how Starship progress goes RationalEtienne MarcusHouseGame Not yet StarshipFairing MarcusHouseGame Not bad We will definitely need more engines if we make the cargo bay all propel� httpstcoj2uVULTatv MarcusHouseGame Rapid amp complete rocket reuse low cost propellant orbital refilling amp propellant production at d� httpstcoUmyUR7yShY Erdayastronaut PPathole Teslarati TeslaRoadTrip Yes PPathole Teslarati TeslaRoadTrip We�re still far from simply video in control out The biggest gamechanger cu� httpstconb5Hl7gzlx Teslarati TeslaRoadTrip FSD Beta 5 coming out in a few days Improvement should be significant XHNews Exciting mission vincent13031925 Tesla Wow LivBoeree Yea Tomorrow will be the 7th flight of this rocket landing on droneship Of Course I Still Love You JohnnaCrider1 teslaownerssv 28delayslater Sure FutureJurvetson flcnhvy True RationalEtienne heydave7 philwhln We have quiet a queue of products to build Better do new Roadster at some pointU0001F62C RationalEtienne ShyCybertruck Fate loves irony but hates hypocrisy RT NASA Booster separation secondengine start and fairing separation as the USEuropean Sentinel6 Michael Freilich oceanobserving� ICannotEnough heydave7 Yes U0001F603 flcnhvy Our data center was named Skynet as a joke over 10 years ago Might have been tempting fate heydave7 philwhln Tesla is a vehicle for creating amp producing many useful products NASASpaceflight Largest cast titanium part in the world No heat shielding needed Landing at Vandenberg AFB in California httpstco46J2GcCjP0 tobyliiiiiiiiii SpaceX NASA NASALSP NASAJPL esa Actually off to the side so it doesn�t take out the launch� httpstcoFr9aUCYWCO tobyliiiiiiiiii SpaceX NASA NASALSP NASAJPL esa Where it should be philwhln heydave7 Because I am not an investor Tesla is definitely not the only good company but investing is n� httpstcowDUz0wnuIn Well almost anything httpstcoFFPVDsqruC Quite the day ahead httpstcoapZNgmo0k7 RT SpaceX Crew1�s view of Earth during Dragon�s flight to the spacestation httpstcolQW6TYmpB7 NASAaero LockheedMartin Now this is what you�d call pointy cleantechnica Cool AstroFonseca SpaceStation wonderofscience VirtualAstro They�re moving at 25 times the speed of sound but it feels like nothing WorldAndScience httpstcoXAJaN4j9ZR vicentes EvaFoxU PPathole mirojurcevic TashaARK SpaceStation There will always be upgrades EvaFoxU PPathole mirojurcevic TashaARK SpaceStation It will be better than human vision by quite a margin ennnafnlaus mirojurcevic TashaARK SpaceStation Reality looks like a strange ghostworld at radar wavelengths� httpstcoDMGov9rcnu PPathole mirojurcevic TashaARK SpaceStation Exactly mirojurcevic TashaARK This is a misperception SpaceX developed amp continues to use lidar for Dragon docking with� httpstco3I0bWGjlQp PhilippeCROIZON SpaceX One day we will fly you on Starship PeterJBeck Well done hisdirtremoves SpaceX I can�t comment on turbopump internal details but you�re roughly in the ballpark Wow roc� httpstco0SRlFg03Fg TashaARK To be clear this was just an XPeng problem Other companies in China have not done this IsaacLatterell TashaARK karpathy Andrej is awesome but it should be said that we have a very talented Autopilot� httpstco64ocngk3ey spacetouristuk TashaARK Yeah They stole Apple�s code too\n",
      "httpstcogy4DT7Pq9N TashaARK They have an old version of our software amp don�t have our NN inference computer levie Wild times RocketLab Congrats slashdot TheOnion IDAACarmack Yup flcnhvy Change out a few parts otherwise fine Forbes Caution strongly advised with SPACs AdamKIotz Suvitruf archillect Sure Suvitruf archillect Haha sexy cropping champion of all time tweetmenima teslaownerssv If next week�s release looks good we will widen beta justpaulinelol teslaownerssv Unfortunately there are too many rules around liquor distribution even in the US� httpstcokvHlbueE1u teslaownerssv Next week�s release is special Lot of fundamental improvements both important bug fixes amp entire n� httpstcoBV5STdWNgj westcoastbill SpaceX 13 years amp 11 billion � wow OwenSparks flcnhvy Tesla Safety is our primary design goal PPathole AstroJordy flcnhvy Fully Astronomiaum Let the Martians decide their own future shifthappends Tesla A lot of my brain space is spent dealing with both units Astronomiaum Terraforming will be too slow to be relevant in our lifetime However we can establish a human base� httpstcouygaAE7g3r PPathole xDreamCoding garyblack00 That is certainly the intention xDreamCoding garyblack00 httpstcofREZwjCwNa garyblack00 The only publicly traded stock I own is Tesla garyblack00 Wise words from Bogle The point of companies is products amp services They have no point in amp of thems� httpstcoeNCU8cBLpy teslaownerssv AstroJordy flcnhvy No just a mild cold Same with my bro Def had cov2 though Pclt20 means viral� httpstcoUySAnpqtFI Astronomiaum Life in glass domes at first Eventually terraformed to support life like Earth AstroJordy flcnhvy Yeah DaywalkerxD Astronomiaum I was going to say �Sim� but that seemed too obvious haha Astronomiaum Deveras flcnhvy And cases with high noninfectious Ct should quarantine for a few days while getting another test Seco� httpstcooAlvZwCMIO tobyliiiiiiiiii So many things you want amp some you didn�t know you wanted nichegamer Maybe a little Mercy � httpstco9iE40HOihr Tesla holiday software release is U0001F525U0001F525 StaceyR28715306 MaisieWilliams U0001F60F Cobra Kai is a deep cut archillect It�s all cake amp someone took a bite nichegamer There is such a thing as too much sentience Deus ex machine learning httpstco5ZSYalVczx peterrhague It�s designed to make life multiplanetary otherwise extreme overkill for mere Earth sector activity� httpstcoyjLTT8pEEu Kristennetten royalsociety More like he gave it his blessing It was sort of a groundswell of those who believed� httpstcofwK1ziHfEg Nullius in Verba royalsociety westcoastbill Indeed ReflexFunds nickidk4 pcgamer DojoDoge PPathole Erdayastronaut rweb11742 Yeah looks like marginal cost of launch will be less than 1M for more than 1� httpstcorNSJ5FkDXT speculawyer Erdayastronaut rweb11742 Exactly Erdayastronaut rweb11742 Merlin is a strong local maximum design but kerosene is suboptimal fuel no matter what� httpstcoJoetYsKGp7 parstalberg joshbickett ICannotEnough Erdayastronaut rweb11742 Yes but from a visiting American Ah the irony is just too much joshbickett ICannotEnough Erdayastronaut rweb11742 Yeah PCR Ct was unequivocal at lt20 Doesn�t matter what m� httpstcoYJdogoKX8Q flcnhvy LUGG4S1 pcgamer Maybe making some notable changes Will wait until figurative amp literal dust settles ICannotEnough Erdayastronaut rweb11742 Pretty close Definitely feel U0001F4AF if I take DayQuil Frankly this was one� httpstcohj0ThLR48N LUGG4S1 pcgamer Avionics cables moving to steel pipe shields amp adding watercooled steel pipes to test pad LUGG4S1 pcgamer About 2 secs after starting engines martyte covering concrete below shattered sending blades of� httpstcovilv1S16Yo Erdayastronaut rweb11742 The most amazing thing about rocket engines is that they sometimes don�t blow up The� httpstcoEUXoocFR9T pcgamer We should just count the atoms at this point DJSnM Erdayastronaut CharlesNOtrumps rweb11742 Absolutely Productiontesting of rocket engines is over 90 of� httpstcoTv3piXzp4I Erdayastronaut CharlesNOtrumps rweb11742 Our first Merlin engine design was really bad tbh Nothing worked well� httpstcoY5njREPvtc billhuang688 JohnnaCrider1 timmerenginerd jack Maybe I just love irony haha GreenIsClutch JohnnaCrider1 timmerenginerd jack They�re on their way Hopefully more Teslaquila next month ChrisGNSF Special permission received from Stonecutters Guild httpstcoSW5RBm1sRB JohnnaCrider1 timmerenginerd jack Fate U0001F5A4 Irony jack Well said trylolli MaisieWilliams U0001F47B U0001F4B5 \n",
      "httpstcoUWerAhxUev Erdayastronaut rweb11742 Damn that�s not easy I spent quite a bit of time looking at RussianUkrainian engines They�re good PPathole michaelminalab Yes RT SpaceX Docking confirmed � Crew Dragon has arrived at the spacestation MaisieWilliams U0001F3B6 Toss a bitcoin to ur Witcher U0001F3B6 Kristennetten U0001F609 RT NASA U0001F409 Enter the Crew Dragon At 448 pm EST 948 pm UTC the NASA SpaceX Crew1 astronauts give you a LIVE tour of their space� WhatsupFranks michaelminalab CureVac Moderna amp a few others Tesla makes the machine CureVac uses to go from kn� httpstcokVEPRq79Rl michaelminalab Creating synthetic mRNA for curesvaccines is the future of medicine imo Turns it mostly into a� httpstcoYp7djaWikS gaertneranne NeuroSkeptic DresdenTea judithherbers Haha michaelminalab Great thread SamTalksTesla I�m ok thanks for asking No symptoms for past few days apart from fatigue Unless something chang� httpstcoS8EO2xB2sf U2665UFE0F Launch in 5 minutes flcnhvy Yeah with cooling channels integrated into the chamber walls The same propellant is used either for abort or for orbital maneuvering as one use obviates the other Dragon can also hover amp land propulsively but we use the parachutes for maximum safety httpstcoMr7VFIQwWf Thrusters are integrated with spacecraft enabling abort capability all the way to abort for increased safety httpstcoKrOHKOr6AE RT NASA What song would you play on your ride out to the launch pad LaunchAmerica httpstcovzhxUn6Yie RT SpaceX Dragon has completed 22 flights to and from the spacestation It was designed from the beginning with human spaceflight in mi� RT SpaceX Dragon is the only spacecraft currently flying capable of returning significant amounts of cargo to Earth and is the first priv� RT SpaceX SpaceX�s customtailored suits route the communications and cooling systems and protect the crew in the event of cabin depressu� RT NASA LIVE NOW We are ready to LaunchAmerica Are you U0001F680\n",
      "\n",
      "Watch coverage of the NASA SpaceX Crew1 mission Liftoff is at 727pm ET� RT SpaceX Watch Falcon 9 launch Crew Dragon on its first operational mission to the spacestation with astronauts on board U2192 httpstc� tboneagnoobs Ok RT SpaceX All systems are go for tonight�s launch at 727 pm EST of Crew Dragon�s first operational mission with four astronauts on boa� KlotzAdam PPathole AstroJordy erujabidi Yeah I feel pretty normal No symptoms right now Last week I had sym� httpstcogL0mhrqJxY PPathole AstroJordy erujabidi Doing tests from several different labs same time of day administered by RN amp am� httpstcohajhh7La7Q PPathole MarioLivio Both obv insanely great too bad they had this pointless argument Astronaut launch today httpstco3FAzZGss8c RT NASA U0001F338 AstroSoichi has a message for boys and girls in Japan Space is waiting \n",
      "\n",
      "In this Tumblr Spotlight JAXAen astronaut So� RT NASA This week\n",
      "\n",
      "U0001F680 NASAs SpaceX Crew1 astronauts arrive at NASAKennedy ahead of launch\n",
      "U0001F534 Our NASAPersevere rover marks 100 days� RT AstroSoichi SpaceX NASA Crew1 just finished final dress rehearsal getting ready for Saturday launch Behind me is real Dragon� MarioLivio No kids though MarioLivio Hell of a wig collection too michaelminalab It would be great if labs could give people this level of granular feedback in their results RT michaelminalab elonmusk Great question It�s more complex question and depends on why the test is being used  ie do you want to kn� Worth reading this thread if you�re curious about rona testing httpstcoFA6kD61eBA stonkmanup michaelminalab They should be imo If you get a blood pressure test they tell you the number not ju� httpstcotWl0Dgurmk AstroJordy erujabidi A little up amp down Feels just like a regular cold but more body achy amp cloudy head than co� httpstcoihVPeox7m6 michaelminalab In your opinion at what Ct number for the cov2 N1 gene should a PCR test probably be regarded as� httpstcoemuXLx698G michaelminalab stendeck77  teslaownerssv Cool but please be super cautious Expect two steps forward one back Lot of new code was merged austinbarnard45 Just a scratch We can buff it out erujabidi Am getting wildly different results from different labs but most likely I have a moderate case of covid� httpstcoXLBAHahJOj WhatsupFranks lexfridman NPCs all the way up lexfridman Ahem Unless you�re on DMT Laws of thermodynamics\n",
      "1 You can�t win\n",
      "2 You can�t break even\n",
      "3 You can�t stop playing Shakes fist at entropy RealNattastic Big expansion of beta program in 6 to 8 weeks robintoshnunez PPathole Interesting My Thursday night saliva sample came back today with N1 gene unique to cov� httpstcoTm7cs8oTdT ICannotEnough JohnnaCrider1 What�s honey slashdot Feels that way WhatsupFranks bluemoondance74 StephenKing This seems accurate bluemoondance74 StephenKing Cold symptoms are gone for now U0001F600U0001F680U0001F4AB StephenKing There are degrees of pos MrSammyH pelagicbird maxroi rossy65 Heneghan makes a lot of sense Hilarious that he has to clarify that he r� httpstcoMlXngcSA9T WhatsupFranks The number of PCR amplification cycles required to detect the virus is a rough indicator of your vir� httpstcomn8192hUeQ MrSammyH maxroi rossy65 This a great reference Worth a read Case closed httpstcopUYiJcAdD6 Soon httpstcomWOpR7W8kk PPathole Fwiw lab I just spoke to thinks below 30 is accurate 30 to 40 gets dicey amp above 40 is bs Will talk to� httpstcoK77wXQ11yt Lab I just spoke to said cov2 PCR detection N1 amp N3 genes below 30 cycles is reliable amp above 40 cycles is not RationalEtienne ryaneshea Note this is not the spike protein They don�t consider that reliable RationalEtienne ryaneshea Just spoke directly to a testing lab Their main PCR search is for the N1 gene unique� httpstcox57OdvDAuO PPathole Strange ryaneshea Possible explanation for the dramatic decline in cold amp flu prevalence vs prior years If someone comes� httpstcogMLVEwwXDP ryaneshea Moreover lower the true prevalence the higher the false positive number will be This sounds obvious� httpstcoXvAbEkLh1q ryaneshea From httpstco42z7vRPB9c httpstcoXTSukcc3Tl danaemorgan Sure is Would be great to hear from people who know a lot about the PCR testing industry What�s the approximate false posi� httpstcolVc11nIkql ClareCraigPath Interesting johnbeans DirtyTesla Interesting What is the general population no knowledge of symptoms accuracy of a sarscov2 PCR test amp is it possible to gene� httpstcoVbIU7ds4UQ PPathole cleantechnica A good PCR test should identify if I have the cov2 spike proteins although I have heard s� httpstcoM8Vj2gaOfs justpaulinelol cleantechnica Mild sniffles amp cough amp slight fever past few days Right now no symptoms although I did take NyQuil cleantechnica Technically I tested positive then negative twice then positive again so �Elon Musk Tests Negati� httpstco6ohTA09S5l The carousel turns ever faster JoeInGeneral andrewbogut Yup ajtourville Exactly JaneidyEve Symptoms of a typical cold Nothing unusual so far BLKMDL3 If it�s happening to me it�s happening to others I�m getting PCR tests from separate labs Results will take about 24 hours Something extremely bogus is going on Was tested for covid four times today Two tests came back negative two cam� httpstcoZ2V15u7Zcf austinbarnard45 Burst disk worked so vehicle appears to be ok We�ll have to swap out at least one of the engines tobyliiiiiiiiii SpacePadreIsle austinbarnard45 Maybe melted an engine preburner or fuel hot gas manifold Whatev� httpstco5elyX8PjlG austinbarnard45 We lost vehicle pneumatics Reason unknown at present Liquid oxygen header tank pressure is risin� httpstcoSZc90HnTi8 DrPhiltill U0001F923U0001F923U0001F44D RT Teslarati Tesla tops list of 2020�s Most Attractive Employers for US engineering students\n",
      "httpstcoKKNYQlet0o 4 Astronauts fly to SpaceStation on Sat night from Cape First operational flight of Crew Dragon httpstcouZCGiKciKb Cardoso Luck is the best superpower RT SpaceX Thank you to all those who have served and sacrificed VeteransDay httpstcoU8kN4FZpJ9 RT SpaceX Crew access arm swings into place httpstcoXAImd6nLJV hiromichimizuno Yes Kristennetten It is an honor that they would choose to work with me I strive to ensure that the companies enable� httpstcoOTdwCSk3cK Such a privilege to work with people I like amp respect so much I feel blessed RT CommercialCrew The Flight Readiness Review for the Crew1 mission to the SpaceStation has concluded and NASA and SpaceX are GO t� RT SpaceX Falcon 9 and Crew Dragon vertical on Launch Complex 39A httpstcohBVUHWv3Ab DJSnM DavidHuber15 nickhenning3d SpaceX ErcXspace Neopork85 CBass3d CasparStanley SpacexVision FelixSchlang Probably TeslaNY Tesla Happy to see this  SamTalksTesla Tesla I do expect this to become an important product for the world but probably not financially material for Tesla nickhenning3d SpaceX ErcXspace Neopork85 CBass3d CasparStanley SpacexVision FelixSchlang There�s no entry� httpstcoNCafKnfZlc SamTalksTesla Tesla Tesla makes the RNA Bioreactor that can make vaccines  cures CureVac has version 2 in use� httpstcoOPouohyAmu RT SpaceX Crew Dragon and Falcon 9 in the hangar at Launch Complex 39A ahead of launching four astronauts to the spacestation liftoff� TesLatino Checking pcgamer I just hope this game doesn�t twist itself to tedium out of fear of being canceled RT boringcompany Rumor has it that Austin Chalk is geologically one of best soils for tunneling Want to find out Austin jobs now avai� httpstcod0i2w8wNKG Yes you can have my damn cookie should be a browser setting teslaownerssv Tesla Thanks to a lot of great AutopilotAI hardware amp software engineers at Tesla BBCTech For sure MKBHD Vyyyper Will be worth it MKBHD Exactly Model3Owners MKBHD Sure MKBHD Actually it�s still there httpstco2zLKc8Fc2d EdSpartan117 Tesla NYKChannel Wait until you see what Cybertruck will do MKBHD This is accidental Will be back shortly RT Tesla 20k Superchargers and counting httpstcourudyt9Eui Erdayastronaut RenataKonkoly SpaceNewsInc Am hoping to change booster design to land back on launch mount with� httpstcoHpRGPtt6ru Vasu42698392 amyceskridge Chip has temp sensor amp automatically maintains safe temp reganlovetesla RenataKonkoly SpaceNewsInc Enough already on my plate amp Tesla�s Maybe one day will do a prototy� httpstcotGPWEJ7WQA amyceskridge Neuralink won�t overclock the brain it will transfer processing to the supercomputer extension of yo� httpstcoNByBBFX0T2 flcnhvy PPathole cleantechnica We rewrote all labeling software for 4D Very different from labeling single phot� httpstcomLTBdsQuTy PPathole cleantechnica Version 1 is about a year away RenataKonkoly SpaceNewsInc It would appear that their calculations were incorrect SpaceNewsInc China understands the profound importance of reusability The era of expendable rockets will soon be over cleantechnica U2660UFE0FU2660UFE0F Tesla AutopilotAI team U2660UFE0FU2660UFE0F cleantechnica Good explanation 4D is essential for dynamically occluded objects especially in large intersection� httpstcoooJ9PqAyHj RT archillect httpstco5U3fNqFhr1 The Phantom of the Opera \n",
      "Is here � inside your mind LinusTech SpaceXStarlink SpaceX U0001F1E8U0001F1E6 U0001F600 PPathole Just looking for problemsolvers who get things done with a high sense of urgency Don�t care if or where they went to school When sending your resume please describe a few of the hardest problems you solved amp exactly how you solved them A New Banner is needed\n",
      "Neither hard left nor right PPathole Another fine day in the simulation � Nereide Faraday invented the electric motor Tesla the commutatorfree threephase AC induction motor in other� httpstcocQo2rjLRBv Nereide Maxwell was amazing Should have more recognition Tesla Motors Inc was almost called Faraday as it to� httpstco6y42KMCPGk 420 is ten times better than 42 U0001F917 RT SpaceX Deployment of GPS III4 confirmed httpstcofCFJRcWMti RT SpaceX Falcon 9�s first stage lands on the Of Course I Still Love You droneship httpstcohd0IBPX3T5 RT SpaceX Liftoff httpstcoLI4O0TNmL8 LinusTech SpaceXStarlink SpaceX Awaiting approval from Canadian authorities Recruiting ace engineers for Giga Berlin Will interview in person tomorrow on site Send resume to 25GunsTeslacom ChadHurley realDonaldTrump kanyewest Stop being a chad ChadHurley realDonaldTrump kanyewest Uh � Chad wtf TechAmazing Einstein was great but did not succeed at engineering and he tried jtrevorchapman Yeah that will be relatively easy as so few users out in the ocean ICannotEnough ZainRaz4 vincent13031925 JonErlichman Yes although I didn�t expect the stock to rise so much so� httpstcoTMW6phbef0 FutureJurvetson PPathole Super appreciate your support Steve That convertible loan gave us 6 months of runway� httpstcoeJ7iOVx2W4 ZainRaz4 vincent13031925 JonErlichman Closest we got was about a month The Model 3 ramp was extreme stress amp pa� httpstcoWuHekj0HIo vincent13031925 JonErlichman I put in my last money even though I thought we would still fail But it was eithe� httpstco9bGKEz9d8a JonErlichman That funding round completed 6pm on Christmas Eve in 2008 Last hour of last day possible as investo� httpstcoUmfGjnkoxm joshbickett PPathole Yes PPathole Lowering Starlink terminal cost which may sound rather pedestrian is actually our most difficult technical challenge itshamzahkhan As soon as we get regulatory approval Hopefully around middle of next year thesheetztweetz Right now it takes about 5 mins to set up but with future improvements probably less than 3 mi� httpstco8EhBQC3FA0 kjellarne flcnhvy Canada and Norway are next after we get US out of early beta ennnafnlaus flcnhvy Didn�t realize that was possible No problem if there�s a way get current design Cybertruck approved in Europe flcnhvy As soon as we get country approval This is required for each country individually as no EUwide approval� httpstco8ZBt9qJD9H jasonrassett Lower latitude states need more satellites in position so probably January Several thousand more Starlink beta participation invitations going out this week LouisWFerreira New design is better with many minor tweaks Even the small details matter engineersfeed Haha Very close to actual expected flight httpstcoruEdIPhTil NigelLockyer I could not be more excited about the new supercollider That said while it is considerably larger� httpstcos3typirk4U WholeMarsBlog steezyysosa AustinTeslaClub JoeTegtmeyer peterdog15 TXTerafactory Terafactorytx lqdchkn� httpstcopqsjZOPAj5 steezyysosa AustinTeslaClub JoeTegtmeyer peterdog15 TXTerafactory Terafactorytx lqdchkn jdaverage� httpstcooZAzv1iGXa AustinTeslaClub JoeTegtmeyer peterdog15 TXTerafactory Terafactorytx lqdchkn jdaverage EliBurton Tesla Tex� httpstcog2INiRy9ES kyzcralotSxaM Yes Penguin Random House U0001F634 should change the name to Random PenguinU0001F525 austinbarnard45 Sure although it might be quite a short livestream Lot can go wrong but we�ll provide video wa� httpstcoJmOJn9HhxS FNarolles TGMetsFan98 This is what matters most Erdayastronaut KlotzAdam NASASpaceflight We�ve tested a subscale version in a wind tunnel with active aero clos� httpstcoM8xZLZVSAq flcnhvy RGVaerialphotos httpstcoHEz9otgJJH RGVaerialphotos Lord of the � TGMetsFan98 KlotzAdam NASASpaceflight Erdayastronaut Yeah Although if it fails right at the end some landing� httpstcodaQDIIWB9x flcnhvy NASASpaceflight Erdayastronaut Minor KlotzAdam NASASpaceflight Erdayastronaut Understanding exactly how the body flaps control pitch yaw amp roll duri� httpstco79jvi22N2R NASASpaceflight Erdayastronaut But a RUD right off launch pad is also possible Fortunately SN9 is almost ready NASASpaceflight Erdayastronaut Stable controlled descent with body flaps would be great Transferring propellant� httpstcovPIIPpDV02 teslaownersSV Kristennetten TesLatino Every 5 to 10 days Kristennetten teslaownersSV TesLatino Faults will never be zero but at some point the probability of a fault wi� httpstcoINU2XAJD7u teslaownersSV TesLatino We measure this primarily in intervention probability This update addressed several issu� httpstcozyF8EFD6IH TesLatino Thanks to a great AutopilotAI team working super hard \n",
      "\n",
      "Doing �neural nets� without testing them again� httpstcomnN6S3srrE auchenberg Latency will improve significantly soon Bandwidth too teslaownersSV This build should be noticeably better with interventions RationalEtienne teslaownersSV toadmeister Yes teslaownersSV toadmeister I�ve spent more than half my life in California amp love the state But frankly I think� httpstcos5xouoedjT toadmeister And � Sweden is still right with zero deaths Oct 29 httpstcob0LyGOtobI TOCNewYorkState True Also fewer heart attacks as way easier to pump blood in 37 gravity MalekKhelifi24 9inety6Prince engineersfeed Now we�re talking Also Stephenson 218 is in the constellation Scrotum haha engineersfeed Small fry The sun converts over 4 million tons of mass to energy every second WholeMarsBlog Accurate ajtourville EndelSound Grimezsz httpstco2hx6tlA8F7 bluemoondance74 SpacePadreIsle Some challenges with high winds Looks like Sunday for static fire SpacePadreIsle Great shot EndelSound Grimezsz Future AI will appreciate this Teslarati Truth is stranger than fiction waitbutwhy U0001F609 universalsci Urf is so smol homantse28 For a long time Truth be told I�ve eaten at JitB many times over the years even the teriyaki bowl Might buy a Jack in the Box footstool skorusARK Approximately lograte challengerST Same bot just change setting to �combat� SamTalksTesla Well being a phased array antenna it is actually rather flat Tesla should make U0001F525 catgirl robots MachinePix Little crane �Am I just a toy to you� coffeemaestro U0001F923U0001F923 Come here � no come here U0001F447 Wow this mayo sure is salty PPathole pcgamer Max Payne was great on many levels Silent Hill good too Jack in the Box should do double duty as a sperm donor clinic � name is U0001F44C TheWPMontgomery pcgamer One of the best games ever ThatDudeShannon pcgamer FEAR 1 with modern graphics amp sound would rock 1matthewgarcia pcgamer Ok  ZZCOOL pcgamer All games in this thread are far scarier amp more creatively so than any horror movie pcgamer FEAR 2 is best imo Also Dead Space 2 They will haunt your dreams rakyll httpstcop1aGokwQpV jgrano305 flcnhvy To the best of my knowledge literally zero equipment was usable without major repairs or upgra� httpstcoVrWvoP79qD flcnhvy All that was left were broken bots amp equipment hardly worth the scrap metal value But we scrounged up spa� httpstcoyWQqaSrBt8 flcnhvy And there were actually zero employees in the factory after GMToyota left They took all good equipment amp� httpstcoC7dfuasTPm ajtourville Bettern nothin or ur U0001F4B0 back WholeMarsBlog U0001F4AB U0001F6F0 HyperChangeTV Tesla team has done great work HyperChangeTV Well tbh our capex efficiency in 2017 was trash U0001F62C westcoastbill Testing for covid is a license to print money arctechinc Tesla Yes very helpful Thanks all beta testers Erdayastronaut Video training amp inference is essential for excellent autonomy engineersfeed Sigh � there should be a new supersonic jet this time electric WorldAndScience Critical to humanity�s future Congratulations SpaceX Team httpstconO1Z98a94f TesLatino Mine is a few days ahead EliBurton teslaownersSV Sure it could be an option in settings teslaownersSV Visualization will tone down significantly for production These are intentionally strident colors Erdayastronaut tobyliiiiiiiiii austinbarnard45 SuperclusterHQ Sure Erdayastronaut tobyliiiiiiiiii austinbarnard45 SuperclusterHQ I�m in Boca every week so maybe we could talk th� httpstcoVb4WD40bsC tobyliiiiiiiiii austinbarnard45 SuperclusterHQ Good point Probably next week in form of a written piece on SpaceX website austinbarnard45 SuperclusterHQ Great pics That we now have the beginnings of a Starship production system is most meaningful WholeMarsBlog Yup With beta updates there�ll be a lot of 2 steps fwd 1 step back situations but pace of improv� httpstcoH2xcSVnGdO bartsanders Working on it Also needs to be able fart at other cars on command SpacePadreIsle Starship is coming together Price change is pushed to Thursday next week Applies only to US for now One week clock will start in other countr� httpstcocjhTxCseLt austinbarnard45 There will be a 360 deg glass Star Bar name tbd at top of high bay DMCRyan Well we have said many times that the price will rise as the product functionality improves How much ti� httpstcoxMeMO5Nu0M StephenKing Agreed Are these performance tires SpaceX Just a smallseeming issue with loss of upper stage camera Probably nothing serious but standing down to� httpstcoZK1vR9xWZL flcnhvy Sure Now that Tesla FSD beta is out in limited release FSD price new or upgrade will go up by 2k on Monday TeslaGong PPathole teslaownersSV teslaraj As soon as we complete testing amp regulators approve So many differe� httpstcod4uoA1jnCX PPathole teslaownersSV teslaraj Yes teslaownersSV teslaraj Haha Teslarati Dependent on proving high safety WholeMarsBlog Not intentional We just wanted to show that you could theoretically convert the entire US vehicle f� httpstcoPcZpbD8JJ6 Erdayastronaut Cold gas for now hot later Rubix161 I mean ya gotta have a tiki bar � Starship nosecone high bay amp tiki bar httpstco9qXYxMMIUj IEEEorg � Erdayastronaut After it gets to orbit a few times Erdayastronaut Got a little melty tbh  Erdayastronaut Those engines could go 300 bar but would be dicey Pushing it for nearterm tests doesn�t achieve� httpstcopULPf49me1 Erdayastronaut Raptor has now run for 90 secs at 300 bar chamber pressure before encountering issues 210 mTF sea� httpstcoRg2eRWhZnT FSD beta rollout happening tonight Will be extremely slow amp cautious as it should Data from 3 engine Starship static fire this morning looks good Proceeding with nosecone mate PPathole toadmeister Yes We also have to consider population lifemonths lost from lockdowns amp other restriction� httpstco0Ct2sVAngy toadmeister Sweden at zero deaths Oct 15 httpstcoGy9a20uMmX JoshTownsend96 Yes juanjacobs jwangARK Firmware is probably a slightly more accurate description but yes RT Tesla Theres no place like homeespecially if it has a Solar Roof\n",
      "\n",
      "This Kansas ranch got theirs installed in 4 days PPathole flyerandyp mojosusan MobiC has too much mobility fusion has too little We need MobiD haha flyerandyp mojosusan Actually it�s my neck � httpstco2vCoAxsrV3 flyerandyp mojosusan Maybe I can be helpful Had MobiC disc put in at C5C6 however 1st surgery failed to remov� httpstcoCzykfyo0IX jwangARK Pretty accurate It�s not so much DNA sequencing as it is using synthetic DNARNA to fix bugs in our code� httpstcoy6GcySVGhM SamTalksTesla London to Beijing would be cool SamTalksTesla Wow that would be quite a trip CiNoTpyrC That�s my kid haha m�t�r tr�nd� httpstcoV0yo4JKbS2 TechAmazing Looks like snoopy Tesmaniancom Current production is slightly better bamtheteslaman1 cleantechnica Doesn�t seem to be any life in this solar system Maybe under the ice of Europa or� httpstcoizk0v9Gi47 RT Tesmaniancom Tesla Model 3 SR Has Lowest Energy Consumption of All BEVs Says Report\n",
      "\n",
      "httpstco7C0V16WT6Y cleantechnica Very creative flcnhvy That free fusion reactor in the sky conveniently converts 4 million tons of mass into energy every second� httpstco3R0oWMReuP Kristennetten teslaownersSV You never know PPathole After Xbox U0001F622 WhatsupFranks kimpaquette Also system should autodelete old data automatically by default UniverCurious Table in tension kimpaquette Yes teslaownersSV Starting production on 7 seater next month initial deliveries early December The gauntlet has been thrown down \n",
      "\n",
      "The prophecy will be fulfilled \n",
      "\n",
      "Model S price changes to 69420 tonight Neopork85 SpaceX NASASpaceflight austinbarnard45 whoisheartbreak Erdayastronaut FelixSchlang� httpstco2Z5mRScc4G gem8mingen Tesla Congratulations Teslarati Making progress 9 meter or roughly 30 ft diameter Will be less roomy with 3 vacuum rocket engines added httpstcopKtDFdiZYC flcnhvy WholeMarsBlog Kristennetten boringcompany Tesla It�s still there but focus is Vegas amp Prufrock our new tunneling machine AstroJordy Kristennetten boringcompany Tesla For sure WholeMarsBlog Kristennetten boringcompany Tesla Maybe a month or so Some finishing touches need to be done on the stations Kristennetten boringcompany Tesla We simplified this a lot It�s basically just Teslas in tunnels at this point� httpstco1xhs2AwXB9 PlayOverwatch Sweet � antonkanerva Yes Everything is slow to a phased array antenna lexfridman Nice �What is love Baby don�t hurt me�� Winston Churchill PlayOverwatch twomad Or maybe 2 weak turrets to allow more strategic degrees of freedom PlayOverwatch twomad Please buff Torb�s turret twomad Um � yes teslaownersSV I have Goosebumps 2 merch Not sure how tbh teslaownersSV HG2G teslaownersSV LotR U0001F918 The Illuminaughty U0001F918 ChotiHaque BillGates DougStanhope bobdylan charltonbrooker EricIdle JimCarrey JohnCleese sapinker Knee deep RT SpaceX This will be the first flight of the upgraded cargo version of Dragon which is able to carry 50 more science payloads than th� RT SpaceX The Dragon spacecraft supporting SpaceX�s 21st cargo resupply mission to the spacestation departed our Hawthorne factory last� chipro Yeah WR4NYGov At least success is in the set of all possible outcomes this time badatlife WholeMarsBlog Diess is doing his best to move in the right direction but he�s in a tough position wi� httpstcotDF8U6Nd4C flcnhvy Good grief SpaceX is getting zero money for this Starship is designed to carry people amp cargo around Ear� httpstcov37QM1KycR Teslarati With FSD we got stuck in a lot of local maximums which wasn�t clear until we hit the ceiling This time it�s right RationalEtienne 28delayslater Thank you much more accurate haha 28delayslater This graph appears to be upside down Teslarati Sheer magnitude of the entire production system is hard to appreciate Almost every element of productio� httpstcoH8pS02oelK TeslaClubIN cleantechnica Will release order configurator probably in Jan cleantechnica Limited FSD beta releasing on Tuesday next week as promised This will at first be limited to a s� httpstco4QrYmB7iI0 shortword jwangARK The SoC�s sync with each other 20 to 30 timessec exchanging output of NNs that should be in� httpstco9cBJMEaaVW jwangARK Tesla FSD computer�s dual SoCs function like twin engines on planes � they each run different neural nets� httpstcodFWLHXU7Ce jwangARK Accurate analysis Quite a few \n",
      "egointelligencegtgt1 people in your comment thread haha Neither MobilEye� httpstcoFdliGoHK01 PPathole slashdot  OhioTesla JenDunlap Tesla CARandDRIVER teslaownersSV Teslarati ElectrekCo Glad Jen is safe PPathole slashdot Wow slashdot Uh ok here we go � Teslarati I don�t think this is accurate Erdayastronaut MariaBartiromo POTUS realDonaldTrump JeffBezos MorningsMaria FoxBusiness Yeah there are lite� httpstcogHoiSZ1V6r Tesmaniancom Even if half that amount it�s still a big deal ennnafnlaus electricfuture5 U0001F923U0001F923 MariaBartiromo POTUS realDonaldTrump JeffBezos MorningsMaria FoxBusiness I have seen no evidence of an advanc� httpstcohBTdTJYTtc electricfuture5 We face a tough dichotomy of applying resources to the old architecture or applying them to the ne� httpstco6qGhblfRK8 flcnhvy Definitely ennnafnlaus Exactly He plays the �poor inventor� card but was rich all along amp invented nothing as far as I kn� httpstco205zz8AL33 ennnafnlaus There are sketchy edits to Tesla wiki that whitewash Eberhard�s problemsglorify his role Pretty odd� httpstcoPPSorKWdI8 ennnafnlaus When Eberhard was fired from the Tesla CEO role in mid 2007 for providing false information to me amp t� httpstco8hJ3VlxZfP Carrenimfa Interesting RT CRAdvocacy �The future of cars can and will be electric if the entire industry starts making and marketing compelling EVs for everyone� Erdayastronaut flcnhvy PelleBrannvall Neopork85 CasparStanley ErcXspace MarcusHouseGame FelixSchlang� httpstcoXlBiDpmUuQ teslaownersSV Erdayastronaut Probably Erdayastronaut I have that exact art on the wall of the place I stay in Boca Chica RationalEtienne toadmeister Yes failure to protect nursing homes was a major mistake happened in most countries� httpstcoCMvdKMriSh toadmeister Sweden was right httpstcobzc2lFDjZQ Erdayastronaut PelleBrannvall flcnhvy Neopork85 CasparStanley ErcXspace MarcusHouseGame FelixSchlang� httpstcolGPVl7K1mI Teslarati Great work by SpaceX valve engineering amp production Neopork85 CasparStanley ErcXspace MarcusHouseGame FelixSchlang CBass3d nickhenning3d SpaceX Our tiles are mechanically attached flcnhvy Neopork85 CasparStanley ErcXspace MarcusHouseGame FelixSchlang CBass3d nickhenning3d SpaceX It m� httpstcowHXamj12IQ Neopork85 CasparStanley ErcXspace MarcusHouseGame FelixSchlang CBass3d nickhenning3d SpaceX Tiles will be� httpstcoXPnQrCXQNc IDAACarmack Compilers need to improve imo Most type pointer or other memory problems can be detected at comp� httpstcon3rZP4uDI1 RGVaerialphotos SpaceX I�m proud to say that that nose is pointier than it needs to be haha RT MotorTrend We put the 2020 Tesla Model Y Long Range electric SUV on our test track to find out what it can do�and it turns out well� SDG2030 anandmahindra MetniGeorges ErikSolheim berniehollywood Norway leads the world NASASpaceflight Passed cryo proof johnkrausphotos SuperclusterHQ SpaceX U0001F44D ajtourville Yeah it�s not a contest Advanced casting crushes bestcase 3D printing but casting doesn�t work wel� httpstcoUscSeP00AQ AstroFarmerBob astroPettit AstroKomrade AstroAnnimal Great pics johnkrausphotos Patreon SuperclusterHQ SpaceX Maybe this should be the flag of Mars TashaARK Additive manufacturing of parts is still far too costly for cars but can rapidly create tooling to accel� httpstcoz9kxjt9Umj RenataKonkoly franktinsley ankitXupta TashaARK Pretty much but I think it may end on a high note RT SpaceX Starman last seen leaving Earth made its first close approach with Mars today�within 005 astronomical units or under 5 mill� EVHQ2 TashaARK Meant to say that it should be fixed in the latest wide release Won�t need to wait for FSD EVHQ2 TashaARK It should be franktinsley ankitXupta TashaARK Exactly We barked up that tree for way too long sigh Gives a false sense of� httpstcoaIGaEnC8f0 PicklePunchD PPathole TashaARK Yes we will play sexy snake jazz U0001F923 ZainRaz4 PPathole TashaARK Yes PPathole TashaARK Yeah provided we do our metal gear snake autocoupler TashaARK Waymo is impressive but a highly specialized solution The Tesla approach is a general solution The lat� httpstcoBbchdqHjjA akidesir Kristennetten Yeah we could put in a setting allowing it to drop as low as 5 ErcXspace SpaceX Erdayastronaut MarcusHouseGame FelixSchlang Great render Note there will need to be an arm� httpstco9g2N7FvSCZ Kristennetten Mimecraft TeslaGong TeslaTested Yes ICannotEnough TeslaTested Autopilot team is making great progress Reality sure is complicated ErcXspace MarcusHouseGame brendan2908 BocaChicaGal NASASpaceflight Aspiring to have no flame diverter in Boca� httpstcoKyENxZ94oy eugenelee3 MarcusHouseGame brendan2908 BocaChicaGal NASASpaceflight We do have giant steel balls haha TeslaTested We just completed a financing round but will let you know when there is another one IheartTesla alexavoigt mikezimon WholeMarsBlog I definitely need to try these tasty cakes amp pastries on my next visit MarcusHouseGame brendan2908 BocaChicaGal NASASpaceflight Mass ratio Liquid oxygen is much denser than liquid m� httpstcoGNhcI8rEh3 IheartTesla alexavoigt mikezimon WholeMarsBlog Had the most amazing kebab ever just outside of Tacheles Too� httpstcoDsGVWDHGNV IheartTesla alexavoigt mikezimon WholeMarsBlog d�ner kebab TribeHoh SpaceX WAStateCommerce You�re most welcome brendan2908 BocaChicaGal NASASpaceflight High bay should be finished except for the giant gantry crane within� httpstcomIEAHkGnFO alexavoigt mikezimon WholeMarsBlog That looks tasty tesladri ChananBos raytech247 WholeMarsBlog The crash absorption rails can be cut off amp replaced with a bolted part for collision repair ICannotEnough WholeMarsBlog Sandy Munro understands engineering flcnhvy teslaownersSV raytech247 WholeMarsBlog That would be like licensing Battlestar Galactica Actually buil� httpstcoHi2oD05YE8 teslaownersSV raytech247 WholeMarsBlog Yes the Gigafactory is the hardest amp most critical product ChananBos raytech247 WholeMarsBlog Battery pack will be a bonded structure with cells providing shear transfer b� httpstcoNbZQeKw0qx raytech247 WholeMarsBlog But now we understand production much better It will be our primary competitive advantage longterm raytech247 WholeMarsBlog Even GM amp Chrysler went bankrupt in 2009 Ford and Tesla are the only US car companies t� httpstcoieaOuIsJRi raytech247 WholeMarsBlog The Model 3 production ramp was sheer agony for two years but that was do or die for Te� httpstcozHqXmcO6Gy EvaFoxU WholeMarsBlog Bringing a new product to volume production is 1 inspiration amp 99 perspiration You do st� httpstcog5DLCmG7wC skorusARK Marginal cost of Starship mass to orbit should be well under 100kg Fully burdened cost depends on flight rate WholeMarsBlog Prototypes are a piece of cake but high volume production of a new technology is extremely hard Ta� httpstcoO1oJwfJ2zG WholeMarsBlog We do expect to make heavy use of LFP for medium range cars amp stationary storage WholeMarsBlog Berlin will use 4680 cell with structural battery pack amp front amp rear single piece castings Also a� httpstcopTeAj9z79i AstroJordy WholeMarsBlog They are WholeMarsBlog I do so wish that more companies would put down their spreadsheets for a moment and focus on making� httpstcoLCkXzfpoZx PPathole klodua Erdayastronaut TrevorMahlmann johnkrausphotos MikeSeeley 7 bar absolute which is fine for� httpstcoAfru9AdajY klodua Erdayastronaut TrevorMahlmann johnkrausphotos MikeSeeley Cryo pressure test succeeded but a small le� httpstco2wYticEwfr Erdayastronaut TrevorMahlmann johnkrausphotos MikeSeeley One of the best shots ever SamTalksTesla SpaceX Much sooner mdcainjr SpaceX 45thSpaceWing NASA Great photo DirtyTesla SpaceX It will soon RT SpaceX Falcon 9 launches 60 Starlink satellites to orbit completing SpaceXs 43rd flight of a previously flown rocket booster https� SpaceX Once these satellites reach their target position we will be able to roll out a fairly wide public beta in� httpstco2klHnFmgZ1 RT SpaceX Deployment of 60 Starlink satellites confirmed httpstcox83OvjB4Pa flcnhvy alvianchoiri We�re not seeing notable differences yet I think the boosters could probably do 100 reflig� httpstcoZUgaqUVPy7 PPathole alvianchoiri Roughly a week or two turnaround is all that�s needed to meet max launch demand Starship S� httpstcoYXmoOFZU8n alvianchoiri Ahem yes it was the 3rd flight of this booster amp 3rd flight for active half of fairing Aiming for� httpstcoAWxTjEfC2d 4th flight amp landing for this booster httpstcoUOtvMkgXqH 5 minutes from launch Looks good so far httpstcoon2f1pY5jt cleantechnica So crazy to subsidize pollution This is not good for people especially in dense cities with heavy� httpstcoACKoIzWcPW SciGuySpace It�s a step in the right direction but they should really aim for full reusability by 2026 Larger ro� httpstco6hVvKUQdON Turn volume to 11 amp play Powerglide in your Tesla \n",
      "\n",
      "httpstcol07Yc02P7g teslaownersSV FSD will solve these issues Music volume on a Tesla goes to 11 because it�s louder than 10\n",
      "\n",
      "httpstcoab5hAMo3EN Kristennetten flcnhvy One of my favorite writers Foundation is tough to make into a movie but has outstanding potential OrionsGauntlet U0001F4AF christianserino httpstcogLnevuneYl Rewatched Young Frankenstein this weekend Still awesome Ovaltine httpstcoWiMdyFSuiq flcnhvy The remake has the potential to be great I kinda liked the original tbh but it�s possible to take it up a level Hollywood should just start with the sequel amp skip the original because financials cleantechnica This article is wildly incorrect about lithium battery costs by a factor of 5 or more presently amp 10X longterm SamTalksTesla teslaownersSV PPathole RationalEtienne stevenmarkryan Kristennetten WholeMarsBlog Pretty wild� httpstco8PQh2kaLCF New SpaceX droneship will be called �A Shortfall of Gravitas� Nothing can escape gravity not even black holes and they really tried IDAACarmack Would be cool to put yourself in the mind of the car while it�s driving Model3teslaJ Coming soon Call of Booty great game httpstcoHyfszSrm6m teslaownersSV SpaceX Vectorspace bird�s eye view coming with FSD PPathole SpaceX Unexpected pressure rise in the turbomachinery gas generator Erdayastronaut SpaceX All of that and more We�re doing a broad review of launch site propulsion structures av� httpstcoNkFviDSxpp alandail SpaceX Exactly SpaceX We will need to make a lot of improvements to have a chance of completing 48 launches next year lexfridman I agree with Lex Mike94160775 Tesla ElectrekCo Teslarati Glad you�re ok Sofiaan Tesla Haha amoghbhushan TeslaClubIN WholeMarsBlog MKBHD Thanks for waiting TeslaClubIN WholeMarsBlog MKBHD Next year for sure tobyliiiiiiiiii RationalEtienne SPEXcast WilliamMBrown PPathole thesheetztweetz waEMD SpaceX� httpstcoZFBqLHXK3F RationalEtienne SPEXcast WilliamMBrown PPathole thesheetztweetz waEMD SpaceX SpaceXStarlink� httpstcohSCBeF8MNf SPEXcast WilliamMBrown RationalEtienne PPathole thesheetztweetz waEMD SpaceX SpaceXStarlink WANationalGuard Great WilliamMBrown RationalEtienne PPathole thesheetztweetz waEMD SpaceX SpaceXStarlink WANationalGuard Browns� httpstcoggoEsDif2J PPathole thesheetztweetz waEMD SpaceX SpaceXStarlink WANationalGuard Average latency will improve as more sat� httpstcopiqitzEIa5 tobyliiiiiiiiii RationalEtienne PPathole thesheetztweetz waEMD SpaceX SpaceXStarlink WANationalGuard Very s� httpstcoEtjXxIv2vq RationalEtienne PPathole thesheetztweetz waEMD SpaceX SpaceXStarlink WANationalGuard Yes Starlink is design� httpstcor4RRGVpvR0 PPathole Erdayastronaut NASASpaceflight BocaChicaGal TheFavoritist Probably 5 or 6 with an optimized tanker a� httpstcosmk67d3Fmx thesheetztweetz waEMD SpaceX SpaceXStarlink WANationalGuard Starlink will be a revolution in connectivity esp� httpstcobQfD2KWhBn WholeMarsBlog MKBHD Yeah AdlanBogatyryov Erdayastronaut NASASpaceflight BocaChicaGal TheFavoritist Great letter It will be increasingl� httpstcoXkwyOn48IO Erdayastronaut NASASpaceflight BocaChicaGal TheFavoritist The ship rings are thicker than they need to be for� httpstcos4Itp647WO MKBHD It�s nextlevel FOX10Phoenix U0001F4B0U0001F4A9U0001F923 officialalishap flcnhvy Tesla Glad to hear your Mom is ok Zshauladventure NASAKennedy ulalaunch SpaceX NatReconOfc Good to see Inspiring for future of space somiteslagirl Model3Owners FutureJurvetson CFSenergy CUPPlasma MIT The new heat pump in Model Y is what re� httpstcorJ35A3VlUf thatt3slaguy Model3Owners FutureJurvetson CFSenergy CUPPlasma MIT Yes coming soon ErcXspace SpaceX FelixSchlang MarcusHouseGame Erdayastronaut NASASpaceflight Great render The circumferentia� httpstco6oTTSIX8aF Model3Owners FutureJurvetson CFSenergy CUPPlasma MIT That�s very hard to do Have you tried pushing on the c� httpstco7elp9Pf9sl FutureJurvetson CFSenergy CUPPlasma MIT It�s cool amp for sure can amp should be done but I suspect its best cas� httpstcoPmYScvZozY austinbarnard45 Weld esthetics will improve greatly in upcoming Starships PPathole Haha true Why do showers have such a wide range EvaFoxU  RationalEtienne WholeMarsBlog Yes UniverCurious physicsJ Light is not as fast as you�d think RT SpaceX Once this Dragon docks to the spacestation there will be two Dragons docked simultaneously Between crew and cargo missions� RT SpaceX SpaceX training of astronauts that will fly on board Dragon�s first operational mission is complete When the crew arrives for� RT SpaceX After launch of Crew Dragon�s first operational mission with astronauts on board SpaceX will launch its 21st cargo resupply mi� SamTalksTesla Maybe we used too many magenta spotlights RT KathyLueders NEWS We�re now targeting 240am ET Saturday Oct 31 for the launch of the NASA and SpaceX Crew1 mission to send ast� ValaAfshar Tesla Having a low center of gravity makes a world of difference to safety vmone1 waEMD SpaceX We will probably IPO Starlink but only several years in the future when revenue growth is� httpstcokH4QryrKOe PerezShivam waEMD SpaceX Fate loooves irony haha waEMD SpaceX Glad SpaceX could help We are prioritizing emergency responders amp locations with no Internet connectivity at all austinbarnard45 True teslavibes That�s total market not all Tesla We do see Tesla reaching 20M vehiclesyear probably before 2030 bu� httpstcoGXnszaCAR3 CashMoneyLemon CathieDWood skorusARK Total market CathieDWood skorusARK Seven years for sure to 30M new fully electric vehicles per year six years maybe Five ye� httpstcoFY4nwWbx56 flcnhvy CathieDWood Both will do original cars CathieDWood We aren�t cutting the price of Model 3 to 25k I was referring to a future car that will be smaller than Model 3 brianheide Tesla What about a heavy duty paintball machine gun mounted on the bed rails Pickenheim matthewkerle New version coming soon WholeMarsBlog Suppliers We�re only doing high energy nickel ourselves at least for now Also maybe the presenta� httpstcoL8Pv6okpkY httpstcor1Sox7vta8 TeslaGong DrSallyL sydneyev TeslaTom TeslaStraya outbacktesla evoutback Michael01996367 cvanderstock� httpstcoqUF0HH8qcg ScottAdamsSays U0001F923U0001F923 flcnhvy Kristennetten Checking into it Kristennetten Totally up to you but if you head to a Tesla delivery center near you amp maybe help out new owners that would be cool IDAACarmack Completely agree Erdayastronaut Yes the flaps are now directly driven by electric motors with a gearbox No more hydraulics Thanks Tesla Team for great work on deliveries For new owners we super appreciate accommodating us on delivery ti� httpstcoPPzzHXbxgp ScottAdamsSays There are times when I feel like I�m living in a Dilbert cartoon ArtifactsHub That species has stood the test of time flcnhvy NASASpaceflight austinbarnard45 PPathole Mostly 304L some 301 Broke at 301 to 304 interface SN9 will� httpstcowpePRV5S4r NASASpaceflight austinbarnard45 PPathole 8 bar differential in ullage 9 bar at base due to propellant head It�� httpstcoQvGKYW2qd0 PPathole We just need enough height to test body flaps amp drawing propellant from headers vs main tanks Will do se� httpstcoPGzAfeSC7X First flight is to 15km or 50000 ft Nosecone amp front flaps next week SN9 next month Starship SN8 with rear body flaps httpstcoGdxMbzX0ct waitbutwhy httpstcoV6us36YHO6 muratpak Sure EvaFoxU True RT SpaceX Falcon 9 will launch NASA�s super cool Interstellar Mapping and Acceleration Probe IMAP which will help researchers better� hisdirtremoves SpaceX Not bad ennnafnlaus ajtourville Exactly ajtourville MunroAssociates Sandy Munro understands engineering DaRealWamos Turns out they mostly press the letter s amp U0001F4A9 on the typewriter U0001F923\n",
      "httpstcoKaarAJVL2b Centaur with a bow obviously httpstcocfKfkFFXp0 justpaulinelol EvaFoxU Haha EvaFoxU Something like this httpstcoNDVuUmms67 ajtourville Can�t support 3 wheel vehicles Not safe enough RGVaerialphotos 9007mm MarlonSIX60 Something appealing about HawkingHartle idea but I agree with TurokFeldbruggeLehners muratpak U0001F5A4 ur algo PPathole MarlonSIX60 True PPathole Erdayastronaut There are some practical size constraints too Can�t be too big to fit in the engine comp� httpstcoaXz1YhEldj PPathole Erdayastronaut Doesn�t seem to be a problem We could probably increase area ratio given 330 bar max de� httpstco0gutz4Kgij MarlonSIX60 httpstcoGzljMNYCiu DJSnM Preburners ignite then main chamber MarlonSIX60 Where is our prediction of probability inaccurate MarlonSIX60 Or energy amp time but besides that what podcastnotes Genetic engineering is too slow unless you use a synthetic virus What can�t we predict tobyliiiiiiiiii Erdayastronaut Yeah but might not need it Erdayastronaut 107 expansion ratio You can a little bit of flow separation towards the end of the nozzle RT SpaceX Completed a full duration test fire of the Raptor Vacuum engine at SpaceX�s rocket development facility in McGregor Texas http� RT SpaceX RVac and sea level Raptor with a human for scale httpstcoxqiPQUY4Pl Only thing beyond ludicrous is plaid httpstcorHuWk20EGG xiangaw WholeMarsBlog This does seem like the opposite of open OpenAI is essentially captured by Microsoft WholeMarsBlog Haha true oneandonlyheady Maybe I will � TechAmazing UniverCurious Jets are so cool flcnhvy Gfilche YahooFinance Pretty much 1stPrinciples4L Gfilche YahooFinance Yes Gfilche YahooFinance Yahoo Finance is as dumb as it sounds ICannotEnough Yes Neopork85 SpaceX Haha tobyliiiiiiiiii Tesla Roadster will be better PPathole Probably Cybertruck ATV Roadster amp Semi\n",
      "C A R S httpstco4Aq1A5cYkH FutureJurvetson hiromichimizuno Thanks for your many years of support through very tough times ICannotEnough WholeMarsBlog We will be a little below that this year most challenging year we�ve ever had but� httpstcoYgDE1OsZXA WholeMarsBlog That�s about right Maybe a little faster umutcnbostanci Yes teslaownersSV cgi irl tobyliiiiiiiiii CARandDRIVER Tesla Haha RT CARandDRIVER We drove a Model S Long Range Plus for 4227 miles in California and believe we could have made it to 430 Tesla explain� The extreme difficulty of scaling production of new technology is not well understood It�s 1000 to 10000 harder� httpstcomcxxFnSqfJ NASASpaceflight BocaChicaGal Haha We intend to increase not reduce battery cell purchases from Panasonic LG amp CATL possibly other partners too H� httpstcoFL4LwCp3Q0 Important note about Tesla Battery Day unveil tomorrow This affects longterm production especially Semi Cybertr� httpstcoFO4xHXAs9Q EvaFoxU Thanks Neopork85 SpaceX MarcusHouseGame We really need better legs for Starship They�re coming Neopork85 SpaceX MarcusHouseGame Most likely all flaps will fold after landing to reduce wind tip over force T� httpstcoDyNlT5EKGk Model3Owners Fine we�ll do it already U0001F600 ARKInvest TashaARK Good analysis although I think we should wait until FSD is a bit more mature singingsurfer I�m pretty sure Tesla could do a much better autocorrect The bar is so low haha LorenzoTeixeir4 ZogFotPik samiralyateem IDAACarmack True IgorAntarov soumiksf IDAACarmack Custom ultra high speed bus amp efficient cooling teslaownersSV jgrano305 soumiksf IDAACarmack Ok flcnhvy soumiksf IDAACarmack Pretty much any machinelearning jgrano305 soumiksf IDAACarmack It�s big ZogFotPik samiralyateem IDAACarmack Sure soumiksf IDAACarmack Yeah we will open Dojo for training as a web service once we work out the bugs samiralyateem IDAACarmack There are a lot of pointless zeroes in FP32 neural nets You can chop off 16 of the 3� httpstcomlPVbpni4y soumiksf IDAACarmack Dojo uses our own chips amp a computer architecture optimized for neural net training not a� httpstcoOiCfJT3gNA llamaa35079089 IDAACarmack Tesla You really want waypoints this much IDAACarmack For Dojo we�re betting on FP16 with floating floating point essentially truncating mostly zeroes� httpstcobIXl4qIH22 WholeMarsBlog Yes BabyTesla3 WholeMarsBlog Yes WholeMarsBlog There�ll be lots of green space around factory but building itself is continuous The �open� areas� httpstcorabjKrtQlw SavedTesla peterdog15 Shaped like a diamond amp aligned on true north A prior track record of exceptional achievement in engineering is required but no prior experience working on� httpstcoWZADDNXMID If you feel Neuralink might have incorrectly overlooked your resume or declined to  make an offer please lmk in co� httpstcohP3822Z0Dg teslaownersSV Model3Owners TrungTPhan Felt I had done enough on the Internet Zip2 amp PayPal that my work would� httpstcoctbFloI1sO Model3Owners TrungTPhan It took an utterly insane amount of work to move the SpaceX amp Tesla success probabilities above zero TrungTPhan To be frank in the early days I thought there was gt90 chance that both SpaceX amp Tesla would be worth� httpstcocN2bFBua5q fermatslibrary Irrational is such a funny word to describe numbers of course I still love you DeborahPatteri TENETFilm Sure but which planet TENETFilm Good movie Erdayastronaut Current was too strong for droneship to hold station Thrusters to be upgraded for future missions ChrisDungeon Lot has happened in 13 years Teslarati It will be very insane Speedrunning Factorio in real life � cleantechnica No but you make some great points Important to note that iron�s cost advantage is partly offset by� httpstconeZ5HKUc4A CoderFoot m2jr BernieSanders Yup Fallout Shelter is on your Tesla Tap the Entertainment button m2jr BernieSanders Implicit conflation of consumption amp capital allocation is the foundational error Kristennetten Great idea U0001F5A4 Fallout Radio  U0001F5A4\n",
      "httpstcogNo8XFjx8b TJLK There are some eerie parallels between The Boring Company amp VaultTec We also built our first demonstration tunnelvault in LA Doubles as an underground nuclear shelter U0001F600U0001F44D httpstcoCvI0YRjObE flcnhvy lexfridman Yeah tesladri IDAACarmack lexfridman Should be happening soon IDAACarmack lexfridman A bit more obscure but Starhammer amp Stainless Steel Rat engineersfeed At first I thought that was a parrot JohnnaCrider1 jhall They remind me of these guys httpstcoQt502U08np Story of my life httpstcoVn0Rv0yQ5q Tunnels under cities with selfdriving electric cars will feel like warp drive\n",
      "\n",
      "First operational tunnel under Vega� httpstcowIZYhEd6Pa jackfarrington For sure jackfarrington Tesla Good point Have you hugged a tunnel today ARKInvest aurmanARK Good analysis PPathole Exactly flcnhvy Gary the snail is still winning but we�re gaining on himher Embrace tunnels ValaAfshar Tunnels are the solution to traffic You can have as many levels as you want Usable tunnel depth far e� httpstcolqfdQwHH2g MatthewCable6 ErcXspace Just a guess but probably mid teens Booster amp stacking on orbital pad are likely limiti� httpstcoaTQPexe6dK ErcXspace Pretty accurate simulation although SN8 will use 3 Raptors If SN8 craters SN9 amp SN10 are close behind� httpstcowvQFq4OqUA teslavibes Couldn�t agree more � major software improvements are already in place to extend its life amp more coming cleantechnica Definitely not Smartwatches amp phones are yesterday�s technology Neuralinks are the future engineersfeed Seems like they should make a whole outfit out of that material sama Ancient Greece had it all amp then committed suicide Nobody digs your grave better than yourself flcnhvy sama True HistoryInPics The LEGO Movie was awesome sama The Story of Civilization First book is a little dry but second book The Life of Greece is incredible httpstco46lBciX7FI Erdayastronaut I�m wearing your F1 engine shirt right now PPathole rykllan FelixSchlang spaceXcentric MarcusHouseGame SpaceX Cumulative mass to orbit per year correc� httpstco8Lcu71XzvM PPathole rykllan FelixSchlang spaceXcentric MarcusHouseGame SpaceX That�s the number that really matters rykllan FelixSchlang spaceXcentric MarcusHouseGame SpaceX Anyone tracking tonnage to orbit per year for all launch vehicles One way or another excitement guaranteed Support of greater Boca Padre Brownsville community is very much appreciated SN8 Starship with flaps amp nosecone should be done in about a week Then static fire checkouts static fire fly to 60000 ft amp back SpacePadreIsle BocaChicaGal NASASpaceflight Can someone do a boat service from South Padre to Boca WhatsupFranks samiralyateem WholeMarsBlog Exactly Problems like that have been addressed PPathole WholeMarsBlog Yes Good insight samiralyateem WholeMarsBlog All frames stitched to single frame tricky as all cameras overlap in different ways� httpstcoyzCixdgm38 WhatsupFranks brandonbernicky WholeMarsBlog Much flcnhvy WholeMarsBlog Yes brandonbernicky WholeMarsBlog Releasing private beta in 2 to 4 weeks public beta early access owners who opt in� httpstcoOYCpr9I9Hq WholeMarsBlog And this still isn�t using the dramatically better �4D� aka simultaneous surround video from 8 cameras architecture CBass3d NASASpaceflight MarcusHouseGame Cool richardreinariv He has no clue Astra Sorry to hear that I�m sure you�ll figure it out though Took us four launches to reach orbit Rockets are hard Many exciting things will be unveiled on Battery Day 922 U26A1UFE0F Ostimusic We will make super efficient home hvac with hepa filters one day jhall RBReich If Reich actually cares about global warming why is he making so much hot air flcnhvy U0001F1E9U0001F1EA Nat�rlich U0001F1E9U0001F1EA Bitte arbeiten Sie bei Tesla Giga Berlin Es wird super Spa� machen httpstcoFcNoPr2oII MonicaLewinsky Try a Tesla amp you�re welcome to give it back if you decide you prefer a Subaru slashdot Vera Rubin Observatory is cool PPathole eugenelee3 UniverCurious 112 CharlieMunger00 UniverCurious Munger is right eugenelee3 UniverCurious httpstcof8rWY4ExeE UniverCurious BlackScholes formula is kinda bs Big difference between a finance approximation amp fundamental physics  pure math wintonARK True DisruptResearch Tesla is best understood as a collection of about a dozen startups mostly in series increasingly� httpstcozYnsXiSP4N DisruptResearch Tesla RampD productivity is exceptionally good due to the caliber of engineering talent Tesla Model S amp X have hospitalgrade HEPA air filters 3 amp Y are really good too This has a big effect on healt� httpstcoytsK3LmfiI KleeFilmReview  RT Teslarati Tesla Energy ramps hiring at Giga New York for accelerated solar production\n",
      "httpstcoIha2DREwu0 Techgnostik RBReich Touch� RBReich All Tesla workers also get stock so their compensation increased proportionately You are a modern day moron RT SpaceX Onboard camera view of Falcon 9�s SAOCOM 1B launch and first stage land landing httpstco2IEZYiyYG5 MstrOfUniverse PPathole EvaFoxU Yup EvaFoxU 13 Teslarati Rawlinson didn�t design Model S Prototype was done before he joined amp he left us in the lurch just as t� httpstcooy9yVM84xm Erdayastronaut PPathole SpaceX We�re pretty close to the manufacturing size limit for a milled copper amp steel ja� httpstcoT8d3yN4xRy A la guerre comme � la guerre harsimranbansal Haha BnOrdhaug And starts tweeting If you bombard Earth with enough photons eventually it emits a Tesla AK IDAACarmack There is already bidirectional communication between human amp AI via phones amp computers It�s just lo� httpstcot42iuaZMwH Erdayastronaut PPathole SpaceX Above 50 likely to make it PPathole SpaceX This is a test engine Flight articles are fixed with no gimbal SpaceX Worth noting that thrust is only slightly higher with the big bell nozzle version Larger bell is primarily� httpstcoKIeGOvt0rD RT SpaceX The first Raptor Vacuum engine RVac for Starship has shipped from SpaceX�s rocket factory in Hawthorne California to our dev� Tesmaniancom Yes skorusARK Chart understates lithiumion potential by roughly 13 Model 3 rated as most reliable car httpstco26DAGJLTDY Turns out you can make anything fly haha httpstcoFJdHqRdVDb PPathole CureVacRNA Exactly This is not fully appreciated austinbarnard45 Starship SN6 flew asimilar hop to SN5 but it was a much smoother amp faster operation U0001F1E9U0001F1EAU0001F5A4Giga Berlin MannschaftU0001F5A4U0001F1E9U0001F1EA\n",
      "Vielen Dank f�r Ihre hervorragende Arbeit an Giga Berlin httpstcoKVo5mBfnXt Great trip to Germany Support from government amp people is super appreciated saraboutall Tesla U0001F923U0001F923 RT SpaceX Deployment of 60 Starlink satellites confirmed httpstcoDdBxIOdOg1 RT SpaceX Liftoff httpstcosTZnAn3VTX StefanTPeterson Tesla Trust ur butt haha slashdot An AI with U0001F353 picking as its goal will result in Strawberry Fields Forever SpceEnthusiast tjmurphymit thesheetztweetz ExploreMars SpaceX TheeSpaceDude Over time outer 20 will have 3� httpstco5z9P2upkqs SpceEnthusiast tjmurphymit thesheetztweetz ExploreMars SpaceX TheeSpaceDude Yeah AlertAlarms Just go through resonant modes fast It�s when you hang out there that problems arise tjmurphymit thesheetztweetz ExploreMars SpaceX TheeSpaceDude The outer ring of booster engines 20 of 28 hav� httpstcoSSAQZJ8act Erdayastronaut flcnhvy GerberKawasaki Videodrome teslaownersSV justpaulinelol httpstco0CKVHrmtf1 teslaownersSV justpaulinelol httpstcoQoBVXGQ8Fz teslaownersSV justpaulinelol Sorry sir I think I have momentinertiaphobia RT SpaceX Falcon 9 first stage lands at Landing Zone 1 to complete this booster�s fourth flight httpstcotUtAcKmIFn frydave youyanggu DFisman Yeah PPathole NigelLockyer Penn Fermilab LHC tbh httpstcooVaoHsg1of NigelLockyer Penn Fermilab If you ever want to build a long accelerator tunnel straight or circular I know some people � RT SpaceX After launching SAOCOM 1B and two rideshare payloads to orbit Falcon 9�s first stage returns to Earth and lands at Landing Zon� RT SpaceX Deployment of SAOCOM 1B confirmed httpstcogqtxQMpy48 RT SpaceX Falcon 9�s first stage has landed at Landing Zone 1 httpstco0y5FkVqPk8 RT SpaceX Liftoff httpstcoAIwrMzB3D1 VitalVegas Cool RT neuralink Snout Boops httpstcoZJogq2ulvf NigelLockyer Penn Fermilab Physics is the law everything else is a recommendation SamTalksTesla Teslarati If some company has solved a useful thing that we can just buy that would be great It�s� httpstcoIxhyT6NuiC Teslarati Tesla Germany designed amp built the vaccine RNA printers for CureVac but subject to some CureVac IP th� httpstcoX32SdA871G engineersfeed Technically James Watt measured a pony added 50 amp rounded up haha httpstcovnkO0MTrUC flcnhvy GerberKawasaki Also Critical Thinking flcnhvy GerberKawasaki Alexander and the Rise of Hellenism and Film Studies GerberKawasaki Wow I super loved astronomy but took it at Queens not Penn Definitely one of my favorite class� httpstcoo4FjcGlAhw teslaownersSV justpaulinelol Yeah he sent it to me through a mutual physics prof friend at CaltechCERN Very ba� httpstcotJsh1Exz1Q justpaulinelol It�s too embarrassing Just learned that my physics prof from Penn is head of Fermilab amp still has some of my old homework U263AUFE0F ruskin147 It is unfortunately common for many in academia to overweight the value of ideas amp underweight bringing� httpstcoOFFoojCqNv lvaux kulpability tlowdon EthicalSkeptic People are extremely unlikely to die of Covidsarscov2 alone If you� httpstcog7vxPUpkVn PPathole kulpability tlowdon EthicalSkeptic That amp Giga Berlin are why I�m headed to Germany this week Convers� httpstcoQqDcDOV2JO tlowdon EthicalSkeptic Antibody halflife for cov2 is very short In a study that SpaceX did working with Harvard� httpstcodyL0P8xvUF PPathole tlowdon EthicalSkeptic Yeah kulpability tlowdon EthicalSkeptic One person at Tesla out of 60000 was hospitalized in serious condition he� httpstcoUNJGvlveuk tlowdon EthicalSkeptic Some of the tests we initially tried at Tesla were 50 false positive including some fro� httpstcobY0ooPHPp7 WholeMarsBlog MarcusHouseGame Neopork85 SpaceX Erdayastronaut SpaceToday1 ElonsWorld FelixSchlang ChrisGNSF DJSnM Not yet MarcusHouseGame Neopork85 SpaceX Erdayastronaut SpaceToday1 ElonsWorld FelixSchlang ChrisGNSF DJSnM Yes� httpstcoO2qpNV2Qry ICannotEnough People read too much into this level of detail It�s not useful for predicting the future nor can� httpstcoi2rRGlbX8J ICannotEnough Critical feedback is always appreciated btw biogirl09 JaneidyEve Tesmaniancom SpaceX We can�t have a blanket pass but maybe for some events Neopork85 SpaceX MarcusHouseGame Erdayastronaut SpaceToday1 ElonsWorld FelixSchlang ChrisGNSF DJSnM Boost� httpstcovV2AGJE8MW flcnhvy PPathole IDAACarmack Later versions of a larger device would have that potential EvaFoxU waitbutwhy Yup PPathole IDAACarmack Actually C although the syntax could be improved esthetically IDAACarmack I like C because it avoids class warfare PPathole IEEESpectrum neuralink A nightcap would probably work best IEEESpectrum neuralink Pretty much Tesmaniancom Good summary Conceptual telepathy RT waitbutwhy If you ever fantasize about having been an 1880s engineer working in Edison�s lab apply to work at neuralink Ahem � starting soon httpstcoeCGHH5stOn �All of physics is either impossible or trivial It is impossible until you understand it and then it becomes trivial� E Rutherford flcnhvy Giant gap between experimental medical device for use only in patients with extreme medical problems amp wid� httpstcof0FIB1W94Z tobyliiiiiiiiii Erdayastronaut flcnhvy DJSnM Testing with shorter RVac skirt went well Full length skirt test coming soon Neuralink product demo in 3 hours Webcast at httpstcoY9wREd78oj Erdayastronaut flcnhvy DJSnM Raptor reached 230 mTF over half a million pounds of thrust at peak pressure wit� httpstco1sPnwBelpA nextspaceflight Good chance something will slip but yeah Sunday is intense Erdayastronaut flcnhvy DJSnM Only need 2 engines AstroJordy flcnhvy DJSnM Boring Co tunnel in Vegas is only a few months from being operational flcnhvy DJSnM Neuralink this month amp Tesla next month SpaceX probably October We will have made a lot of progre� httpstcocjSgR0sJIT zeitmas DJSnM Soon DJSnM They�re quite accurate EvaFoxU That number sure comes up a lot U0001F923U0001F923 ajtourville peterdog15 I�m fine with reasonable drone footage Just needs to be at a fair distance amp not coming r� httpstcohsPkw3Zk1Y GerberKawasaki Tesla Thanks to a smart and hardworking team at Tesla These sure are wild times � Teslarati Much appreciated This was a serious attack thejackbeyer NASASpaceflight Brave Starhopper carried the day ItMotivatesUs Only so many days waitbutwhy httpstco19h4u8TA2a WholeMarsBlog We were too obtuse for our own good although I think it works esthetically Those are foldedover c� httpstcoaLExCZiJ1l cleantechnica But actually nothing Was surprised to hear they�re across the road Adding silicon to carbon anode� httpstcooohNzZEh9v cleantechnica Nothing U0001F440 lexfridman Then they leave the house and hardly ever call their parents The Big Bang started very very smol httpstcoXVvcuALZ2o httpstco8R92iEXVvN PPathole Asimov was U0001F525U0001F525 Should we believe things proportionate to the evidence that they are true yes Olde skoole analog synthesizer from ancient Britain httpstcoJG0fI3ChxC slashdot httpstcoWoIwia7zTn Kristennetten flcnhvy Was just there amp weather was calm Sure hope it stays that way Teslarati Tesla brake lights are powered by a miniverse inside a microverse httpstcoaduoTl537T flcnhvy Exactly Erdayastronaut Tesla No we�re focused on developing new products amp scaling production flcnhvy neuralink Yes will show V2 Still far from LASIK but could get pretty close in a few years Lengthy background on Neuralink by waitbutwhy httpstcoz2YfAupDRD Live webcast of working Neuralink device\n",
      "Friday 3pm Pacific httpstcoPouLbrGzFU engineersfeed Astronaughty OwenSparks PPathole Erdayastronaut dauqhx universalsci No PPathole Erdayastronaut dauqhx universalsci Mars is easier than the moon for propellant production Could get� httpstcoToySP1uKiF Erdayastronaut dauqhx universalsci Starship propellant is 78 oxygen so an O2 plant on the moon would be enou� httpstco1TUKV0HViG waitbutwhy Now I want candy dauqhx universalsci There�s a lot of frozen CO2 amp H2O on Mars Heating the planet will densify the atmosphere It�s solvable universalsci Perhaps one day there will be an ocean on the northern part of Mars jchybow jwangARK wintonARK It�s almost working reliably jwangARK wintonARK Very different computers are needed for training vs inference FSD is mostly Int8 but Dojo is� httpstcoZCnW4Z3nxH jwangARK wintonARK Not exactly GPUs for NN Lots of cores optimized for dot products with fast local memory amp sup� httpstcoL8xesE456A teslaaddicted Erdayastronaut No amp not possible at this scale Erdayastronaut Orbital launch mount NASASpaceflight Yeah Occasional flights from land are ok but frequent daily flights probably need 30km  18 m� httpstco5LLiqZacuU schristakos skorusARK Sure shortword On it coach23life I tried to warn them but they just dug their own grave twice as fast skorusARK 400 Whkg with high cycle life produced in volume not just a lab is not far Probably 3 to 4 years NASASpaceflight StarshipSuper Heavy which is 10X mass of Zenit will mostly launch from ocean spaceports longterm RT Teslarati Tesla Model 3 is �most satisfying� car across all ages study reveals httpstcoka0iha7z6C httpstcoXUZMuLvFHF johnkrausphotos NASASpaceflight SpaceX SuperclusterHQ StarshipSuper Heavy is 10X bigger in mass amp volume A metaphor for life httpstcoCdlL4ieLju RT jaxzin Power is flowing again from the grid \n",
      "Grateful for my Tesla Powerwall and 162 hours of uninterrupted backup power U26A1UFE0FU26A1UFE0FU26A1UFE0F ht� Tesmaniancom Accurate distance calculation using only vision is fundamental Other sensors can help but are not fundamental DARPA Uh oh More fun games coming soon to ur Tesla httpstcozBdYGOuHsz httpstcohKpWJnXsFc strikes again Sinan25 Sorry noise reduction has gotten much better recently amp will continue to improve DamiKolz09 U0001F923 jussiwen Hardcore techno aber vielleicht ein bisschen Fahrstuhlmusik auf der Toilette New Tesla feature coming that enables your car to play snake jazz or Polynesian elevator music through its outside speakers wherever you go httpstcoBki5SOOroe flcnhvy JaneidyEve Hopefully we have achieved AI symbiosis by then JaneidyEve Or a selfperpetuating autocracy based on a farcical aquatic ceremony where the king is chosen by a wise panzer in a lake JaneidyEve Direct democracy Short comprehensible laws voted on directly by the people \n",
      "Snake Jazz U0001F40DU0001F3B7 WholeMarsBlog It�s quite hard for us to write the software needed to cover basic car functionality but maybe we c� httpstcoYWLQuX5rbv GPT3 sounds like Simon amp Garfunkel lyrics Bureaucracy is inherently kafkaesque Tesmaniancom Dankesch�n Brandenburg amp Gr�nheide harsimranbansal EvaFoxU True U0001F923U0001F923 GeffenAvraham BryanFlanks SpellMender VladKarmon torybruno ULAEngineer SpaceX U0001F446 Medical check is Aok httpstcozTRMvQ6Wvx He might run for President in 2024 httpstcoWo34fhKugu Erdayastronaut nextspaceflight Not having long chain hydrocarbons amp lowering preburner combustion temperature make a big difference EverydayElon ajtourville commaai Tesmaniancom Yes WholeMarsBlog ajtourville commaai Tesmaniancom Yes DanielleFong ajtourville commaai Tesmaniancom Absolutely needs liquid cooling We�re applying our experience� httpstcoEzlAXWg3rp TeslaTested That�s an error in Canada The lease payment is specifically lower than loan financing as Tesla expec� httpstcoVAE3Ppljox tobyliiiiiiiiii Erdayastronaut nextspaceflight We will push for ten flights with Starlink flcnhvy Erdayastronaut nextspaceflight Almost never need to replace whole engine but some individual parts like� httpstcofdnxdWh4eT Erdayastronaut cnunezimages SpaceIntellige3 Mostly for employees but we�ll support public access whenever it�s� httpstcoY5DB5mkZPu EvaFoxU cnunezimages SpaceIntellige3 Absolutely U0001F603 U0001F3DD Erdayastronaut nextspaceflight I don�t want be cavalier but there isn�t an obvious limit 100 flights are possi� httpstco3dHapZhixH cnunezimages SpaceIntellige3 I�ve been working in Boca since Sunday August heat amp humidity in South Texas is int� httpstcoxEPds9ItUW ajtourville commaai Tesmaniancom Dojo V10 isn�t done yet About a year away Not just about the chips Power� httpstcotSbttIdUHJ spacecoaststve Scorcher VI httpstco34O80p1hI6 antonioetayo Erdayastronaut CBass3d NASASpaceflight FelixSchlang Yes Elevator music is underrated Erdayastronaut CBass3d NASASpaceflight FelixSchlang It�s counterintuitive but Raptor has so much thrust at h� httpstcoCaGYh9NNd0 RT Tesla Big updates in U0001F1E8U0001F1E6 \n",
      "\n",
      "� TransCanada Supercharging U2705 \n",
      "� Model Y deliveries U2705 \n",
      "� Leasing for Model Y amp Model 3 U0001F3AF\n",
      "httpstcogyFBE� nextspaceflight Payload reduction due to reusability of booster amp fairing is lt40 for F9 amp recovery amp refurb is lt1� httpstcosQGXv49YrS zubinanary SpaceIntellige3 guidodecaso cnunezimages Yes it will have huge nuts haha Teslarati We really need a bigger one so adults can squeeze in too Guaranteed to make a party more fun Works well with flamethrowers SpaceIntellige3 guidodecaso cnunezimages My favorite is one in tension other DoF in compression New Roadster w� httpstcoukLy4Dwqur davidgokhshtein Yes Aloha welcome back from space U0001F4AB httpstcoxWPN09Wtaw Erdayastronaut Yeah will post shortly krystofmitka BiIndia Winning �worst person I�ve ever worked with� is not easy Some real champions are vying for that title Fairing chute control amp ship control are closing the loop locally Both operating on SpaceX autopilot Ms Tree catches fairing in her net httpstcosqlJ63NetB BiIndia U0001F610 RT SpaceX Falcon 9�s first stage has landed on the Of Course I Still Love You droneship � first time a booster has completed six flights� valleyhack GeoffdBarrett Up there somewhere cruising through deep space httpstcoPcybhfpUAD NatGeo Must be aliens spendg8 Yes RGVaerialphotos SpaceX Erdayastronaut This little spit of dirt will take us to Mars jwangARK Humans are swiftly becoming a small percentage of total compute Erdayastronaut ProgrammerDude Max demonstrated Raptor thrust is 225 tons amp min is 90 tons so they�re actually� httpstco44Fge3GIee AdamBlitzer levie U0001F4A8 justpaulinelol NASASpaceflight That�s engine SN We�re building SN8 of the ship NASASpaceflight SN40 is about to be tested amp has several upgrades over 330 bar engine For reference 330 bar on R� httpstcovk8NzLR0SZ Raptor engine just reached 330 bar chamber pressure without exploding httpstcokVKRWksvaB Erdayastronaut Yeah Starship will be a tiny dot at 20km Hard to see with naked eye We�ll do lots of flights CBass3d Erdayastronaut NASASpaceflight FelixSchlang Very impressive render Note legs will be bigger amp there�� httpstcouP3t8oW5tF PPathole universalsci This might sting a little � PPathole The �early investor� part of Tesla is wrong That bs has been pushed by Eberhard worst person I�ve ever� httpstcoXVuOEiG9eX universalsci Also there could be long period comets that intersect Earth right now We just haven�t observed the� httpstcomezrzCneWO universalsci Pretty much Cybertruck option package httpstco6Vz4XNoHf9 SteveStuWill jagarikin Wow BoosterBuddies NASASpaceflight My buttontwiddling makes no sense at all U0001F923U0001F923 flcnhvy nickcappelli Grimezsz You got it\n",
      "httpstcoF2rXGcz964 EvaFoxU That�s a great one �Tanks 4 the memery�  panzer of the lake Some big milestones coming up httpstcoK3v3yddg6J DrPhiltill Africa is big AwardsDarwin Bold move sir bold move EuricSanti luisabinader Tesla Thank you Tesla is most honored CowderySedge tbdnonymous Very real possibility BillRatchet U263AUFE0F WholeMarsBlog U0001F923U0001F923 Please trash me on Wikipedia I�m begging you History is written by the victors � except on Wikipedia haha nickcappelli Grimezsz Cover of Barbie Girl tbdnonymous Yes Probably more accurate to say Great Filters plural nickcappelli Grimezsz Yes it�s called Cyber Girl We must pass The Great Filter Sounds right httpstcodm76FJq3hX Drrami tomdestella RobertDowneyJr Seriously longelon Crysis rocks A truly useful exaflop at de facto FP32 Kristennetten engineersfeed Metal has a fudgelike consistency near its melting point so you can just smoosh it together engineersfeed This is how we make Falcon 9 httpstcomDoPO17YB9 httpstco326rkUEYW8 flcnhvy ICannotEnough Tesla This is out of our hands so hard to predict Maybe on order of 10 billion km of re� httpstco38fzby8pNO austinbarnard45 Yes realwillreil GiulioCoraggio U0001F923U0001F923 hasty govt U0001F923U0001F923 teslaownersSV PPathole ICannotEnough flcnhvy Tesla A lot of work remains Technically we have it working in� httpstcoWzG16TAxEe PPathole ICannotEnough flcnhvy Tesla Dojo is still being built Maybe a year or so from V10 ICannotEnough flcnhvy Tesla Autopilot was trapped in a local maximum labeling single camera images uncorrelate� httpstcoW1gOo6ETzH ICannotEnough flcnhvy Tesla Your insights over the years have been excellent That�s approximately right GiulioCoraggio Absolutely but it doesn�t seem that govt can move fast enough teslaownersSV Ok flcnhvy It will blow ur mind haha httpstcoLqnKEN5Kjn Our main engineering locations are Palo Alto Austin amp Seattle but working remotely is acceptable for exceptional candidates tomdestella I want to do electric vtol supersonic sooo bad but my brain will overload universalsci Asteroid impact risk is well understood but not comets Those worry me Great mission patch design httpstcop2Ic1crPef NikolaTruth Haha true WholeMarsBlog alesssj4 Yup flcnhvy teslaownersSV Exactly Kristennetten teslaownersSV Erdayastronaut Also definitely coming haha Will only be on relatively recent cars� httpstco6GBXaxTn4a vicentes teslaownersSV Erdayastronaut Sorry this is embarrassingly late Two factor authentication via sms or a� httpstcorAXDlK9jTi bennettm Erdayastronaut Yes We�re labeling bumps amp potholes so the car can slow down or steer around them when safe to do so teslaownersSV Erdayastronaut Not perfectly at first but yes Will take maybe a year or so to get really good at� httpstco3S2XZAnacE Erdayastronaut This is what I meant by �4D� httpstcoxpX7j5SnPy Erdayastronaut The FSD improvement will come as a quantum leap because it�s a fundamental architectural rewrite� httpstcoK2CB4Nimiy Tesla is developing a NN training computer called Dojo to process truly vast amounts of video data It�s a beast P� httpstcoAipo9Gd8ek Teslarati More software improvements coming cleantechnica Significant improvements coming to SX air suspension soon via software update Will simultaneously� httpstcoJjunwv2j94 stoolpresidente H2O CH4CO2 N2 iron nickel chrome aluminum not necessarily in that order will matter far m� httpstcoiAQiCeTdoA waitbutwhy lukeprog What are the odds �  viktaur27 Teslarati The rate of improvement from original GPT to GPT3 is impressive If this rate of improvement� httpstcokTpPeRcwT5 Teslarati Tesla team is working hard on increasing Powerwall production RT JimBridenstine NEWS NASA amp SpaceX are targeting no earlier than Oct 23 for Crew Dragon�s first operational mission to the SpaceS� CBass3d Erdayastronaut SN8 Erdayastronaut Impressive stoolpresidente Psyche httpstcoZkOI8FPVZZ Erdayastronaut KenKirtland17 torybruno ulalaunch SpaceX blueorigin DJSnM ThePrimalDino Yes integrated with the tip of the nose Teslarati This is important Erdayastronaut Probably not faster than utility power can be restored PowerwallPowerpackMegapack can certainly� httpstco712ZNZTmbj KenKirtland17 torybruno ulalaunch SpaceX blueorigin Erdayastronaut DJSnM ThePrimalDino Starship fairing wil� httpstcoU2wI4CGI5t pantsbobsponge andyjstanton TimFernholz You are correct This is a substantial underpayment compared to what ULA has received TimFernholz So why is this madness acceptable for BoeingLockheed rockets TimFernholz Nobody would suggest buying airplanes that only fly once amp then crash into the ocean That would be absurd � Tesmaniancom I generally try my best not to be on patents TimFernholz Efficiently reusable rockets are all that matter for making life multiplanetary amp �space power� Becau� httpstcoAlG6Ue95vE WholeMarsBlog Will be amazing to see it in operation Biggest casting machine ever made Will make rear body in a� httpstcomwZJYLhd88 renarddemoscou BillGates Sorry to hear this What can we do to help Teslarati No surprise Teslarati Aiming to make it super fun Teslarati A little toastier each flight flcnhvy Same hex tiles slightly different mounting method Need bigger sections of tiles to see how they hold up� httpstcoXNIPTypahf SN7 will be new alloy test tank taken to burst pressure SN8 will have body flaps amp nosecone SN 5 amp 6 at Starship Production Complex in Texas httpstco8BVRD5VdU7 MarkGoldberg Tesla One day soon I will wear this outfit httpstcoT0SnF4UgYK MarkGoldberg Tesla I was trying to channel Herb Tarlek from WKRP httpstco0RC72S0ZAY MarkGoldberg Tesla Note the fabulous plaid jacket amp gingham shirt combo U0001F923 archillect Twin Peaks SamTalksTesla Working on my Mom�s cousin�s farm in Saskatchewan at age 17 I think we did a barnraising that day wonderofscience httpstcoy7LrlouXr9 Erdayastronaut Not sure yet but hopefully Will need leg amp other repairs Probably SN6 flies before SN5 We need� httpstcoCGXSNck6uv lexfridman Clearly RT Erdayastronaut Spot the tiny humans This shot really puts it into scale A full blown Starship and SuperHeavy will be hard to fat� ramacvr Kristennetten PPathole BernieSanders Also true Kristennetten PPathole BernieSanders U0001F923U0001F923 PPathole BernieSanders Over time since we give all employees shares my ownership is diluted automatically From� httpstcoAQgI0Cu2HN RT ThePlanetaryGuy Videos like this will always amaze me\n",
      "\n",
      "Astronomer Jan Koet captured this video in 2007 of Saturn appearing behind t� RationalEtienne BernieSanders I wonder if he reads his Twitter feed BernieSanders And why aim your attacks at Tesla when we�re doing more than any other company on Earth to advance� httpstcoVc6iSFxioZ BernieSanders That bs was pushed by oil amp gas interests to distract people from the 5 trillion per year they re� httpstcopTAWt9dHHc Siconik1 WR4NYGov 28delayslater BernieSanders U0001F3AF WR4NYGov BernieSanders Good analysis He also includes a govt loan for high efficiency vehicles that Tesla paid b� httpstcoiaklN5fvpb westcoastbill U0001F4AF johnkrausphotos Erdayastronaut queuemax NASASpaceflight Yeah full name of engine is Velociraptor or Raptor for short tobyliiiiiiiiii Erdayastronaut queuemax NASASpaceflight Haha good catch Booster will have fixed legs that add 2m in height Erdayastronaut queuemax NASASpaceflight I think we can get VelociRaptor TW on par with Merlin Latter also s� httpstcodlMy5rybrK NASASpaceflight It will look crazy tall with booster amp fairing at 122m  394 ft RenataKonkoly TimothyBuffett Teslarati JaneidyEve Ok TimothyBuffett Teslarati Apart from failing to quarantine elderlyatrisk people early a mistake they recognize they were right Teslarati httpstcokogvN4rMJ8 Good piece on Giga Berlin construction httpstcopA8sgEpV9Y FutureJurvetson SpaceX This seems increasingly likely RT SpaceX Falcon 9�s first stage has landed on the Of Course I Still Love You droneship httpstcoszO3thMxqa Teslarati This is gonna be great SN5 httpstcoGlZ28KFVHU RT Tesla Looking up in Model Y httpstcoiAfpJ491Zz RT SpaceX Starship takes flight httpstcoIWvwcA05hl PPathole TrevorMahlmann arstechnica We�ll do several short hops to smooth out launch process then go high altitude with body flaps ebelardo73 bluemoondance74 TrevorMahlmann arstechnica Soon TrevorMahlmann arstechnica V11 legs will be 60 longer V20 legs will be much wider amp taller � like Falcon bu� httpstcocGEWEqny7S flcnhvy Progress is accelerating RT NASASpaceflight LAUNCH Starship SN5 has launched on a 150 meter test hop at SpaceX Boca Chica\n",
      "\n",
      "Under the power of Raptor SN27 SN5 h� SciGuySpace Exactly austinbarnard45 Mars is looking real TrevorMahlmann Possible flight in 3 mins Erdayastronaut Most likely flcnhvy Lindw0rm cleantechnica True Lindw0rm cleantechnica Highly likely down the road cleantechnica True fact NASASpaceflight Scrubbed for the day A Raptor turbopump spin start valve didn�t open triggering an automatic abo� httpstcoQDdlNXFgJg Erdayastronaut I�m in the Boca control room Hop attempt in 33 minutes RT RealLifeStarman �We are going to go to the moon we are going to have a base on the moon we are going to send people to mars and make� Erdayastronaut SpaceX For sure engineersfeed Tbh I must confess to occasionally pontificating about highconcept things engineersfeed Pretty much Erdayastronaut Nosecone closing is recommended but not required for safe entry When space travel becomes as common as air travel the future of civilization will be assured RT NASA To anybody who has touched Endeavour you should take a moment to just cherish this day \n",
      "\n",
      "Touching words from AstroDoug as � waitbutwhy Space is the new air RT NASA LIVE An update on todays SpaceX Dragon Endeavour splashdown returning AstroBehnken amp AstroDoug home to Earth Hear from J� RT JimBridenstine UPDATE PostSpaceX Crew Dragon DM2 Splashdown News Conference no earlier than 445pm ET Watch live httpstcoqPe� Congratulations SpaceX amp NASA on completing first crewed Dragon flight U0001F1FAU0001F1F8 returned RT SpaceX Webcast of Crew Dragon�s return to Earth from the spacestation with AstroBehnken and AstroDoug U2192 httpstcobJFjLCzWdK h� RT SpaceX Good splashdown of Dragon confirmed Welcome back to Earth AstroBehnken and AstroDoug httpstco0vAS3CcK9P Dragon is stable in the water Acquisition of signal expected in 5 mins 4 mins to Dragon loss of signal due to atmospheric entry plasma Dragon will travel from south of New Zealand to Florida in 37 minutes Coming in hot httpstcodzFr5BNBfF Astronauts land in 2 hours NASA SpaceX RT SpaceX Crew Dragon�s flight back to Earth with AstroBehnken and AstroDoug remains on track targeting splashdown off the coast of P� Erdayastronaut SpaceX However we did prove that a SuperDraco landing could work by doing a propulsive hover httpstcoMr7VFIQwWf Erdayastronaut SpaceX All correct Parachutes were originally the backup landing system with SuperDraco thruster� httpstco941A2oDu5H meier1028 SpaceX SpaceStation AstroBehnken AstroDoug Great game NatalCicuto Tesla Kristennetten TeslaForTheWin Working on it RT CommercialCrew AstroDoug amp AstroBehnken will spend one more night in space prior to returning to their homeland Earth\n",
      "\n",
      "While as� RT NASA The view from inside the SpaceX Dragon Endeavour as AstroBehnken amp AstroDoug monitor their departure from SpaceStation ht� RT SpaceX Separation confirmed Dragon performing 4 departure burns to move away from the SpaceStation httpstcoea14fozdO8 RT SpaceX Crew Dragon will depart the SpaceStation with AstroBehnken and AstroDoug in about 6 hours and splash down off the coast of� engineeringvids The simplest solution is not necessarily the most satisfying RT cleantechnica Tesla Autopilot Accidents 1 out of 4530000 Miles US Average 1 out of 479000�Miles httpstcoNnBeTmY1Tr RT Tesla Tesla Q2 Vehicle Safety Report httpstcoC7no6bBwGc U0001F9D9U200DU2642UFE0F httpstcoxxvcWMrTwS cybrtrck Absolutely Longlasting art is incredibly difficult This BBC article provides a sensible summary for how it was done httpstcole3r20BWID RT JimBridenstine NEWS Teams from NASA and SpaceX remain GO with plans to bring AstroDoug and AstroBehnken home to Earth on Sunday� RT NASA Theyre coming home U0001F30EU0001FA82\n",
      "\n",
      "On Aug 1 astronauts AstroBehnken and AstroDoug will depart the SpaceStation on SpaceXs Crew Dra� The Great Pyramid was the tallest structure made by humans for 3800 years Three thousand eight hundred years  httpstco6DU46eMbni RT CommercialCrew NASA and SpaceX remain GO with plans to bring AstroDoug and AstroBehnken home to Earth this weekend Teams will c� waitbutwhy So true Ramses II was U0001F60E Aliens built the pyramids obv Iearnsomethlng Ancient Egypt had an incredible esthetic that stands to this day notch U263AUFE0F matfabrix engineersfeed Witch logic httpstcoo5xAopSNw1 matfabrix engineersfeed Things we take for granted like flying would have had you burned at the stake for witchcraft not that long ago engineersfeed Engineering is magic made real JaneidyEve Lo Que Construimos httpstco2yg5GAtgV9 thesheetztweetz Cool httpstco8lpvwbeC4R Starship SN5 just completed full duration static fire 150m hop soon U0001F5A4U0001F9DBU200DU2640UFE0FTotal Eclipse of the Heart U0001F9DBU200DU2640UFE0FU0001F5A4 httpstcon8djdlKnbE lnterestingMaps Iearnsomethlng U0001F62E bluemoondance74 PPathole flcnhvy shravantr NeuroSkeptic Not that I�m aware of PPathole flcnhvy shravantr NeuroSkeptic Yes Could also extend range of hearing beyond normal frequencies and amplitudes Deus Ex flcnhvy shravantr NeuroSkeptic Neuralinks are currently meant for mature brains amp functionality is lost if remo� httpstcoc3O4RRavZ8 shravantr NeuroSkeptic Yes should be possible to create a neural shunt from motor cortex to microcontrollers in� httpstcoHpPvgJFhms NeuroSkeptic Will show neurons firing in realtime on August 28th The matrix in the matrix NeuroSkeptic They don�t fire all at once Some go several seconds to minutes without firing Some fire several ti� httpstcokY8H0oyZYX NASAPersevere ulalaunch NASALSP Congrats on a great launch But sometimes when we touch �\n",
      "httpstcoKMassjCtIx jelle56367384 Anvithvittal DNPthree tiesto Adagio for Strings is great\n",
      "httpstcoRgY1P1VGoU Losing It\n",
      "httpstco9HOY0ldzg4 EuroSandor RSprachrohr U0001F923U0001F923 RenataKonkoly Sneakyness Mein Herz Brennt Best boss battle song ever httpstcoJIl6vzhQAx flcnhvy Robot Heart is U0001F525U0001F525 Sneakyness One of the all time best tobyliiiiiiiiii Sure Sure could use a good rave\n",
      "What�s your favorite techno I � I just died in your arms tonight The rumor that Bill Gates amp I are lovers is completely untrue WholeMarsBlog PPathole Yeah Display will also soon render Teslas specifically as their model amp color instead of� httpstco5lpnPLTP24 keith31345919 PPathole httpstcoS8mdWgCdFg keith31345919 PPathole We�ve been working on this for about 4 years Originally meant for rabies vaccine but it� httpstcoFSf77XHiII keith31345919 PPathole httpstco0kAAv0DtNn PPathole U0001F3B6 Billy G is not my lover U0001F3B6 PPathole Sounds like he doesn�t realize Tesla makes the vaccine machine for CureVac mkarolian Tesla Thanks for letting me know Will dig into it GreenDragonBot U0001F609 thesheetztweetz Sum gt parts Teslarati Should add a few miles of range more in slow traffic Kristennetten xiangaw OwenSparks BernieSanders The government has the most money by far They talk in trillions jgrano305 TeslaOwnersNBay Haha no one can ever have our top secret fart technology TeslaOwnersNBay U0001F495 U0001F495 samlopezXx Teslarati Sure Teslarati Tesla is open to licensing software and supplying powertrains amp batteries We�re just trying to accelera� httpstco5t9vGkLWda xiangaw OwenSparks BernieSanders What he doesn�t appear to appreciate is that government is just a monopolist corporation in the limit slashdot  Techgnostik schristakos BernieSanders Agreed EvaFoxU schristakos BernieSanders Haha DMCRyan rodamn It�s a prototype of the color schristakos BernieSanders And to think I used to like Bernie U0001F622 httpstcoadojS2UCe3 vistacruiser7 schristakos BernieSanders BernieSanders U0001F54AU0001F54A schristakos BernieSanders Maybe he�s feeling the bern haha NASASpaceflight Fuel spin valve didn�t open Will fix amp try again tomorrow Also some odd TVC hydraulic pump behavior NASASpaceflight I was just out at the launch pad Connector damaged in the storm but fixed now Might be able to� httpstcoFB7e5nOq2E PrisonPlanet Whether commercial or government monopolies are bad for the people Teslarati Sounds great ennnafnlaus TheOnion Haha Das Kapital in a nutshell httpstcomG44mMkitx anthm17 What I like most is their great sense of humor The left is losing the middle RationalEtienne TheOnion Exactly RationalEtienne atNickVega TheOnion U0001F923U0001F923 Hold my beer httpstcoIK3tT1x4wP TheOnion Once an Onion now a Rose atNickVega TheOnion Wow you think about me a lot YourAnonNews You dropped this YourAnonNews U0001F339 EvaFoxU Haha RT teslacn Pick up the energetic wallpapers and charge your everyday adventure httpstcoHOTDtLpdpw cleantechnica Giga Berlin will come together at an impossibleseeming speed The prefabricated construction method� httpstcox2DRFewiAL Almost a decade ago Original Dragon in background PPathole RhiddhiD Ya just can�t beat BR httpstcoUfay65lZJj AVRWC Planet Claire is U0001F525U0001F525 cybrtrck Fair point Will discuss with team RhiddhiD He was amazing Great song\n",
      "httpstcowj4YdJglSH spottedmodel cleantechnica Nickel is the biggest challenge for highvolume longrange batteries Australia amp Ca� httpstcokq81CQoGFL PicklePunchD cleantechnica U0001F923U0001F923 SamTalksTesla That�s me Haha cleantechnica This has a lot of potential Lithium is pretty much everywhere Teslarati Whoa cool TheOnion U0001F923U0001F923 Kristennetten yourfavgas ajtourville Has to be blue steel  Mattiecola ajtourville We need high Brinell hardness amp high corrosion resistance Because of Cybertruck�s faceted� httpstcodNkkGaDjq4 flcnhvy yourfavgas ajtourville I really want to do this Will be great fun Could be both LA and Austin yourfavgas ajtourville Turning them into shade for an outdoor restaurant here in Boca ajtourville Cool flcnhvy GhostTeslaPhx 28delayslater CrewTesla jrosinski97 marcbenton ray4tesla Yes GhostTeslaPhx 28delayslater CrewTesla jrosinski97 marcbenton ray4tesla Not impossible WholeMarsBlog Those were the days U0001F923U0001F923 RT ccsakuras httpstcoemkzCfGarZ RT MKBHD NEW VIDEO  Why Tesla Model Y is Their Most Important Car Auto Focus Ep 5\n",
      "\n",
      "httpstco3lC3l2Rgcj httpstcoL65zAxYcTr teslaownersSV PPathole maureendowd Ring of Fire httpstcogSJ3Np4CAP iliketeslas PJHORNAK RandyVegetables I know Congratulations to the people of Bolivia U0001F1E7U0001F1F4 PPathole maureendowd The song I whistle most is Strangers in the Night RandyVegetables Some of whom seriously think Tesla toppled the Bolivian govt sigh httpstcoyC5gaa12DW maureendowd Great song karaswisher maureendowd elon Haha thanks Kara  erikmaza maureendowd For sure TheFavoritist NASASpaceflight BocaChicaGal Yeah we�re hunkering down here until the hurricane passes AdolfoMorenoS historyofarmani Exactly Cool Model 3 review by iamjamiefoxx httpstcohJDD7BjkE3 teslacn Tesla will add a power lift gate at no cost HansNoordsij Agreed hydrogen fool sells make no sense Pronouns suck historyofarmani Also we get our lithium from Australia nichegamer U0001F923U0001F923 akinfermo Yeah would have been way better just to send everyone 6k I bet no one on U0001F339 Twitter even has a guillotine Poseurs � engineersfeed slow drag on cigarette Facebook Haven�t heard that name in years � U0001F339 Twitter sucks stevenbonchev APompliano Something like that If politicians could legislate wealth everyone would be a trillionaire These are jammed to gills with special interests earmarks If we do a stimulus at all it should just be direct payments to consumers PPathole Pretty much Goal of government should be to maximize the happiness of the people Giving each person money allows them to decid� httpstcolwfXHVKSJF As a reminder I�m in favor of universal basic income Another government stimulus package is not in the best interests of the people imo Tesla solar panels are 149Watt \n",
      "httpstco5LpLhqgAzw realDonaldTrump Tesla Thank you on behalf of the Tesla team We look forward to building Giga Texas SciGuySpace Competition ensures companies work hard to serve the needs of their customers schristakos PUBG Something fun is coming vincent13031925 UniversalPics TomCruise SpaceX Could be great teslaownersSV cleantechnica That�s a great idea Tesla We are actually looking for revolutionary actuaries for Tesla Insurance Please inquire if interested cleantechnica Tbh we are just a bit less foolish than before RT CommercialCrew While in orbit astronauts AstroBehnken and AstroDoug performed a habitability assessment of the SpaceX Crew Drago� Teslarati Retail investors like hyperchangetv are remarkably insightful Also ARKInvest SciGuySpace Especially for boost stage which is volumetrically constrained CH4 is way better than H2 Soviet CH4� httpstcoaLeWbZ8Nfl waitbutwhy Basically our pixel size LudaLisl Tesla Can�t emphasize this enough tomosman Tesla Absolutely ajtourville Haha cleantechnica Agreed internetofshit My oven keeps asking for my wifi password It�s not gonna get it Impressive Tianwen1 Mars rover mission launched by China today httpstcoFsyA3I0HrU RT Tesla httpstcojmkacbRb5D BBCFuture Good article BBCScienceNews Similar problem with US data OMGROFLOLJK Good point You don�t have a soul you are a soul cleantechnica Adding people in next version 2 minutes later � httpstcoo5fbBTan1S nytimes Just another day in 2020 Erdayastronaut flcnhvy Individualized mass transit is the future flcnhvy No best to have people seated for safety amp speed of travel Coming soon httpstco6nOgLix6b5 WholeMarsBlog Human overseen at first then fully selfdriving JaneidyEve Can�t say but it involves a U0001F43B Kable10 U0001F525U0001F525 PPathole U0001F923 BucketHat1 This one stings Where are the memes Send in � the memes � teslatrey We need to finish upgrading Autopilot to 4D vs 25D then it will go up very steep slopes Nothing has gaslit more people than the movie Gaslight LoomisP MSNBC 11thHour Well said Brian Williams FutureJurvetson Great shot RT SpaceX Videos of yesterday�s catch of both fairing halves httpstcoyzTDFzlulL FaZeBlaze U0001F44D SamTalksTesla Sometimes that�s how I feel too PPathole Teslarati BocaChicaGal Will attempt to fly later this week srimyneni Erdayastronaut considercosmos SpaceX Sound amp flame color will be quite different glenn22x Teslarati BocaChicaGal Yes Teslarati BocaChicaGal We�re rapidly changing alloy constituents amp forming methods so traditional names like 304� httpstcoFYUuio5Dtz flcnhvy U0001F923U0001F923 cleantechnica At some point we should probably do advertising as artcommunicationentertainment amp to support high quality media RT SpaceX Watch Falcon 9 launch ANASISII U2192 httpstcobJFjLCzWdK  httpstcoiYHJZnZobv Das baby kann noch keinen l�ffel benutzen httpstcoUETqVIA4BP JohnnaCrider0 YStijd IDAACarmack It�s almost right YStijd IDAACarmack We talked about an hour ago He seems fine IDAACarmack VR Twitter with avatars saying the mentions U0001F608 cleantechnica Better to put the money into the product than sales amp marketing PPathole We should bring Life to Mars Both fairing halves caught from space by SpaceX ships RT SpaceX Falcon 9�s first stage has landed on the Just Read the Instructions droneship httpstcofPbckYFySh SpaceX Nice work SpaceX team flcnhvy AstroBehnken AstroDoug SpaceX Still long way to go Reuse only matters to degree that it�s rapid amp complete nasahqphoto Too long since we were last there Launch in 20 mins httpstco1oLtPnW929 WholeMarsBlog cleantechnica In a few months in production release Already does that in alpha build cleantechnica Lithium is extremely common on Earth Found almost everywhere nishy03 hiromichimizuno Congratulations MHI amp UAE bar2t JoeBangles11 Teslarati Stilton Kristennetten businessinsider New deep crimson from Giga Berlin is my favorite Teslarati Important to service very high latitudes Confiantman American but born in South Africa Left by myself when I was 17 businessinsider True the 2012 Model S is still a great car Was driving SN28 a few months ago and driving feel wa� httpstcomrUtLE8Y2V RT businessinsider Teslas Model 3 received top marks from safety organizations in North America Europe and Australia httpstcoNB92� teslaownersSV stephenpallotta Will discuss on Wed earnings call Lots to talk about stephenpallotta U0001F923U0001F923 ahoward8 Yes hiromichimizuno This looks cool PPathole It has that potential maxxrpbtc TheCryptoLark Manny6Manny jungleincxrp digitalassetbuy MoonLamboio JWilliamsFstmed Good article I� httpstcoAnIte06dlj teslaownersSV waitbutwhy It�s not really set up for tours but maybe it should AstroBehnken SpaceX NASA SpaceStation Manufactured only 5 mins from LAX waitbutwhy Some contribute more Y chromosome amp mitochondria are constant except for mutations BWillOfficial WholeMarsBlog neuralink Yes Kristennetten That is just one part of the surgery For this to scale it must be fully automated like LASIK This would solve a lot of brainspine injuries amp is ultimately essential for AI symbiosis fermatslibrary Fermi was awesome He understood the right questions to ask RT archillect httpstcovR7ThoKnCp m4ttwegner flcnhvy U0001F923U0001F923 m4ttwegner flcnhvy BDE m4ttwegner flcnhvy How come Hulk never loses pants flcnhvy Yes PPathole No prior neuroscience background is required This is primarily an electricalelectronic chip designme� httpstcoVMq2atdV5d RT SpaceX Targeting Monday July 20 for Falcon 9 launch of ANASISII from SLC40 Solving highvolume highreliability lowcost production problems is especially valued If you�ve solved hard problems with phones  wearables sealing signal processing inductive charging power mgmt� httpstcorq3AWMZxvo serhatserhatst Many PPathole Summarizes pretty much every biz school case study It�s inevitable httpstcoeBKnQm6QyF izzynobre Excuse me I only sell Doge Will those who write the algorithms ever realize their negativity bias ModelYendofICE wintonARK Pretty much wintonARK We better hustle with Neuralink Not moving fast enough Thanks Just stop EvaFoxU U0001F495U0001F495 PPathole Kristennetten U0001F923U0001F923 LewisMartin engineersfeed Gigafactory is the product even more than the car ZikryZamir Yes engineersfeed Carefully hidden teslaownersSV Kristennetten Sure Kristennetten Might be an indooroutdoor rave space on the roof Giga Berlin httpstcoUXQMUVTWXf Pontolemaeus SilverDeGeneral BBCScienceNews Exactly this is a serious problem Ratio of retirees to workers is� httpstcoqiVas5gtpC vincentdiong GerberKawasaki Considering flcnhvy SpaceX Small note latch on post near base is gone amp powered Ethernet wire is less obtrusive in production version BBCScienceNews httpstcoxxRXfrQhBs PPathole BBCScienceNews This thing we call �money� is just a slow lossy amp unsecure database for labor allocati� httpstco5vCGJ8o31r nnalinas BBCScienceNews Trying to set a good example haha Mars needs people GerberKawasaki Great work by Tesla software engineering BBCScienceNews Population collapse is 2nd biggest danger to civilization after AI imo Erdayastronaut flcnhvy SpaceX Yeah will take less than a minute to order on httpstcoQ1VvqVmJ2i when it goes live flcnhvy SpaceX Starlink terminal has motors to selforient for optimal view angle No expert installer required� httpstcoxndTXRDnl2 niksanae Ok alexavoigt WholeMarsBlog U0001F914 Erdayastronaut thesheetztweetz BryceSpaceTech SpaceX ulalaunch torybruno MHIGroup roscosmos PeterJBeck� httpstcoirMxFy991y TeslaAircraft flcnhvy Tesla Exactly WholeMarsBlog Tesla Autopilot was literally named after the term used in aviation Also what about Autobahn teslaownersSV engineersfeed The strength amp perseverance of the people of Tesla despite facing extreme difficulties engineersfeed Playable on any Tesla EfficiencyLast jaminwestby teslaownersSV jgrano305 TeslaratiTeam Teslarati Should do this automatically thesheetztweetz BryceSpaceTech SpaceX ulalaunch torybruno MHIGroup roscosmos Mass to orbit is a more accura� httpstcoltqH2VuLgc Teslarati Cute davidtayar5 TeslaLisa SteveHamel16 vincent13031925 SPadival BarkMSmeagol annerajb PJHORNAK WPipperger EcoHeliGuy Wow katlinegrey Reusability is essential A rocket that is single use is just as absurd as a single use airplane F9 e� httpstcoWfnFSt3C5Y vincent13031925 Wild times SpaceflightNow We�re being extra paranoid Maximizing probability of successful launch is paramount summergamefest Welcome anytime bradyleonard Well I do care very much about sustainability of civilization but there is some truth to the irony part haha TeslaTn jgrano305 TeslaratiTeam Teslarati DollyParton Yes in plan Superchargers and public high power wall c� httpstcojZxsR4h8VS ChrisJCav jgrano305 TeslaratiTeam Teslarati U0001F440 jaminwestby teslaownersSV jgrano305 TeslaratiTeam Teslarati I think so jgrano305 TeslaratiTeam Teslarati Doing range testing now Number will be significantly higher than 300 Extreme� httpstcofs0PmcIoic jgrano305 TeslaratiTeam Teslarati We have reduced pricing on Model Y LR dual motor amp will offer a LR single moto� httpstcoFBhkiIhsc3 teslaownersSV jgrano305 TeslaratiTeam Teslarati Yes vicentes TeslaratiTeam Teslarati It may be able to reach 250kW at low states of charge jgrano305 TeslaratiTeam Teslarati No as range would be unacceptably low lt 250 mile EPA TeslaratiTeam Teslarati We had to increase some wire thicknesses in SX to reduce resistive heating Technically� httpstcoTcIVzvc5RA MightyTesla SamTalksTesla ElonsWorld NikolaTruth WholeMarsBlog RenataKonkoly stevenmarkryan� httpstcoiU3lMUqeS5 WholeMarsBlog Thanks  PPathole That is the nearterm danger of AI nichegamer I didn�t mind DA2 DA1 was awesome Mass Effect 2 talking about sequels is amazing MKBHD Haha OprahSide Maybe he should design flag of Mars engineersfeed 48 65 78 20 74 6f 20 74 65 78 74 httpstco1MQXFAKPzf I spoke with Korolev�s family today\n",
      "He was one of the very best\n",
      "U041AU043EU0440U043EU043BU044CU043EU0432  U041AU043EU0440U043EU043BU0451U0432 AliAfshari In general we need to improve how podcasts play OptimoPrincipi SPQR httpstcogVfc9M3BHz djzinc kenyanwalstreet True haha RationalEtienne flcnhvy PPathole IheartTesla Death is the loss of information thatt3slaguy flcnhvy PPathole IheartTesla Earning power post augmentation would easily pay for itself if that�� httpstcoBpzWErSOyS flcnhvy PPathole IheartTesla Absolutely TeslaParaTodos EvaFoxU Tesla U0001F440 mjkapkan EvaFoxU Tesla Probably a good one to design amp engineer in Germany bluebnd EvaFoxU Tesla Even more Techgnostik EvaFoxU Tesla Ok scr00chy EvaFoxU Tesla U0001F440 EvaFoxU Tesla Berlin Model Y is the one to watch That is a revolution in automotive body engineering finally burakaydik True Wow IHOP amp GitHub are close Best use of the term �Full Stack� PPathole IheartTesla For sure This is both great amp terrifying Everything we�ve ever sensed or thought has been� httpstcoB3ZXD384qD redmercy Yes buzzindelhi Sorry should hopefully be soon kenyanwalstreet Not actually a payout just a vesting of stock options It may never pay out as the stock can�t b� httpstco8Zg37STXT9 IheartTesla No easy way to answer this in a tweet but helping with dire brain injuries is our first priority Details Aug 28 AI symbiosis while u wait vistacruiser7 flcnhvy There�s some of that too flcnhvy True it sounds so surreal but the negative propaganda is still all out there amp easy to find in social me� httpstcoWJRzIbKh1H PPathole Make sure to read ur terms amp conditions before clicking accept TeslaGong PPathole Samwise Gamgee PPathole Altho Dumb and Dumber is U0001F525U0001F525 Progress update August 28\n"
     ]
    }
   ],
   "source": [
    "print(no_punc_text)"
   ]
  },
  {
   "cell_type": "code",
   "execution_count": 84,
   "id": "0982b639",
   "metadata": {},
   "outputs": [],
   "source": [
    "import nltk\n",
    "from nltk.tokenize import word_tokenize"
   ]
  },
  {
   "cell_type": "code",
   "execution_count": 85,
   "id": "5a37dd22",
   "metadata": {},
   "outputs": [
    {
     "name": "stderr",
     "output_type": "stream",
     "text": [
      "[nltk_data] Downloading package punkt to\n",
      "[nltk_data]     C:\\Users\\pearl\\AppData\\Roaming\\nltk_data...\n",
      "[nltk_data]   Package punkt is already up-to-date!\n"
     ]
    },
    {
     "data": {
      "text/plain": [
       "True"
      ]
     },
     "execution_count": 85,
     "metadata": {},
     "output_type": "execute_result"
    }
   ],
   "source": [
    "import nltk\n",
    "nltk.download('punkt')\n"
   ]
  },
  {
   "cell_type": "code",
   "execution_count": 86,
   "id": "310f9c38",
   "metadata": {
    "collapsed": true
   },
   "outputs": [
    {
     "data": {
      "text/plain": [
       "['kunalb11',\n",
       " 'I�m',\n",
       " 'an',\n",
       " 'alien',\n",
       " 'IDAACarmack',\n",
       " 'Ray',\n",
       " 'tracing',\n",
       " 'on',\n",
       " 'Cyberpunk',\n",
       " 'with',\n",
       " 'HDR',\n",
       " 'is',\n",
       " 'nextlevel',\n",
       " 'Have',\n",
       " 'you']"
      ]
     },
     "execution_count": 86,
     "metadata": {},
     "output_type": "execute_result"
    }
   ],
   "source": [
    "tokens = word_tokenize(no_punc_text)\n",
    "tokens[0:15]"
   ]
  },
  {
   "cell_type": "code",
   "execution_count": 87,
   "id": "90ffc9c7",
   "metadata": {},
   "outputs": [
    {
     "data": {
      "text/plain": [
       "21122"
      ]
     },
     "execution_count": 87,
     "metadata": {},
     "output_type": "execute_result"
    }
   ],
   "source": [
    "len(tokens)"
   ]
  },
  {
   "cell_type": "code",
   "execution_count": 88,
   "id": "bbcafa99",
   "metadata": {
    "collapsed": true
   },
   "outputs": [
    {
     "name": "stderr",
     "output_type": "stream",
     "text": [
      "[nltk_data] Downloading package punkt to\n",
      "[nltk_data]     C:\\Users\\pearl\\AppData\\Roaming\\nltk_data...\n",
      "[nltk_data]   Package punkt is already up-to-date!\n",
      "[nltk_data] Downloading package stopwords to\n",
      "[nltk_data]     C:\\Users\\pearl\\AppData\\Roaming\\nltk_data...\n",
      "[nltk_data]   Package stopwords is already up-to-date!\n"
     ]
    },
    {
     "data": {
      "text/plain": [
       "True"
      ]
     },
     "execution_count": 88,
     "metadata": {},
     "output_type": "execute_result"
    }
   ],
   "source": [
    "from nltk.corpus import stopwords\n",
    "nltk.download('punkt')      \n",
    "nltk.download('stopwords')"
   ]
  },
  {
   "cell_type": "code",
   "execution_count": 89,
   "id": "1580e798",
   "metadata": {},
   "outputs": [
    {
     "data": {
      "text/plain": [
       "['kunalb11',\n",
       " 'I�m',\n",
       " 'alien',\n",
       " 'IDAACarmack',\n",
       " 'Ray',\n",
       " 'tracing',\n",
       " 'Cyberpunk',\n",
       " 'HDR',\n",
       " 'nextlevel',\n",
       " 'Have',\n",
       " 'tried',\n",
       " 'joerogan',\n",
       " 'Spotify',\n",
       " 'Great',\n",
       " 'interview',\n",
       " 'gtera27',\n",
       " 'Doge',\n",
       " 'underestimated',\n",
       " 'teslacn',\n",
       " 'Congratulations']"
      ]
     },
     "execution_count": 89,
     "metadata": {},
     "output_type": "execute_result"
    }
   ],
   "source": [
    "text_stopwords = stopwords.words(\"english\")\n",
    "text_stopwords.append('from')\n",
    "no_stop_words = [word for word in tokens if not word in text_stopwords]\n",
    "no_stop_words[:20]"
   ]
  },
  {
   "cell_type": "code",
   "execution_count": 90,
   "id": "2d8b83bb",
   "metadata": {},
   "outputs": [
    {
     "data": {
      "text/plain": [
       "['tracing',\n",
       " 'cyberpunk',\n",
       " 'hdr',\n",
       " 'nextlevel',\n",
       " 'have',\n",
       " 'tried',\n",
       " 'joerogan',\n",
       " 'spotify',\n",
       " 'great',\n",
       " 'interview',\n",
       " 'gtera27',\n",
       " 'doge',\n",
       " 'underestimated',\n",
       " 'teslacn',\n",
       " 'congratulations']"
      ]
     },
     "execution_count": 90,
     "metadata": {},
     "output_type": "execute_result"
    }
   ],
   "source": [
    "lower_words = [text.lower() for text in no_stop_words]\n",
    "lower_words[5:20]"
   ]
  },
  {
   "cell_type": "code",
   "execution_count": 91,
   "id": "30224b20",
   "metadata": {},
   "outputs": [],
   "source": [
    "from nltk.stem import PorterStemmer"
   ]
  },
  {
   "cell_type": "code",
   "execution_count": 92,
   "id": "2a195151",
   "metadata": {},
   "outputs": [],
   "source": [
    "ps = PorterStemmer()"
   ]
  },
  {
   "cell_type": "code",
   "execution_count": 93,
   "id": "b3ccdb82",
   "metadata": {},
   "outputs": [
    {
     "data": {
      "text/plain": [
       "['trace',\n",
       " 'cyberpunk',\n",
       " 'hdr',\n",
       " 'nextlevel',\n",
       " 'have',\n",
       " 'tri',\n",
       " 'joerogan',\n",
       " 'spotifi',\n",
       " 'great',\n",
       " 'interview',\n",
       " 'gtera27',\n",
       " 'doge',\n",
       " 'underestim',\n",
       " 'teslacn',\n",
       " 'congratul']"
      ]
     },
     "execution_count": 93,
     "metadata": {},
     "output_type": "execute_result"
    }
   ],
   "source": [
    "stem_words = [ps.stem(word) for word in lower_words]\n",
    "stem_words[5:20]"
   ]
  },
  {
   "cell_type": "code",
   "execution_count": 94,
   "id": "fc9eaba9",
   "metadata": {},
   "outputs": [
    {
     "name": "stdout",
     "output_type": "stream",
     "text": [
      "Collecting en-core-web-lg==3.2.0\n",
      "  Downloading https://github.com/explosion/spacy-models/releases/download/en_core_web_lg-3.2.0/en_core_web_lg-3.2.0-py3-none-any.whl (777.4 MB)\n",
      "Requirement already satisfied: spacy<3.3.0,>=3.2.0 in c:\\users\\pearl\\anaconda3\\lib\\site-packages (from en-core-web-lg==3.2.0) (3.2.0)\n",
      "Requirement already satisfied: jinja2 in c:\\users\\pearl\\anaconda3\\lib\\site-packages (from spacy<3.3.0,>=3.2.0->en-core-web-lg==3.2.0) (2.11.3)\n",
      "Requirement already satisfied: langcodes<4.0.0,>=3.2.0 in c:\\users\\pearl\\anaconda3\\lib\\site-packages (from spacy<3.3.0,>=3.2.0->en-core-web-lg==3.2.0) (3.3.0)\n",
      "Requirement already satisfied: spacy-loggers<2.0.0,>=1.0.0 in c:\\users\\pearl\\anaconda3\\lib\\site-packages (from spacy<3.3.0,>=3.2.0->en-core-web-lg==3.2.0) (1.0.1)\n",
      "Requirement already satisfied: wasabi<1.1.0,>=0.8.1 in c:\\users\\pearl\\anaconda3\\lib\\site-packages (from spacy<3.3.0,>=3.2.0->en-core-web-lg==3.2.0) (0.8.2)\n",
      "Requirement already satisfied: pathy>=0.3.5 in c:\\users\\pearl\\anaconda3\\lib\\site-packages (from spacy<3.3.0,>=3.2.0->en-core-web-lg==3.2.0) (0.6.1)\n",
      "Requirement already satisfied: blis<0.8.0,>=0.4.0 in c:\\users\\pearl\\anaconda3\\lib\\site-packages (from spacy<3.3.0,>=3.2.0->en-core-web-lg==3.2.0) (0.7.5)\n",
      "Requirement already satisfied: numpy>=1.15.0 in c:\\users\\pearl\\anaconda3\\lib\\site-packages (from spacy<3.3.0,>=3.2.0->en-core-web-lg==3.2.0) (1.20.1)\n",
      "Requirement already satisfied: murmurhash<1.1.0,>=0.28.0 in c:\\users\\pearl\\anaconda3\\lib\\site-packages (from spacy<3.3.0,>=3.2.0->en-core-web-lg==3.2.0) (1.0.6)\n",
      "Requirement already satisfied: pydantic!=1.8,!=1.8.1,<1.9.0,>=1.7.4 in c:\\users\\pearl\\anaconda3\\lib\\site-packages (from spacy<3.3.0,>=3.2.0->en-core-web-lg==3.2.0) (1.8.2)\n",
      "Requirement already satisfied: catalogue<2.1.0,>=2.0.6 in c:\\users\\pearl\\anaconda3\\lib\\site-packages (from spacy<3.3.0,>=3.2.0->en-core-web-lg==3.2.0) (2.0.6)\n",
      "Requirement already satisfied: spacy-legacy<3.1.0,>=3.0.8 in c:\\users\\pearl\\anaconda3\\lib\\site-packages (from spacy<3.3.0,>=3.2.0->en-core-web-lg==3.2.0) (3.0.8)\n",
      "Requirement already satisfied: typer<0.5.0,>=0.3.0 in c:\\users\\pearl\\anaconda3\\lib\\site-packages (from spacy<3.3.0,>=3.2.0->en-core-web-lg==3.2.0) (0.4.0)\n",
      "Requirement already satisfied: setuptools in c:\\users\\pearl\\anaconda3\\lib\\site-packages (from spacy<3.3.0,>=3.2.0->en-core-web-lg==3.2.0) (52.0.0.post20210125)\n",
      "Requirement already satisfied: preshed<3.1.0,>=3.0.2 in c:\\users\\pearl\\anaconda3\\lib\\site-packages (from spacy<3.3.0,>=3.2.0->en-core-web-lg==3.2.0) (3.0.6)\n",
      "Requirement already satisfied: tqdm<5.0.0,>=4.38.0 in c:\\users\\pearl\\anaconda3\\lib\\site-packages (from spacy<3.3.0,>=3.2.0->en-core-web-lg==3.2.0) (4.59.0)\n",
      "Requirement already satisfied: cymem<2.1.0,>=2.0.2 in c:\\users\\pearl\\anaconda3\\lib\\site-packages (from spacy<3.3.0,>=3.2.0->en-core-web-lg==3.2.0) (2.0.6)\n",
      "Requirement already satisfied: requests<3.0.0,>=2.13.0 in c:\\users\\pearl\\anaconda3\\lib\\site-packages (from spacy<3.3.0,>=3.2.0->en-core-web-lg==3.2.0) (2.25.1)\n",
      "Requirement already satisfied: srsly<3.0.0,>=2.4.1 in c:\\users\\pearl\\anaconda3\\lib\\site-packages (from spacy<3.3.0,>=3.2.0->en-core-web-lg==3.2.0) (2.4.2)\n",
      "Requirement already satisfied: packaging>=20.0 in c:\\users\\pearl\\anaconda3\\lib\\site-packages (from spacy<3.3.0,>=3.2.0->en-core-web-lg==3.2.0) (20.9)\n",
      "Requirement already satisfied: thinc<8.1.0,>=8.0.12 in c:\\users\\pearl\\anaconda3\\lib\\site-packages (from spacy<3.3.0,>=3.2.0->en-core-web-lg==3.2.0) (8.0.13)\n",
      "Requirement already satisfied: pyparsing>=2.0.2 in c:\\users\\pearl\\anaconda3\\lib\\site-packages (from packaging>=20.0->spacy<3.3.0,>=3.2.0->en-core-web-lg==3.2.0) (2.4.7)\n",
      "Requirement already satisfied: smart-open<6.0.0,>=5.0.0 in c:\\users\\pearl\\anaconda3\\lib\\site-packages (from pathy>=0.3.5->spacy<3.3.0,>=3.2.0->en-core-web-lg==3.2.0) (5.2.1)\n",
      "Requirement already satisfied: typing-extensions>=3.7.4.3 in c:\\users\\pearl\\anaconda3\\lib\\site-packages (from pydantic!=1.8,!=1.8.1,<1.9.0,>=1.7.4->spacy<3.3.0,>=3.2.0->en-core-web-lg==3.2.0) (3.7.4.3)\n",
      "Requirement already satisfied: urllib3<1.27,>=1.21.1 in c:\\users\\pearl\\anaconda3\\lib\\site-packages (from requests<3.0.0,>=2.13.0->spacy<3.3.0,>=3.2.0->en-core-web-lg==3.2.0) (1.26.4)\n",
      "Requirement already satisfied: chardet<5,>=3.0.2 in c:\\users\\pearl\\anaconda3\\lib\\site-packages (from requests<3.0.0,>=2.13.0->spacy<3.3.0,>=3.2.0->en-core-web-lg==3.2.0) (4.0.0)\n",
      "Requirement already satisfied: idna<3,>=2.5 in c:\\users\\pearl\\anaconda3\\lib\\site-packages (from requests<3.0.0,>=2.13.0->spacy<3.3.0,>=3.2.0->en-core-web-lg==3.2.0) (2.10)\n",
      "Requirement already satisfied: certifi>=2017.4.17 in c:\\users\\pearl\\anaconda3\\lib\\site-packages (from requests<3.0.0,>=2.13.0->spacy<3.3.0,>=3.2.0->en-core-web-lg==3.2.0) (2020.12.5)\n",
      "Requirement already satisfied: click<9.0.0,>=7.1.1 in c:\\users\\pearl\\anaconda3\\lib\\site-packages (from typer<0.5.0,>=0.3.0->spacy<3.3.0,>=3.2.0->en-core-web-lg==3.2.0) (7.1.2)\n",
      "Requirement already satisfied: MarkupSafe>=0.23 in c:\\users\\pearl\\anaconda3\\lib\\site-packages (from jinja2->spacy<3.3.0,>=3.2.0->en-core-web-lg==3.2.0) (1.1.1)\n",
      "[+] Download and installation successful\n",
      "You can now load the package via spacy.load('en_core_web_lg')\n"
     ]
    }
   ],
   "source": [
    "!python -m spacy download en_core_web_lg "
   ]
  },
  {
   "cell_type": "code",
   "execution_count": 95,
   "id": "551ea173",
   "metadata": {},
   "outputs": [
    {
     "name": "stdout",
     "output_type": "stream",
     "text": [
      "Requirement already satisfied: spacy in c:\\users\\pearl\\anaconda3\\lib\\site-packages (3.2.0)\n",
      "Requirement already satisfied: numpy>=1.15.0 in c:\\users\\pearl\\anaconda3\\lib\\site-packages (from spacy) (1.20.1)\n",
      "Requirement already satisfied: typer<0.5.0,>=0.3.0 in c:\\users\\pearl\\anaconda3\\lib\\site-packages (from spacy) (0.4.0)\n",
      "Requirement already satisfied: jinja2 in c:\\users\\pearl\\anaconda3\\lib\\site-packages (from spacy) (2.11.3)\n",
      "Requirement already satisfied: preshed<3.1.0,>=3.0.2 in c:\\users\\pearl\\anaconda3\\lib\\site-packages (from spacy) (3.0.6)\n",
      "Note: you may need to restart the kernel to use updated packages.\n",
      "Requirement already satisfied: pathy>=0.3.5 in c:\\users\\pearl\\anaconda3\\lib\\site-packages (from spacy) (0.6.1)\n",
      "Requirement already satisfied: tqdm<5.0.0,>=4.38.0 in c:\\users\\pearl\\anaconda3\\lib\\site-packages (from spacy) (4.59.0)\n",
      "Requirement already satisfied: thinc<8.1.0,>=8.0.12 in c:\\users\\pearl\\anaconda3\\lib\\site-packages (from spacy) (8.0.13)\n",
      "Requirement already satisfied: langcodes<4.0.0,>=3.2.0 in c:\\users\\pearl\\anaconda3\\lib\\site-packages (from spacy) (3.3.0)\n",
      "Requirement already satisfied: wasabi<1.1.0,>=0.8.1 in c:\\users\\pearl\\anaconda3\\lib\\site-packages (from spacy) (0.8.2)\n",
      "Requirement already satisfied: cymem<2.1.0,>=2.0.2 in c:\\users\\pearl\\anaconda3\\lib\\site-packages (from spacy) (2.0.6)\n",
      "Requirement already satisfied: pydantic!=1.8,!=1.8.1,<1.9.0,>=1.7.4 in c:\\users\\pearl\\anaconda3\\lib\\site-packages (from spacy) (1.8.2)\n",
      "Requirement already satisfied: spacy-legacy<3.1.0,>=3.0.8 in c:\\users\\pearl\\anaconda3\\lib\\site-packages (from spacy) (3.0.8)\n",
      "Requirement already satisfied: catalogue<2.1.0,>=2.0.6 in c:\\users\\pearl\\anaconda3\\lib\\site-packages (from spacy) (2.0.6)\n",
      "Requirement already satisfied: requests<3.0.0,>=2.13.0 in c:\\users\\pearl\\anaconda3\\lib\\site-packages (from spacy) (2.25.1)\n",
      "Requirement already satisfied: packaging>=20.0 in c:\\users\\pearl\\anaconda3\\lib\\site-packages (from spacy) (20.9)\n",
      "Requirement already satisfied: setuptools in c:\\users\\pearl\\anaconda3\\lib\\site-packages (from spacy) (52.0.0.post20210125)\n",
      "Requirement already satisfied: srsly<3.0.0,>=2.4.1 in c:\\users\\pearl\\anaconda3\\lib\\site-packages (from spacy) (2.4.2)\n",
      "Requirement already satisfied: murmurhash<1.1.0,>=0.28.0 in c:\\users\\pearl\\anaconda3\\lib\\site-packages (from spacy) (1.0.6)\n",
      "Requirement already satisfied: spacy-loggers<2.0.0,>=1.0.0 in c:\\users\\pearl\\anaconda3\\lib\\site-packages (from spacy) (1.0.1)\n",
      "Requirement already satisfied: blis<0.8.0,>=0.4.0 in c:\\users\\pearl\\anaconda3\\lib\\site-packages (from spacy) (0.7.5)\n",
      "Requirement already satisfied: pyparsing>=2.0.2 in c:\\users\\pearl\\anaconda3\\lib\\site-packages (from packaging>=20.0->spacy) (2.4.7)\n",
      "Requirement already satisfied: smart-open<6.0.0,>=5.0.0 in c:\\users\\pearl\\anaconda3\\lib\\site-packages (from pathy>=0.3.5->spacy) (5.2.1)\n",
      "Requirement already satisfied: typing-extensions>=3.7.4.3 in c:\\users\\pearl\\anaconda3\\lib\\site-packages (from pydantic!=1.8,!=1.8.1,<1.9.0,>=1.7.4->spacy) (3.7.4.3)\n",
      "Requirement already satisfied: certifi>=2017.4.17 in c:\\users\\pearl\\anaconda3\\lib\\site-packages (from requests<3.0.0,>=2.13.0->spacy) (2020.12.5)\n",
      "Requirement already satisfied: chardet<5,>=3.0.2 in c:\\users\\pearl\\anaconda3\\lib\\site-packages (from requests<3.0.0,>=2.13.0->spacy) (4.0.0)\n",
      "Requirement already satisfied: idna<3,>=2.5 in c:\\users\\pearl\\anaconda3\\lib\\site-packages (from requests<3.0.0,>=2.13.0->spacy) (2.10)\n",
      "Requirement already satisfied: urllib3<1.27,>=1.21.1 in c:\\users\\pearl\\anaconda3\\lib\\site-packages (from requests<3.0.0,>=2.13.0->spacy) (1.26.4)\n",
      "Requirement already satisfied: click<9.0.0,>=7.1.1 in c:\\users\\pearl\\anaconda3\\lib\\site-packages (from typer<0.5.0,>=0.3.0->spacy) (7.1.2)\n",
      "Requirement already satisfied: MarkupSafe>=0.23 in c:\\users\\pearl\\anaconda3\\lib\\site-packages (from jinja2->spacy) (1.1.1)\n"
     ]
    }
   ],
   "source": [
    "pip install -U spacy"
   ]
  },
  {
   "cell_type": "code",
   "execution_count": 96,
   "id": "6af8e248",
   "metadata": {},
   "outputs": [
    {
     "name": "stdout",
     "output_type": "stream",
     "text": [
      "Collecting en-core-web-sm==3.2.0\n",
      "  Downloading https://github.com/explosion/spacy-models/releases/download/en_core_web_sm-3.2.0/en_core_web_sm-3.2.0-py3-none-any.whl (13.9 MB)\n",
      "Requirement already satisfied: spacy<3.3.0,>=3.2.0 in c:\\users\\pearl\\anaconda3\\lib\\site-packages (from en-core-web-sm==3.2.0) (3.2.0)\n",
      "Requirement already satisfied: tqdm<5.0.0,>=4.38.0 in c:\\users\\pearl\\anaconda3\\lib\\site-packages (from spacy<3.3.0,>=3.2.0->en-core-web-sm==3.2.0) (4.59.0)\n",
      "Requirement already satisfied: wasabi<1.1.0,>=0.8.1 in c:\\users\\pearl\\anaconda3\\lib\\site-packages (from spacy<3.3.0,>=3.2.0->en-core-web-sm==3.2.0) (0.8.2)\n",
      "Requirement already satisfied: requests<3.0.0,>=2.13.0 in c:\\users\\pearl\\anaconda3\\lib\\site-packages (from spacy<3.3.0,>=3.2.0->en-core-web-sm==3.2.0) (2.25.1)\n",
      "Requirement already satisfied: blis<0.8.0,>=0.4.0 in c:\\users\\pearl\\anaconda3\\lib\\site-packages (from spacy<3.3.0,>=3.2.0->en-core-web-sm==3.2.0) (0.7.5)\n",
      "Requirement already satisfied: pydantic!=1.8,!=1.8.1,<1.9.0,>=1.7.4 in c:\\users\\pearl\\anaconda3\\lib\\site-packages (from spacy<3.3.0,>=3.2.0->en-core-web-sm==3.2.0) (1.8.2)\n",
      "Requirement already satisfied: preshed<3.1.0,>=3.0.2 in c:\\users\\pearl\\anaconda3\\lib\\site-packages (from spacy<3.3.0,>=3.2.0->en-core-web-sm==3.2.0) (3.0.6)\n",
      "Requirement already satisfied: jinja2 in c:\\users\\pearl\\anaconda3\\lib\\site-packages (from spacy<3.3.0,>=3.2.0->en-core-web-sm==3.2.0) (2.11.3)\n",
      "Requirement already satisfied: spacy-loggers<2.0.0,>=1.0.0 in c:\\users\\pearl\\anaconda3\\lib\\site-packages (from spacy<3.3.0,>=3.2.0->en-core-web-sm==3.2.0) (1.0.1)\n",
      "Requirement already satisfied: setuptools in c:\\users\\pearl\\anaconda3\\lib\\site-packages (from spacy<3.3.0,>=3.2.0->en-core-web-sm==3.2.0) (52.0.0.post20210125)\n",
      "Requirement already satisfied: pathy>=0.3.5 in c:\\users\\pearl\\anaconda3\\lib\\site-packages (from spacy<3.3.0,>=3.2.0->en-core-web-sm==3.2.0) (0.6.1)\n",
      "Requirement already satisfied: spacy-legacy<3.1.0,>=3.0.8 in c:\\users\\pearl\\anaconda3\\lib\\site-packages (from spacy<3.3.0,>=3.2.0->en-core-web-sm==3.2.0) (3.0.8)\n",
      "Requirement already satisfied: langcodes<4.0.0,>=3.2.0 in c:\\users\\pearl\\anaconda3\\lib\\site-packages (from spacy<3.3.0,>=3.2.0->en-core-web-sm==3.2.0) (3.3.0)\n",
      "Requirement already satisfied: srsly<3.0.0,>=2.4.1 in c:\\users\\pearl\\anaconda3\\lib\\site-packages (from spacy<3.3.0,>=3.2.0->en-core-web-sm==3.2.0) (2.4.2)\n",
      "Requirement already satisfied: catalogue<2.1.0,>=2.0.6 in c:\\users\\pearl\\anaconda3\\lib\\site-packages (from spacy<3.3.0,>=3.2.0->en-core-web-sm==3.2.0) (2.0.6)\n",
      "Requirement already satisfied: murmurhash<1.1.0,>=0.28.0 in c:\\users\\pearl\\anaconda3\\lib\\site-packages (from spacy<3.3.0,>=3.2.0->en-core-web-sm==3.2.0) (1.0.6)\n",
      "Requirement already satisfied: numpy>=1.15.0 in c:\\users\\pearl\\anaconda3\\lib\\site-packages (from spacy<3.3.0,>=3.2.0->en-core-web-sm==3.2.0) (1.20.1)\n",
      "Requirement already satisfied: thinc<8.1.0,>=8.0.12 in c:\\users\\pearl\\anaconda3\\lib\\site-packages (from spacy<3.3.0,>=3.2.0->en-core-web-sm==3.2.0) (8.0.13)\n",
      "Requirement already satisfied: typer<0.5.0,>=0.3.0 in c:\\users\\pearl\\anaconda3\\lib\\site-packages (from spacy<3.3.0,>=3.2.0->en-core-web-sm==3.2.0) (0.4.0)\n",
      "Requirement already satisfied: packaging>=20.0 in c:\\users\\pearl\\anaconda3\\lib\\site-packages (from spacy<3.3.0,>=3.2.0->en-core-web-sm==3.2.0) (20.9)\n",
      "Requirement already satisfied: cymem<2.1.0,>=2.0.2 in c:\\users\\pearl\\anaconda3\\lib\\site-packages (from spacy<3.3.0,>=3.2.0->en-core-web-sm==3.2.0) (2.0.6)\n",
      "Requirement already satisfied: pyparsing>=2.0.2 in c:\\users\\pearl\\anaconda3\\lib\\site-packages (from packaging>=20.0->spacy<3.3.0,>=3.2.0->en-core-web-sm==3.2.0) (2.4.7)\n",
      "Requirement already satisfied: smart-open<6.0.0,>=5.0.0 in c:\\users\\pearl\\anaconda3\\lib\\site-packages (from pathy>=0.3.5->spacy<3.3.0,>=3.2.0->en-core-web-sm==3.2.0) (5.2.1)\n",
      "Requirement already satisfied: typing-extensions>=3.7.4.3 in c:\\users\\pearl\\anaconda3\\lib\\site-packages (from pydantic!=1.8,!=1.8.1,<1.9.0,>=1.7.4->spacy<3.3.0,>=3.2.0->en-core-web-sm==3.2.0) (3.7.4.3)\n",
      "Requirement already satisfied: certifi>=2017.4.17 in c:\\users\\pearl\\anaconda3\\lib\\site-packages (from requests<3.0.0,>=2.13.0->spacy<3.3.0,>=3.2.0->en-core-web-sm==3.2.0) (2020.12.5)\n",
      "Requirement already satisfied: urllib3<1.27,>=1.21.1 in c:\\users\\pearl\\anaconda3\\lib\\site-packages (from requests<3.0.0,>=2.13.0->spacy<3.3.0,>=3.2.0->en-core-web-sm==3.2.0) (1.26.4)\n",
      "Requirement already satisfied: chardet<5,>=3.0.2 in c:\\users\\pearl\\anaconda3\\lib\\site-packages (from requests<3.0.0,>=2.13.0->spacy<3.3.0,>=3.2.0->en-core-web-sm==3.2.0) (4.0.0)\n",
      "Requirement already satisfied: idna<3,>=2.5 in c:\\users\\pearl\\anaconda3\\lib\\site-packages (from requests<3.0.0,>=2.13.0->spacy<3.3.0,>=3.2.0->en-core-web-sm==3.2.0) (2.10)\n",
      "Requirement already satisfied: click<9.0.0,>=7.1.1 in c:\\users\\pearl\\anaconda3\\lib\\site-packages (from typer<0.5.0,>=0.3.0->spacy<3.3.0,>=3.2.0->en-core-web-sm==3.2.0) (7.1.2)\n",
      "Requirement already satisfied: MarkupSafe>=0.23 in c:\\users\\pearl\\anaconda3\\lib\\site-packages (from jinja2->spacy<3.3.0,>=3.2.0->en-core-web-sm==3.2.0) (1.1.1)\n",
      "[!] As of spaCy v3.0, shortcuts like 'en' are deprecated. Please use the full\n",
      "pipeline package name 'en_core_web_sm' instead.\n",
      "[+] Download and installation successful\n",
      "You can now load the package via spacy.load('en_core_web_sm')\n"
     ]
    }
   ],
   "source": [
    "!python -m spacy download en"
   ]
  },
  {
   "cell_type": "code",
   "execution_count": 97,
   "id": "59f2db74",
   "metadata": {},
   "outputs": [],
   "source": [
    "nlp = spacy.load(\"en_core_web_sm\")"
   ]
  },
  {
   "cell_type": "code",
   "execution_count": 98,
   "id": "3e48630d",
   "metadata": {},
   "outputs": [
    {
     "data": {
      "text/plain": [
       "kunalb11 I�m alien IDAACarmack Ray tracing Cyberpunk HDR nextlevel Have tried joerogan Spotify Great interview gtera27 Doge underestimated"
      ]
     },
     "execution_count": 98,
     "metadata": {},
     "output_type": "execute_result"
    }
   ],
   "source": [
    "doc = nlp(' '.join(no_stop_words))\n",
    "doc[:20]"
   ]
  },
  {
   "cell_type": "code",
   "execution_count": 99,
   "id": "6d0456bf",
   "metadata": {},
   "outputs": [
    {
     "data": {
      "text/plain": [
       "['kunalb11',\n",
       " 'I',\n",
       " '�',\n",
       " 'm',\n",
       " 'alien',\n",
       " 'idaacarmack',\n",
       " 'Ray',\n",
       " 'trace',\n",
       " 'Cyberpunk',\n",
       " 'HDR',\n",
       " 'nextlevel',\n",
       " 'have',\n",
       " 'try',\n",
       " 'joerogan',\n",
       " 'spotify',\n",
       " 'great',\n",
       " 'interview',\n",
       " 'gtera27',\n",
       " 'Doge',\n",
       " 'underestimate']"
      ]
     },
     "execution_count": 99,
     "metadata": {},
     "output_type": "execute_result"
    }
   ],
   "source": [
    "lemmas = [token.lemma_ for token in doc]\n",
    "lemmas[:20]"
   ]
  },
  {
   "cell_type": "code",
   "execution_count": 100,
   "id": "a0f2f7d6",
   "metadata": {},
   "outputs": [
    {
     "data": {
      "text/html": [
       "<span class=\"tex2jax_ignore\"><div class=\"entities\" style=\"line-height: 2.5; direction: ltr\">\n",
       "<mark class=\"entity\" style=\"background: #aa9cfc; padding: 0.45em 0.6em; margin: 0 0.25em; line-height: 1; border-radius: 0.35em;\">\n",
       "    @ID_AA_Carmack Ray\n",
       "    <span style=\"font-size: 0.8em; font-weight: bold; line-height: 1; border-radius: 0.35em; vertical-align: middle; margin-left: 0.5rem\">PERSON</span>\n",
       "</mark>\n",
       " tracing on Cyberpunk with \n",
       "<mark class=\"entity\" style=\"background: #7aecec; padding: 0.45em 0.6em; margin: 0 0.25em; line-height: 1; border-radius: 0.35em;\">\n",
       "    HDR\n",
       "    <span style=\"font-size: 0.8em; font-weight: bold; line-height: 1; border-radius: 0.35em; vertical-align: middle; margin-left: 0.5rem\">ORG</span>\n",
       "</mark>\n",
       " is next-level. Have you tried it?</div></span>"
      ],
      "text/plain": [
       "<IPython.core.display.HTML object>"
      ]
     },
     "metadata": {},
     "output_type": "display_data"
    }
   ],
   "source": [
    "one_block = elon[1]\n",
    "doc_block = nlp(one_block)\n",
    "spacy.displacy.render(doc_block, style='ent', jupyter=True)"
   ]
  },
  {
   "cell_type": "code",
   "execution_count": 101,
   "id": "5c56cb04",
   "metadata": {},
   "outputs": [
    {
     "name": "stdout",
     "output_type": "stream",
     "text": [
      "@ID_AA_Carmack ADV\n",
      "Ray PROPN\n",
      "tracing VERB\n",
      "on ADP\n",
      "Cyberpunk PROPN\n",
      "with ADP\n",
      "HDR PROPN\n",
      "is AUX\n",
      "next ADJ\n",
      "- PUNCT\n",
      "level NOUN\n",
      ". PUNCT\n",
      "Have AUX\n",
      "you PRON\n",
      "tried VERB\n",
      "it PRON\n",
      "? PUNCT\n"
     ]
    }
   ],
   "source": [
    "for tokens in doc_block[0:20]:\n",
    "    print(tokens,tokens.pos_)"
   ]
  },
  {
   "cell_type": "code",
   "execution_count": 102,
   "id": "69b46655",
   "metadata": {},
   "outputs": [
    {
     "name": "stdout",
     "output_type": "stream",
     "text": [
      "['tracing', 'level', 'tried']\n"
     ]
    }
   ],
   "source": [
    "# extracting the nouns and verbs\n",
    "noun_verbs = [token.text for token in doc_block if token.pos_ in (\"NOUN\",\"VERB\")]\n",
    "print(noun_verbs[0:15])"
   ]
  },
  {
   "cell_type": "code",
   "execution_count": 103,
   "id": "f04e031d",
   "metadata": {},
   "outputs": [],
   "source": [
    "from sklearn.feature_extraction.text import CountVectorizer"
   ]
  },
  {
   "cell_type": "code",
   "execution_count": 104,
   "id": "01378b1e",
   "metadata": {},
   "outputs": [
    {
     "data": {
      "text/html": [
       "<div>\n",
       "<style scoped>\n",
       "    .dataframe tbody tr th:only-of-type {\n",
       "        vertical-align: middle;\n",
       "    }\n",
       "\n",
       "    .dataframe tbody tr th {\n",
       "        vertical-align: top;\n",
       "    }\n",
       "\n",
       "    .dataframe thead th {\n",
       "        text-align: right;\n",
       "    }\n",
       "</style>\n",
       "<table border=\"1\" class=\"dataframe\">\n",
       "  <thead>\n",
       "    <tr style=\"text-align: right;\">\n",
       "      <th></th>\n",
       "      <th>words</th>\n",
       "      <th>count</th>\n",
       "    </tr>\n",
       "  </thead>\n",
       "  <tbody>\n",
       "    <tr>\n",
       "      <th>0</th>\n",
       "      <td>tracing</td>\n",
       "      <td>1</td>\n",
       "    </tr>\n",
       "    <tr>\n",
       "      <th>1</th>\n",
       "      <td>level</td>\n",
       "      <td>1</td>\n",
       "    </tr>\n",
       "    <tr>\n",
       "      <th>2</th>\n",
       "      <td>tried</td>\n",
       "      <td>1</td>\n",
       "    </tr>\n",
       "  </tbody>\n",
       "</table>\n",
       "</div>"
      ],
      "text/plain": [
       "     words  count\n",
       "0  tracing      1\n",
       "1    level      1\n",
       "2    tried      1"
      ]
     },
     "execution_count": 104,
     "metadata": {},
     "output_type": "execute_result"
    }
   ],
   "source": [
    "vectorizer = CountVectorizer()\n",
    "X = vectorizer.fit_transform(noun_verbs)\n",
    "sum_words = X.sum(axis = 0)\n",
    "word_freq = [(word, sum_words[0,idx]) for word, idx in vectorizer.vocabulary_.items()]\n",
    "word_freq = sorted(word_freq, key = lambda x: x[1], reverse = True)\n",
    "wf_df= pd.DataFrame(word_freq)\n",
    "wf_df.columns = ['words', 'count']\n",
    "wf_df[0:15]"
   ]
  },
  {
   "cell_type": "code",
   "execution_count": 105,
   "id": "c8e000a9",
   "metadata": {},
   "outputs": [
    {
     "data": {
      "image/png": "[encoded data removed]",
      "text/plain": [
       "<Figure size 720x576 with 1 Axes>"
      ]
     },
     "metadata": {
      "needs_background": "light"
     },
     "output_type": "display_data"
    }
   ],
   "source": [
    "wf_df[0:10].plot.bar(x = 'words', title = 'Nouns and Verbs', figsize = (10,8),color = 'orange');"
   ]
  },
  {
   "cell_type": "code",
   "execution_count": 106,
   "id": "52b260a7",
   "metadata": {},
   "outputs": [],
   "source": [
    "afinn = pd.read_csv('Afinn.csv')"
   ]
  },
  {
   "cell_type": "code",
   "execution_count": 107,
   "id": "127aa09a",
   "metadata": {},
   "outputs": [
    {
     "data": {
      "text/html": [
       "<div>\n",
       "<style scoped>\n",
       "    .dataframe tbody tr th:only-of-type {\n",
       "        vertical-align: middle;\n",
       "    }\n",
       "\n",
       "    .dataframe tbody tr th {\n",
       "        vertical-align: top;\n",
       "    }\n",
       "\n",
       "    .dataframe thead th {\n",
       "        text-align: right;\n",
       "    }\n",
       "</style>\n",
       "<table border=\"1\" class=\"dataframe\">\n",
       "  <thead>\n",
       "    <tr style=\"text-align: right;\">\n",
       "      <th></th>\n",
       "      <th>word</th>\n",
       "      <th>value</th>\n",
       "    </tr>\n",
       "  </thead>\n",
       "  <tbody>\n",
       "    <tr>\n",
       "      <th>0</th>\n",
       "      <td>abandon</td>\n",
       "      <td>-2</td>\n",
       "    </tr>\n",
       "    <tr>\n",
       "      <th>1</th>\n",
       "      <td>abandoned</td>\n",
       "      <td>-2</td>\n",
       "    </tr>\n",
       "    <tr>\n",
       "      <th>2</th>\n",
       "      <td>abandons</td>\n",
       "      <td>-2</td>\n",
       "    </tr>\n",
       "    <tr>\n",
       "      <th>3</th>\n",
       "      <td>abducted</td>\n",
       "      <td>-2</td>\n",
       "    </tr>\n",
       "    <tr>\n",
       "      <th>4</th>\n",
       "      <td>abduction</td>\n",
       "      <td>-2</td>\n",
       "    </tr>\n",
       "  </tbody>\n",
       "</table>\n",
       "</div>"
      ],
      "text/plain": [
       "        word  value\n",
       "0    abandon     -2\n",
       "1  abandoned     -2\n",
       "2   abandons     -2\n",
       "3   abducted     -2\n",
       "4  abduction     -2"
      ]
     },
     "execution_count": 107,
     "metadata": {},
     "output_type": "execute_result"
    }
   ],
   "source": [
    "afinn.head()"
   ]
  },
  {
   "cell_type": "code",
   "execution_count": 108,
   "id": "ebc7073d",
   "metadata": {},
   "outputs": [
    {
     "data": {
      "text/plain": [
       "(2477, 2)"
      ]
     },
     "execution_count": 108,
     "metadata": {},
     "output_type": "execute_result"
    }
   ],
   "source": [
    "afinn.shape"
   ]
  },
  {
   "cell_type": "code",
   "execution_count": 109,
   "id": "3a43d754",
   "metadata": {},
   "outputs": [],
   "source": [
    "from itertools import islice\n",
    "\n",
    "def take(n,iterable):\n",
    "    return list(islice(iterable, n))"
   ]
  },
  {
   "cell_type": "code",
   "execution_count": 110,
   "id": "4f007c62",
   "metadata": {},
   "outputs": [],
   "source": [
    "affinity_scores = afinn.set_index('word')['value'].to_dict()"
   ]
  },
  {
   "cell_type": "code",
   "execution_count": 111,
   "id": "e0820d0d",
   "metadata": {},
   "outputs": [
    {
     "data": {
      "text/plain": [
       "['abandon',\n",
       " 'abandoned',\n",
       " 'abandons',\n",
       " 'abducted',\n",
       " 'abduction',\n",
       " 'abductions',\n",
       " 'abhor',\n",
       " 'abhorred',\n",
       " 'abhorrent',\n",
       " 'abhors']"
      ]
     },
     "execution_count": 111,
     "metadata": {},
     "output_type": "execute_result"
    }
   ],
   "source": [
    "take(10,affinity_scores)"
   ]
  },
  {
   "cell_type": "code",
   "execution_count": 112,
   "id": "94a629af",
   "metadata": {},
   "outputs": [],
   "source": [
    "from nltk import tokenize"
   ]
  },
  {
   "cell_type": "code",
   "execution_count": 113,
   "id": "6c05b177",
   "metadata": {},
   "outputs": [
    {
     "data": {
      "text/plain": [
       "['Happy New Year of the Ox!',\n",
       " 'https://t.co/9WFKMYu2oj Frodo was the underdoge,\\nAll thought he would fail,\\nHimself most of all.',\n",
       " 'https://t.co/zGxJFDzzrM @OwenSparks_ @flcnhvy @anonyx10 Haha thanks :) @flcnhvy @anonyx10 Indeed!',\n",
       " 'Tweets definitely do not represent real-world time allocation.',\n",
       " 'The most entertaining outcome is the most likely @GiveDirectly Just sent some Just agree to do Clubhouse with @kanyewest https://t.co/3rWE9uHSTS @geoffkeighley @UnrealEngine It�s getting real Bought some Dogecoin for lil X, so he can be a toddler hodler @JoshManMode He definitely has issues, but the sentencing seems a bit high @freewalletorg Thanks for fixing @freewalletorg Please unlock my account @AstroJordy <U+0001F923><U+0001F923> This is true power haha https://t.co/Fc9uhQSd7O @freewalletorg Any crypto wallet that won�t give you your private keys should be avoided at all costs @freewalletorg Your app sucks RT @SpaceX: NASA has selected Falcon Heavy to launch the first two elements of the lunar Gateway together on one mission!',\n",
       " 'https://t.co/3pWt� @ajtourville Yes @BLKMDL3 @RationalEtienne @Adamklotz_ Once we can predict cash flow reasonably well, Starlink will IPO @RationalEtienne @Adamklotz_ Starlink is a staggeringly difficult technical &amp; economic endeavor.',\n",
       " 'However, if we don� https://t.co/9Z8Ac6skqx @RationalEtienne @Adamklotz_ SpaceX needs to pass through a deep chasm of negative cash flow over the next year or� https://t.co/7J1c92hdjl @ID_AA_Carmack Lowest cost per ton of carbon sequestered, net of value of any product made.',\n",
       " 'Must be scalable to g� https://t.co/XMyI7qWSgw @Adamklotz_ It�s meant to be the same price in all countries.',\n",
       " 'Only difference should be taxes &amp; shipping.',\n",
       " '@tobyliiiiiiiiii This is intended for Earth, but there may be some ideas that apply to Mars too @CryptoShrikar @CoinDesk @Tesla @Dan_Z_Palmer <U+0001F923><U+0001F923> XPrize team will manage the $100M carbon capture prize https://t.co/fSw5IanL0r @SRuhle Everyone at Tesla receives stock.']"
      ]
     },
     "execution_count": 113,
     "metadata": {},
     "output_type": "execute_result"
    }
   ],
   "source": [
    "sentence = tokenize.sent_tokenize(' '.join(elon))\n",
    "sentence[5:15]"
   ]
  },
  {
   "cell_type": "code",
   "execution_count": 114,
   "id": "16cc3391",
   "metadata": {},
   "outputs": [
    {
     "data": {
      "text/html": [
       "<div>\n",
       "<style scoped>\n",
       "    .dataframe tbody tr th:only-of-type {\n",
       "        vertical-align: middle;\n",
       "    }\n",
       "\n",
       "    .dataframe tbody tr th {\n",
       "        vertical-align: top;\n",
       "    }\n",
       "\n",
       "    .dataframe thead th {\n",
       "        text-align: right;\n",
       "    }\n",
       "</style>\n",
       "<table border=\"1\" class=\"dataframe\">\n",
       "  <thead>\n",
       "    <tr style=\"text-align: right;\">\n",
       "      <th></th>\n",
       "      <th>sentences</th>\n",
       "    </tr>\n",
       "  </thead>\n",
       "  <tbody>\n",
       "    <tr>\n",
       "      <th>0</th>\n",
       "      <td>@kunalb11 I�m an alien @ID_AA_Carmack Ray trac...</td>\n",
       "    </tr>\n",
       "    <tr>\n",
       "      <th>1</th>\n",
       "      <td>Have you tried it?</td>\n",
       "    </tr>\n",
       "    <tr>\n",
       "      <th>2</th>\n",
       "      <td>@joerogan @Spotify Great interview!</td>\n",
       "    </tr>\n",
       "    <tr>\n",
       "      <th>3</th>\n",
       "      <td>@gtera27 Doge is underestimated @teslacn Congr...</td>\n",
       "    </tr>\n",
       "    <tr>\n",
       "      <th>4</th>\n",
       "      <td>Now on to the next for even more!!</td>\n",
       "    </tr>\n",
       "    <tr>\n",
       "      <th>...</th>\n",
       "      <td>...</td>\n",
       "    </tr>\n",
       "    <tr>\n",
       "      <th>909</th>\n",
       "      <td>@kenyanwalstreet Not actually a payout, just a...</td>\n",
       "    </tr>\n",
       "    <tr>\n",
       "      <th>910</th>\n",
       "      <td>It may never pay out, as the stock can�t b� ht...</td>\n",
       "    </tr>\n",
       "    <tr>\n",
       "      <th>911</th>\n",
       "      <td>Details Aug 28.</td>\n",
       "    </tr>\n",
       "    <tr>\n",
       "      <th>912</th>\n",
       "      <td>AI symbiosis while u wait @vistacruiser7 @flcn...</td>\n",
       "    </tr>\n",
       "    <tr>\n",
       "      <th>913</th>\n",
       "      <td>@TeslaGong @PPathole Samwise Gamgee @PPathole ...</td>\n",
       "    </tr>\n",
       "  </tbody>\n",
       "</table>\n",
       "<p>914 rows × 1 columns</p>\n",
       "</div>"
      ],
      "text/plain": [
       "                                             sentences\n",
       "0    @kunalb11 I�m an alien @ID_AA_Carmack Ray trac...\n",
       "1                                   Have you tried it?\n",
       "2                  @joerogan @Spotify Great interview!\n",
       "3    @gtera27 Doge is underestimated @teslacn Congr...\n",
       "4                   Now on to the next for even more!!\n",
       "..                                                 ...\n",
       "909  @kenyanwalstreet Not actually a payout, just a...\n",
       "910  It may never pay out, as the stock can�t b� ht...\n",
       "911                                    Details Aug 28.\n",
       "912  AI symbiosis while u wait @vistacruiser7 @flcn...\n",
       "913  @TeslaGong @PPathole Samwise Gamgee @PPathole ...\n",
       "\n",
       "[914 rows x 1 columns]"
      ]
     },
     "execution_count": 114,
     "metadata": {},
     "output_type": "execute_result"
    }
   ],
   "source": [
    "sent_df = pd.DataFrame(sentence, columns = ['sentences'])\n",
    "sent_df"
   ]
  },
  {
   "cell_type": "code",
   "execution_count": 115,
   "id": "a5ec0ed2",
   "metadata": {},
   "outputs": [],
   "source": [
    "nlp = spacy.load(\"en_core_web_sm\")\n",
    "sentiment_lexicon = affinity_scores"
   ]
  },
  {
   "cell_type": "code",
   "execution_count": 116,
   "id": "6b9834b8",
   "metadata": {},
   "outputs": [],
   "source": [
    "def calculate_sentiment(text: str = None)->float:\n",
    "    sent_score = 0\n",
    "    if text:\n",
    "        sentence = nlp(text)\n",
    "        for word in sentence:\n",
    "            sent_score += sentiment_lexicon.get(word.lemma_,0)\n",
    "    return sent_score"
   ]
  },
  {
   "cell_type": "code",
   "execution_count": 117,
   "id": "a1eebddb",
   "metadata": {},
   "outputs": [
    {
     "data": {
      "text/plain": [
       "-1"
      ]
     },
     "execution_count": 117,
     "metadata": {},
     "output_type": "execute_result"
    }
   ],
   "source": [
    "calculate_sentiment(\"never pay\")"
   ]
  },
  {
   "cell_type": "code",
   "execution_count": 118,
   "id": "6fde98dc",
   "metadata": {},
   "outputs": [],
   "source": [
    "# Getting the word count from sentences\n"
   ]
  },
  {
   "cell_type": "code",
   "execution_count": 119,
   "id": "c98cbc07",
   "metadata": {},
   "outputs": [
    {
     "data": {
      "text/plain": [
       "0    13\n",
       "1     4\n",
       "2     4\n",
       "3    13\n",
       "4     8\n",
       "Name: word_count, dtype: int64"
      ]
     },
     "execution_count": 119,
     "metadata": {},
     "output_type": "execute_result"
    }
   ],
   "source": [
    "sent_df['word_count'] = sent_df['sentences'].str.split().apply(len)\n",
    "sent_df['word_count'].head(5)"
   ]
  },
  {
   "cell_type": "code",
   "execution_count": 120,
   "id": "535c705f",
   "metadata": {},
   "outputs": [],
   "source": [
    "sent_df['sentiment_scores'] = sent_df['sentences'].apply(calculate_sentiment)"
   ]
  },
  {
   "cell_type": "code",
   "execution_count": 121,
   "id": "9e8f7951",
   "metadata": {},
   "outputs": [
    {
     "data": {
      "text/html": [
       "<div>\n",
       "<style scoped>\n",
       "    .dataframe tbody tr th:only-of-type {\n",
       "        vertical-align: middle;\n",
       "    }\n",
       "\n",
       "    .dataframe tbody tr th {\n",
       "        vertical-align: top;\n",
       "    }\n",
       "\n",
       "    .dataframe thead th {\n",
       "        text-align: right;\n",
       "    }\n",
       "</style>\n",
       "<table border=\"1\" class=\"dataframe\">\n",
       "  <thead>\n",
       "    <tr style=\"text-align: right;\">\n",
       "      <th></th>\n",
       "      <th>sentences</th>\n",
       "      <th>word_count</th>\n",
       "      <th>sentiment_scores</th>\n",
       "    </tr>\n",
       "  </thead>\n",
       "  <tbody>\n",
       "    <tr>\n",
       "      <th>0</th>\n",
       "      <td>@kunalb11 I�m an alien @ID_AA_Carmack Ray trac...</td>\n",
       "      <td>13</td>\n",
       "      <td>0</td>\n",
       "    </tr>\n",
       "    <tr>\n",
       "      <th>1</th>\n",
       "      <td>Have you tried it?</td>\n",
       "      <td>4</td>\n",
       "      <td>0</td>\n",
       "    </tr>\n",
       "    <tr>\n",
       "      <th>2</th>\n",
       "      <td>@joerogan @Spotify Great interview!</td>\n",
       "      <td>4</td>\n",
       "      <td>3</td>\n",
       "    </tr>\n",
       "    <tr>\n",
       "      <th>3</th>\n",
       "      <td>@gtera27 Doge is underestimated @teslacn Congr...</td>\n",
       "      <td>13</td>\n",
       "      <td>3</td>\n",
       "    </tr>\n",
       "    <tr>\n",
       "      <th>4</th>\n",
       "      <td>Now on to the next for even more!!</td>\n",
       "      <td>8</td>\n",
       "      <td>0</td>\n",
       "    </tr>\n",
       "    <tr>\n",
       "      <th>...</th>\n",
       "      <td>...</td>\n",
       "      <td>...</td>\n",
       "      <td>...</td>\n",
       "    </tr>\n",
       "    <tr>\n",
       "      <th>909</th>\n",
       "      <td>@kenyanwalstreet Not actually a payout, just a...</td>\n",
       "      <td>11</td>\n",
       "      <td>0</td>\n",
       "    </tr>\n",
       "    <tr>\n",
       "      <th>910</th>\n",
       "      <td>It may never pay out, as the stock can�t b� ht...</td>\n",
       "      <td>31</td>\n",
       "      <td>-4</td>\n",
       "    </tr>\n",
       "    <tr>\n",
       "      <th>911</th>\n",
       "      <td>Details Aug 28.</td>\n",
       "      <td>3</td>\n",
       "      <td>0</td>\n",
       "    </tr>\n",
       "    <tr>\n",
       "      <th>912</th>\n",
       "      <td>AI symbiosis while u wait @vistacruiser7 @flcn...</td>\n",
       "      <td>47</td>\n",
       "      <td>-2</td>\n",
       "    </tr>\n",
       "    <tr>\n",
       "      <th>913</th>\n",
       "      <td>@TeslaGong @PPathole Samwise Gamgee @PPathole ...</td>\n",
       "      <td>15</td>\n",
       "      <td>0</td>\n",
       "    </tr>\n",
       "  </tbody>\n",
       "</table>\n",
       "<p>914 rows × 3 columns</p>\n",
       "</div>"
      ],
      "text/plain": [
       "                                             sentences  word_count  \\\n",
       "0    @kunalb11 I�m an alien @ID_AA_Carmack Ray trac...          13   \n",
       "1                                   Have you tried it?           4   \n",
       "2                  @joerogan @Spotify Great interview!           4   \n",
       "3    @gtera27 Doge is underestimated @teslacn Congr...          13   \n",
       "4                   Now on to the next for even more!!           8   \n",
       "..                                                 ...         ...   \n",
       "909  @kenyanwalstreet Not actually a payout, just a...          11   \n",
       "910  It may never pay out, as the stock can�t b� ht...          31   \n",
       "911                                    Details Aug 28.           3   \n",
       "912  AI symbiosis while u wait @vistacruiser7 @flcn...          47   \n",
       "913  @TeslaGong @PPathole Samwise Gamgee @PPathole ...          15   \n",
       "\n",
       "     sentiment_scores  \n",
       "0                   0  \n",
       "1                   0  \n",
       "2                   3  \n",
       "3                   3  \n",
       "4                   0  \n",
       "..                ...  \n",
       "909                 0  \n",
       "910                -4  \n",
       "911                 0  \n",
       "912                -2  \n",
       "913                 0  \n",
       "\n",
       "[914 rows x 3 columns]"
      ]
     },
     "execution_count": 121,
     "metadata": {},
     "output_type": "execute_result"
    }
   ],
   "source": [
    "sent_df"
   ]
  },
  {
   "cell_type": "code",
   "execution_count": 122,
   "id": "e4d28b55",
   "metadata": {},
   "outputs": [
    {
     "data": {
      "text/html": [
       "<div>\n",
       "<style scoped>\n",
       "    .dataframe tbody tr th:only-of-type {\n",
       "        vertical-align: middle;\n",
       "    }\n",
       "\n",
       "    .dataframe tbody tr th {\n",
       "        vertical-align: top;\n",
       "    }\n",
       "\n",
       "    .dataframe thead th {\n",
       "        text-align: right;\n",
       "    }\n",
       "</style>\n",
       "<table border=\"1\" class=\"dataframe\">\n",
       "  <thead>\n",
       "    <tr style=\"text-align: right;\">\n",
       "      <th></th>\n",
       "      <th>sentences</th>\n",
       "      <th>word_count</th>\n",
       "      <th>sentiment_scores</th>\n",
       "    </tr>\n",
       "  </thead>\n",
       "  <tbody>\n",
       "    <tr>\n",
       "      <th>588</th>\n",
       "      <td>@ARKInvest @aurmanARK Good analysis @PPathole ...</td>\n",
       "      <td>20</td>\n",
       "      <td>9</td>\n",
       "    </tr>\n",
       "    <tr>\n",
       "      <th>42</th>\n",
       "      <td>@thejackbeyer @NASASpaceflight Cryoproof, then...</td>\n",
       "      <td>85</td>\n",
       "      <td>9</td>\n",
       "    </tr>\n",
       "    <tr>\n",
       "      <th>835</th>\n",
       "      <td>Giving each person money allows them to decid�...</td>\n",
       "      <td>49</td>\n",
       "      <td>9</td>\n",
       "    </tr>\n",
       "    <tr>\n",
       "      <th>122</th>\n",
       "      <td>It isn�t enough to be safer than human drivers...</td>\n",
       "      <td>51</td>\n",
       "      <td>9</td>\n",
       "    </tr>\n",
       "    <tr>\n",
       "      <th>644</th>\n",
       "      <td>It�s not useful for predicting the future, nor...</td>\n",
       "      <td>118</td>\n",
       "      <td>9</td>\n",
       "    </tr>\n",
       "    <tr>\n",
       "      <th>76</th>\n",
       "      <td>&lt;U+0001F5A4&gt; RT @SpaceX: Falcon 9 launches Sta...</td>\n",
       "      <td>109</td>\n",
       "      <td>9</td>\n",
       "    </tr>\n",
       "    <tr>\n",
       "      <th>101</th>\n",
       "      <td>@BoredElonMusk &lt;U+0001F923&gt;&lt;U+0001F923&gt; @erigg...</td>\n",
       "      <td>34</td>\n",
       "      <td>9</td>\n",
       "    </tr>\n",
       "    <tr>\n",
       "      <th>149</th>\n",
       "      <td>@GUNMTLM3 @lexfridman No, but definitely this ...</td>\n",
       "      <td>45</td>\n",
       "      <td>10</td>\n",
       "    </tr>\n",
       "    <tr>\n",
       "      <th>181</th>\n",
       "      <td>There�s some great AI out ther� https://t.co/v...</td>\n",
       "      <td>48</td>\n",
       "      <td>10</td>\n",
       "    </tr>\n",
       "    <tr>\n",
       "      <th>523</th>\n",
       "      <td>@TeslaClubIN @WholeMarsBlog @MKBHD Next year f...</td>\n",
       "      <td>121</td>\n",
       "      <td>10</td>\n",
       "    </tr>\n",
       "    <tr>\n",
       "      <th>157</th>\n",
       "      <td>@harsimranbansal @heydave7 It will most likely...</td>\n",
       "      <td>93</td>\n",
       "      <td>11</td>\n",
       "    </tr>\n",
       "    <tr>\n",
       "      <th>808</th>\n",
       "      <td>Might be able to� https://t.co/FB7e5nOq2E @Pri...</td>\n",
       "      <td>72</td>\n",
       "      <td>11</td>\n",
       "    </tr>\n",
       "    <tr>\n",
       "      <th>222</th>\n",
       "      <td>@PPathole @karpathy For a second there, I thou...</td>\n",
       "      <td>69</td>\n",
       "      <td>11</td>\n",
       "    </tr>\n",
       "    <tr>\n",
       "      <th>182</th>\n",
       "      <td>Also, w� https://t.co/IYdKttVsqk @cleantechnic...</td>\n",
       "      <td>99</td>\n",
       "      <td>12</td>\n",
       "    </tr>\n",
       "    <tr>\n",
       "      <th>80</th>\n",
       "      <td>@teslaownersSV This is a good one @MrBeastYT I...</td>\n",
       "      <td>38</td>\n",
       "      <td>13</td>\n",
       "    </tr>\n",
       "    <tr>\n",
       "      <th>638</th>\n",
       "      <td>It�s� https://t.co/IxhyT6NuiC @Teslarati Tesla...</td>\n",
       "      <td>65</td>\n",
       "      <td>13</td>\n",
       "    </tr>\n",
       "    <tr>\n",
       "      <th>578</th>\n",
       "      <td>The �open� areas� https://t.co/rabjKrtQlw @Sav...</td>\n",
       "      <td>138</td>\n",
       "      <td>14</td>\n",
       "    </tr>\n",
       "    <tr>\n",
       "      <th>710</th>\n",
       "      <td>We just haven�t observed the� https://t.co/mez...</td>\n",
       "      <td>72</td>\n",
       "      <td>15</td>\n",
       "    </tr>\n",
       "    <tr>\n",
       "      <th>36</th>\n",
       "      <td>@ajtourville @Erdayastronaut @SpaceX Yes, but ...</td>\n",
       "      <td>231</td>\n",
       "      <td>16</td>\n",
       "    </tr>\n",
       "    <tr>\n",
       "      <th>104</th>\n",
       "      <td>@Erdayastronaut @SpaceX Was also thinking that...</td>\n",
       "      <td>94</td>\n",
       "      <td>16</td>\n",
       "    </tr>\n",
       "  </tbody>\n",
       "</table>\n",
       "</div>"
      ],
      "text/plain": [
       "                                             sentences  word_count  \\\n",
       "588  @ARKInvest @aurmanARK Good analysis @PPathole ...          20   \n",
       "42   @thejackbeyer @NASASpaceflight Cryoproof, then...          85   \n",
       "835  Giving each person money allows them to decid�...          49   \n",
       "122  It isn�t enough to be safer than human drivers...          51   \n",
       "644  It�s not useful for predicting the future, nor...         118   \n",
       "76   <U+0001F5A4> RT @SpaceX: Falcon 9 launches Sta...         109   \n",
       "101  @BoredElonMusk <U+0001F923><U+0001F923> @erigg...          34   \n",
       "149  @GUNMTLM3 @lexfridman No, but definitely this ...          45   \n",
       "181  There�s some great AI out ther� https://t.co/v...          48   \n",
       "523  @TeslaClubIN @WholeMarsBlog @MKBHD Next year f...         121   \n",
       "157  @harsimranbansal @heydave7 It will most likely...          93   \n",
       "808  Might be able to� https://t.co/FB7e5nOq2E @Pri...          72   \n",
       "222  @PPathole @karpathy For a second there, I thou...          69   \n",
       "182  Also, w� https://t.co/IYdKttVsqk @cleantechnic...          99   \n",
       "80   @teslaownersSV This is a good one @MrBeastYT I...          38   \n",
       "638  It�s� https://t.co/IxhyT6NuiC @Teslarati Tesla...          65   \n",
       "578  The �open� areas� https://t.co/rabjKrtQlw @Sav...         138   \n",
       "710  We just haven�t observed the� https://t.co/mez...          72   \n",
       "36   @ajtourville @Erdayastronaut @SpaceX Yes, but ...         231   \n",
       "104  @Erdayastronaut @SpaceX Was also thinking that...          94   \n",
       "\n",
       "     sentiment_scores  \n",
       "588                 9  \n",
       "42                  9  \n",
       "835                 9  \n",
       "122                 9  \n",
       "644                 9  \n",
       "76                  9  \n",
       "101                 9  \n",
       "149                10  \n",
       "181                10  \n",
       "523                10  \n",
       "157                11  \n",
       "808                11  \n",
       "222                11  \n",
       "182                12  \n",
       "80                 13  \n",
       "638                13  \n",
       "578                14  \n",
       "710                15  \n",
       "36                 16  \n",
       "104                16  "
      ]
     },
     "execution_count": 122,
     "metadata": {},
     "output_type": "execute_result"
    }
   ],
   "source": [
    "sent_df.sort_values(by = 'sentiment_scores').tail(20)"
   ]
  },
  {
   "cell_type": "code",
   "execution_count": 123,
   "id": "f56e927e",
   "metadata": {},
   "outputs": [
    {
     "data": {
      "text/html": [
       "<div>\n",
       "<style scoped>\n",
       "    .dataframe tbody tr th:only-of-type {\n",
       "        vertical-align: middle;\n",
       "    }\n",
       "\n",
       "    .dataframe tbody tr th {\n",
       "        vertical-align: top;\n",
       "    }\n",
       "\n",
       "    .dataframe thead th {\n",
       "        text-align: right;\n",
       "    }\n",
       "</style>\n",
       "<table border=\"1\" class=\"dataframe\">\n",
       "  <thead>\n",
       "    <tr style=\"text-align: right;\">\n",
       "      <th></th>\n",
       "      <th>sentences</th>\n",
       "      <th>word_count</th>\n",
       "      <th>sentiment_scores</th>\n",
       "    </tr>\n",
       "  </thead>\n",
       "  <tbody>\n",
       "    <tr>\n",
       "      <th>36</th>\n",
       "      <td>@ajtourville @Erdayastronaut @SpaceX Yes, but ...</td>\n",
       "      <td>231</td>\n",
       "      <td>16</td>\n",
       "    </tr>\n",
       "    <tr>\n",
       "      <th>104</th>\n",
       "      <td>@Erdayastronaut @SpaceX Was also thinking that...</td>\n",
       "      <td>94</td>\n",
       "      <td>16</td>\n",
       "    </tr>\n",
       "    <tr>\n",
       "      <th>710</th>\n",
       "      <td>We just haven�t observed the� https://t.co/mez...</td>\n",
       "      <td>72</td>\n",
       "      <td>15</td>\n",
       "    </tr>\n",
       "  </tbody>\n",
       "</table>\n",
       "</div>"
      ],
      "text/plain": [
       "                                             sentences  word_count  \\\n",
       "36   @ajtourville @Erdayastronaut @SpaceX Yes, but ...         231   \n",
       "104  @Erdayastronaut @SpaceX Was also thinking that...          94   \n",
       "710  We just haven�t observed the� https://t.co/mez...          72   \n",
       "\n",
       "     sentiment_scores  \n",
       "36                 16  \n",
       "104                16  \n",
       "710                15  "
      ]
     },
     "execution_count": 123,
     "metadata": {},
     "output_type": "execute_result"
    }
   ],
   "source": [
    "sent_df[sent_df['sentiment_scores']>=15]"
   ]
  },
  {
   "cell_type": "code",
   "execution_count": 124,
   "id": "87fe39ec",
   "metadata": {},
   "outputs": [
    {
     "data": {
      "text/html": [
       "<div>\n",
       "<style scoped>\n",
       "    .dataframe tbody tr th:only-of-type {\n",
       "        vertical-align: middle;\n",
       "    }\n",
       "\n",
       "    .dataframe tbody tr th {\n",
       "        vertical-align: top;\n",
       "    }\n",
       "\n",
       "    .dataframe thead th {\n",
       "        text-align: right;\n",
       "    }\n",
       "</style>\n",
       "<table border=\"1\" class=\"dataframe\">\n",
       "  <thead>\n",
       "    <tr style=\"text-align: right;\">\n",
       "      <th></th>\n",
       "      <th>sentences</th>\n",
       "      <th>word_count</th>\n",
       "      <th>sentiment_scores</th>\n",
       "    </tr>\n",
       "  </thead>\n",
       "  <tbody>\n",
       "    <tr>\n",
       "      <th>6</th>\n",
       "      <td>https://t.co/9WFKMYu2oj Frodo was the underdog...</td>\n",
       "      <td>14</td>\n",
       "      <td>-2</td>\n",
       "    </tr>\n",
       "    <tr>\n",
       "      <th>11</th>\n",
       "      <td>However, if we don� https://t.co/9Z8Ac6skqx @R...</td>\n",
       "      <td>40</td>\n",
       "      <td>-3</td>\n",
       "    </tr>\n",
       "    <tr>\n",
       "      <th>16</th>\n",
       "      <td>That�s what you�re missing.</td>\n",
       "      <td>4</td>\n",
       "      <td>-2</td>\n",
       "    </tr>\n",
       "    <tr>\n",
       "      <th>23</th>\n",
       "      <td>https://t.co/UEEocOfcTb The people have spoken...</td>\n",
       "      <td>38</td>\n",
       "      <td>-3</td>\n",
       "    </tr>\n",
       "    <tr>\n",
       "      <th>47</th>\n",
       "      <td>Would be better to have small fees than no fee...</td>\n",
       "      <td>48</td>\n",
       "      <td>-2</td>\n",
       "    </tr>\n",
       "    <tr>\n",
       "      <th>...</th>\n",
       "      <td>...</td>\n",
       "      <td>...</td>\n",
       "      <td>...</td>\n",
       "    </tr>\n",
       "    <tr>\n",
       "      <th>877</th>\n",
       "      <td>This is primarily an electrical/electronic (ch...</td>\n",
       "      <td>69</td>\n",
       "      <td>-2</td>\n",
       "    </tr>\n",
       "    <tr>\n",
       "      <th>878</th>\n",
       "      <td>Will those who write the algorithms ever reali...</td>\n",
       "      <td>11</td>\n",
       "      <td>-3</td>\n",
       "    </tr>\n",
       "    <tr>\n",
       "      <th>885</th>\n",
       "      <td>No expert installer required.� https://t.co/xn...</td>\n",
       "      <td>36</td>\n",
       "      <td>-1</td>\n",
       "    </tr>\n",
       "    <tr>\n",
       "      <th>910</th>\n",
       "      <td>It may never pay out, as the stock can�t b� ht...</td>\n",
       "      <td>31</td>\n",
       "      <td>-4</td>\n",
       "    </tr>\n",
       "    <tr>\n",
       "      <th>912</th>\n",
       "      <td>AI symbiosis while u wait @vistacruiser7 @flcn...</td>\n",
       "      <td>47</td>\n",
       "      <td>-2</td>\n",
       "    </tr>\n",
       "  </tbody>\n",
       "</table>\n",
       "<p>108 rows × 3 columns</p>\n",
       "</div>"
      ],
      "text/plain": [
       "                                             sentences  word_count  \\\n",
       "6    https://t.co/9WFKMYu2oj Frodo was the underdog...          14   \n",
       "11   However, if we don� https://t.co/9Z8Ac6skqx @R...          40   \n",
       "16                         That�s what you�re missing.           4   \n",
       "23   https://t.co/UEEocOfcTb The people have spoken...          38   \n",
       "47   Would be better to have small fees than no fee...          48   \n",
       "..                                                 ...         ...   \n",
       "877  This is primarily an electrical/electronic (ch...          69   \n",
       "878  Will those who write the algorithms ever reali...          11   \n",
       "885  No expert installer required.� https://t.co/xn...          36   \n",
       "910  It may never pay out, as the stock can�t b� ht...          31   \n",
       "912  AI symbiosis while u wait @vistacruiser7 @flcn...          47   \n",
       "\n",
       "     sentiment_scores  \n",
       "6                  -2  \n",
       "11                 -3  \n",
       "16                 -2  \n",
       "23                 -3  \n",
       "47                 -2  \n",
       "..                ...  \n",
       "877                -2  \n",
       "878                -3  \n",
       "885                -1  \n",
       "910                -4  \n",
       "912                -2  \n",
       "\n",
       "[108 rows x 3 columns]"
      ]
     },
     "execution_count": 124,
     "metadata": {},
     "output_type": "execute_result"
    }
   ],
   "source": [
    "sent_df[sent_df['sentiment_scores']<0]"
   ]
  },
  {
   "cell_type": "code",
   "execution_count": 125,
   "id": "6d94e81b",
   "metadata": {},
   "outputs": [
    {
     "data": {
      "text/plain": [
       "count    914.000000\n",
       "mean       1.374179\n",
       "std        2.704916\n",
       "min       -8.000000\n",
       "25%        0.000000\n",
       "50%        0.000000\n",
       "75%        3.000000\n",
       "max       16.000000\n",
       "Name: sentiment_scores, dtype: float64"
      ]
     },
     "execution_count": 125,
     "metadata": {},
     "output_type": "execute_result"
    }
   ],
   "source": [
    "sent_df['sentiment_scores'].describe()"
   ]
  },
  {
   "cell_type": "code",
   "execution_count": 126,
   "id": "52ba3722",
   "metadata": {},
   "outputs": [],
   "source": [
    "# Visualizing the sentiment scores\n",
    "import seaborn as sns\n",
    "import warnings\n",
    "warnings.filterwarnings('ignore')"
   ]
  },
  {
   "cell_type": "code",
   "execution_count": 127,
   "id": "f17c51cd",
   "metadata": {},
   "outputs": [
    {
     "data": {
      "text/plain": [
       "<AxesSubplot:xlabel='sentiment_scores', ylabel='Density'>"
      ]
     },
     "execution_count": 127,
     "metadata": {},
     "output_type": "execute_result"
    },
    {
     "data": {
      "image/png": "[encoded data removed]",
      "text/plain": [
       "<Figure size 720x576 with 1 Axes>"
      ]
     },
     "metadata": {
      "needs_background": "light"
     },
     "output_type": "display_data"
    }
   ],
   "source": [
    "plt.figure(figsize =(10,8))\n",
    "sns.distplot(sent_df['sentiment_scores'])"
   ]
  },
  {
   "cell_type": "code",
   "execution_count": 128,
   "id": "9d704b8e",
   "metadata": {},
   "outputs": [
    {
     "data": {
      "text/plain": [
       "<AxesSubplot:ylabel='sentiment_scores'>"
      ]
     },
     "execution_count": 128,
     "metadata": {},
     "output_type": "execute_result"
    },
    {
     "data": {
      "image/png": "[encoded data removed]",
      "text/plain": [
       "<Figure size 1080x720 with 1 Axes>"
      ]
     },
     "metadata": {
      "needs_background": "light"
     },
     "output_type": "display_data"
    }
   ],
   "source": [
    "plt.figure(figsize=(15, 10))\n",
    "sns.lineplot(x = sent_df.index, y = sent_df['sentiment_scores'], data = sent_df)"
   ]
  },
  {
   "cell_type": "code",
   "execution_count": null,
   "id": "e01cd4e8",
   "metadata": {},
   "outputs": [],
   "source": []
  }
 ],
 "metadata": {
  "_draft": {
   "nbviewer_url": "https://gist.github.com/463e316ea7c5c5dc6de03c88f736cb10"
  },
  "gist": {
   "data": {
    "description": "text mining elon musk data",
    "public": true
   },
   "id": "463e316ea7c5c5dc6de03c88f736cb10"
  },
  "kernelspec": {
   "display_name": "Python 3",
   "language": "python",
   "name": "python3"
  },
  "language_info": {
   "codemirror_mode": {
    "name": "ipython",
    "version": 3
   },
   "file_extension": ".py",
   "mimetype": "text/x-python",
   "name": "python",
   "nbconvert_exporter": "python",
   "pygments_lexer": "ipython3",
   "version": "3.8.8"
  }
 },
 "nbformat": 4,
 "nbformat_minor": 5
}
